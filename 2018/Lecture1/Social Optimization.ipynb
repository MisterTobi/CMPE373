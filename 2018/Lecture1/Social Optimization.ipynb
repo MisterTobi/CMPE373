{
 "cells": [
  {
   "cell_type": "code",
   "execution_count": 1,
   "metadata": {},
   "outputs": [],
   "source": [
    "from random import randint\n",
    "import numpy as np\n",
    "import matplotlib.pyplot as plt\n",
    "%matplotlib inline"
   ]
  },
  {
   "cell_type": "code",
   "execution_count": 2,
   "metadata": {},
   "outputs": [],
   "source": [
    "class socialMan():\n",
    "    def __init__(self, ID, X, y, max_w, w_shape):\n",
    "        self.ID, self.X, self.y, self.max_w = ID, X, y, max_w\n",
    "        self.W = self.max_w * np.random.rand(*(w_shape))\n",
    "    \n",
    "    def immitate(self, other): # immitate betters\n",
    "        if other.performance() > self.performance():\n",
    "            row = np.random.randint(other.W.shape[0])\n",
    "            self.W[row,:] = other.W[row,:]\n",
    "        if np.random.rand() < 0.1: # Go on your own\n",
    "            row = np.random.randint(self.W.shape[0])\n",
    "            self.W[row,:] = self.max_w * np.random.rand(self.W.shape[1])\n",
    "    \n",
    "    def performance(self):\n",
    "        return 1/(1+np.sum(np.power(self.y - self.W.T.dot(self.X),2)))\n",
    "    \n",
    "class socialWorld():\n",
    "    def __init__(self, X, y, N = 20, time = 10000, max_w = 20, w_shape = (2,1)):\n",
    "        self.X, self.y, self.N, self.time = X, y, N, time\n",
    "        self.socialMen = [socialMan(i, X=X, y=y, max_w = max_w, w_shape = w_shape) \n",
    "                          for i in range(self.N)]\n",
    "        \n",
    "    def best(self):\n",
    "        score, who = self.socialMen[0].performance(), 0\n",
    "        for i in range(self.N):\n",
    "            if self.socialMen[i].performance() > score:\n",
    "                score, who = self.socialMen[i].performance(), i\n",
    "        return self.socialMen[who].W\n",
    "    \n",
    "    def predict(self, X):\n",
    "        return self.best().T.dot(X)\n",
    "    \n",
    "    def runTheWorld(self):\n",
    "        for i in range(self.time):\n",
    "            pair = np.random.randint(self.N, size = 2)\n",
    "            A, B = pair[0], pair[1]\n",
    "            self.socialMen[A].immitate(self.socialMen[B])\n",
    "        return self.best() "
   ]
  },
  {
   "cell_type": "code",
   "execution_count": 3,
   "metadata": {},
   "outputs": [
    {
     "data": {
      "text/plain": [
       "<matplotlib.legend.Legend at 0x1a1f388cf8>"
      ]
     },
     "execution_count": 3,
     "metadata": {},
     "output_type": "execute_result"
    },
    {
     "data": {
      "image/png": "[encoded data removed]",
      "text/plain": [
       "<matplotlib.figure.Figure at 0x1a1baa3550>"
      ]
     },
     "metadata": {},
     "output_type": "display_data"
    }
   ],
   "source": [
    "# Generate Data From Correct (Hidden) Function with Noise\n",
    "correctW, M = np.array([[10],[5]]), 20 # M observations\n",
    "X = np.array([np.ones(M),np.arange(M)])\n",
    "y = correctW.T.dot(X) + np.random.randn(X.shape[1])\n",
    "# Linear Regression from Scikit-Learn\n",
    "from sklearn.linear_model import LinearRegression\n",
    "X_train = np.arange(M).reshape(M,1)\n",
    "lr = LinearRegression()\n",
    "lr.fit(X_train, y.T)\n",
    "y_pred = lr.predict(X_train)  \n",
    "# Social World Optimization\n",
    "world = socialWorld(X=X, y=y)\n",
    "world.runTheWorld()\n",
    "# Plot Results\n",
    "plt.scatter(X_train, y ); #Points are observations\n",
    "plt.plot(X_train, y_pred, 'g')\n",
    "plt.plot(X_train, world.predict(X).T, 'r')\n",
    "plt.plot(X_train, correctW.T.dot(X).T, 'b')\n",
    "plt.grid()\n",
    "plt.legend((\"Sklearn-LR\", \"SocialWorld\", \"Actual\"))"
   ]
  },
  {
   "cell_type": "code",
   "execution_count": null,
   "metadata": {},
   "outputs": [],
   "source": []
  },
  {
   "cell_type": "code",
   "execution_count": 48,
   "metadata": {},
   "outputs": [
    {
     "data": {
      "text/plain": [
       "array([[ 0],\n",
       "       [ 1],\n",
       "       [ 2],\n",
       "       [ 3],\n",
       "       [ 4],\n",
       "       [ 5],\n",
       "       [ 6],\n",
       "       [ 7],\n",
       "       [ 8],\n",
       "       [ 9],\n",
       "       [10],\n",
       "       [11],\n",
       "       [12],\n",
       "       [13],\n",
       "       [14],\n",
       "       [15],\n",
       "       [16],\n",
       "       [17],\n",
       "       [18],\n",
       "       [19]])"
      ]
     },
     "execution_count": 48,
     "metadata": {},
     "output_type": "execute_result"
    }
   ],
   "source": [
    "X_train"
   ]
  },
  {
   "cell_type": "code",
   "execution_count": null,
   "metadata": {
    "collapsed": true
   },
   "outputs": [],
   "source": []
  },
  {
   "cell_type": "code",
   "execution_count": null,
   "metadata": {
    "collapsed": true
   },
   "outputs": [],
   "source": []
  },
  {
   "cell_type": "code",
   "execution_count": null,
   "metadata": {
    "collapsed": true
   },
   "outputs": [],
   "source": []
  }
 ],
 "metadata": {
  "kernelspec": {
   "display_name": "Python 3",
   "language": "python",
   "name": "python3"
  },
  "language_info": {
   "codemirror_mode": {
    "name": "ipython",
    "version": 3
   },
   "file_extension": ".py",
   "mimetype": "text/x-python",
   "name": "python",
   "nbconvert_exporter": "python",
   "pygments_lexer": "ipython3",
   "version": "3.6.7"
  }
 },
 "nbformat": 4,
 "nbformat_minor": 2
}
