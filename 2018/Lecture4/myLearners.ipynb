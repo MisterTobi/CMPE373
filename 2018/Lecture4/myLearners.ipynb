{
 "cells": [
  {
   "cell_type": "code",
   "execution_count": 1,
   "metadata": {
    "colab": {
     "autoexec": {
      "startup": false,
      "wait_interval": 0
     },
     "base_uri": "https://localhost:8080/",
     "height": 349,
     "output_extras": [
      {
       "item_id": 1
      },
      {
       "item_id": 2
      }
     ]
    },
    "colab_type": "code",
    "executionInfo": {
     "elapsed": 1233,
     "status": "ok",
     "timestamp": 1522334315092,
     "user": {
      "displayName": "uzay cetin",
      "photoUrl": "https://lh3.googleusercontent.com/a/default-user=s128",
      "userId": "105570260242031246200"
     },
     "user_tz": -180
    },
    "id": "dsD9l06yBc6H",
    "outputId": "412312ea-86e1-4ad4-eaee-4f0939305615"
   },
   "outputs": [
    {
     "name": "stderr",
     "output_type": "stream",
     "text": [
      "/usr/local/lib/python3.6/dist-packages/sklearn/cross_validation.py:41: DeprecationWarning: This module was deprecated in version 0.18 in favor of the model_selection module into which all the refactored classes and functions are moved. Also note that the interface of the new CV iterators are different from that of this module. This module will be removed in 0.20.\n",
      "  \"This module will be removed in 0.20.\", DeprecationWarning)\n"
     ]
    },
    {
     "data": {
      "image/png": "[encoded data removed]",
      "text/plain": [
       "<matplotlib.figure.Figure at 0x7fb60bdfdf60>"
      ]
     },
     "metadata": {
      "tags": []
     },
     "output_type": "display_data"
    }
   ],
   "source": [
    "# Importing the libraries\n",
    "import numpy as np\n",
    "import matplotlib.pyplot as plt\n",
    "%matplotlib inline  \n",
    "import pandas as pd\n",
    "from sklearn.cross_validation import train_test_split\n",
    "from sklearn.linear_model import LinearRegression\n",
    "\n",
    "# Importing the dataset from the url\n",
    "url = 'https://raw.githubusercontent.com/uzay00/KaVe/master/Ders2/data/Salary_Data.csv'\n",
    "data = pd.read_csv(url)\n",
    "X = data.iloc[:, :-1].values\n",
    "y = data.iloc[:, -1].values\n",
    "\n",
    "# Split dataset into train ab=nd test sets\n",
    "X_train, X_test, y_train, t_test = train_test_split(X,y,test_size = 1/3, random_state = 0)\n",
    "\n",
    "# fit simple linear regression model to the data\n",
    "lr = LinearRegression()\n",
    "lr.fit(X_train, y_train)\n",
    "# make predicitions\n",
    "y_pred = lr.predict(X_test)\n",
    "\n",
    "# Plot\n",
    "plt.scatter(X_train, y_train, color = 'red')\n",
    "plt.plot(X_train, lr.predict(X_train))\n",
    "plt.title('Experience vs Salary'); plt.xlabel('Years of Experience');plt.ylabel('Salary');\n",
    "#plt.xlabel('Population of City in 10,000s');plt.ylabel('Profit in $10,000s');\n",
    "plt.grid()"
   ]
  },
  {
   "cell_type": "markdown",
   "metadata": {
    "colab_type": "text",
    "id": "3h3mG8aUS1rT"
   },
   "source": [
    "![alt text](https://raw.githubusercontent.com/uzay00/KaVe/master/Ders3/data/uzun.png)"
   ]
  },
  {
   "cell_type": "code",
   "execution_count": 0,
   "metadata": {
    "colab": {
     "autoexec": {
      "startup": false,
      "wait_interval": 0
     }
    },
    "colab_type": "code",
    "id": "DhPQX4tGQpil"
   },
   "outputs": [],
   "source": [
    "class myRegression():\n",
    "    def __init__(self,X_train, y_train):\n",
    "        self.m, self.n = X_train.shape\n",
    "        self.n += 1 # Add one for x_0 column \n",
    "        \n",
    "        self.X_train = np.hstack((np.ones((self.m,1)), X_train))\n",
    "        self.y_train = y_train.reshape((self.m,1))\n",
    "        self.W = np.random.randn(self.n,1)\n",
    "        print(self.W)\n",
    "            \n",
    "    def cost(self):\n",
    "        h = self.X_train.dot(self.W)\n",
    "        return np.sum(np.power(h-self.y_train,2))/ (2*self.m)\n",
    "\n",
    "    def derivative(self):\n",
    "        h = self.X_train.dot(self.W)  \n",
    "        derivative = np.sum(self.X_train * (h-self.y_train), axis=0)/ self.m\n",
    "        return derivative.reshape(self.W.shape)\n",
    "\n",
    "    def gradient_descent(self, alpha = 0.05, number_steps = 10000):\n",
    "        for i in range(number_steps):\n",
    "            self.W = self.W - alpha * self.derivative()\n",
    "        return self.W\n",
    "    \n",
    "    def predict(self, X_test):\n",
    "        m, n = X_test.shape\n",
    "        X_test = np.hstack((np.ones((m,1)), X_test))\n",
    "        return X_test.dot(self.W)\n",
    "    \n",
    "    def fit(self):\n",
    "        self.W = self.gradient_descent()"
   ]
  },
  {
   "cell_type": "code",
   "execution_count": 5,
   "metadata": {
    "colab": {
     "autoexec": {
      "startup": false,
      "wait_interval": 0
     },
     "base_uri": "https://localhost:8080/",
     "height": 329,
     "output_extras": [
      {
       "item_id": 1
      },
      {
       "item_id": 2
      }
     ]
    },
    "colab_type": "code",
    "executionInfo": {
     "elapsed": 777,
     "status": "ok",
     "timestamp": 1522335455539,
     "user": {
      "displayName": "uzay cetin",
      "photoUrl": "https://lh3.googleusercontent.com/a/default-user=s128",
      "userId": "105570260242031246200"
     },
     "user_tz": -180
    },
    "id": "I1N3QkuRQrgV",
    "outputId": "c71a75b4-f75d-4cc2-a148-6218bf3b461b"
   },
   "outputs": [
    {
     "name": "stdout",
     "output_type": "stream",
     "text": [
      "[[-1.2341481 ]\n",
      " [-0.35307438]]\n"
     ]
    },
    {
     "data": {
      "image/png": "[encoded data removed]",
      "text/plain": [
       "<matplotlib.figure.Figure at 0x7fb60040b160>"
      ]
     },
     "metadata": {
      "tags": []
     },
     "output_type": "display_data"
    }
   ],
   "source": [
    "# Importing the libraries\n",
    "import numpy as np\n",
    "import matplotlib.pyplot as plt\n",
    "%matplotlib inline  \n",
    "import pandas as pd\n",
    "from sklearn.cross_validation import train_test_split\n",
    "from sklearn.linear_model import LinearRegression\n",
    "\n",
    "# Importing the dataset from the url\n",
    "url = 'https://raw.githubusercontent.com/uzay00/KaVe/master/Ders2/data/Salary_Data.csv'\n",
    "data = pd.read_csv(url)\n",
    "X = data.iloc[:, :-1].values\n",
    "y = data.iloc[:, -1].values\n",
    "\n",
    "# Split dataset into train ab=nd test sets\n",
    "X_train, X_test, y_train, t_test = train_test_split(X,y,test_size = 1/3, random_state = 0)\n",
    "\n",
    "\n",
    "############################################################\n",
    "# fit simple linear regression model to the data\n",
    "lr = LinearRegression()\n",
    "lr.fit(X_train, y_train)\n",
    "# make predicitions\n",
    "y_pred = lr.predict(X_test)\n",
    "############################################################\n",
    "# fit simple linear regression model to the data\n",
    "mr = myRegression(X_train, y_train)\n",
    "mr.fit()\n",
    "# make predicitions\n",
    "y_mr_pred = mr.predict(X_test)\n",
    "############################################################\n",
    "\n",
    "# Plot\n",
    "plt.scatter(X_train, y_train, color = 'red')\n",
    "plt.plot(X_train, lr.predict(X_train), color = 'blue')\n",
    "plt.plot(X_train, mr.predict(X_train), color = 'green')\n",
    "plt.title('Experience vs Salary'); plt.xlabel('Years of Experience');plt.ylabel('Salary');\n",
    "plt.legend((\"Sklearn-LR\", \"My Regression\"))\n",
    "plt.grid()"
   ]
  },
  {
   "cell_type": "code",
   "execution_count": 6,
   "metadata": {
    "colab": {
     "autoexec": {
      "startup": false,
      "wait_interval": 0
     },
     "base_uri": "https://localhost:8080/",
     "height": 34,
     "output_extras": [
      {
       "item_id": 1
      }
     ]
    },
    "colab_type": "code",
    "executionInfo": {
     "elapsed": 501,
     "status": "ok",
     "timestamp": 1522337617880,
     "user": {
      "displayName": "uzay cetin",
      "photoUrl": "https://lh3.googleusercontent.com/a/default-user=s128",
      "userId": "105570260242031246200"
     },
     "user_tz": -180
    },
    "id": "GC43OALkQw28",
    "outputId": "092df2ff-6b75-4359-90b1-5b2e88301a0b"
   },
   "outputs": [
    {
     "data": {
      "text/plain": [
       "36"
      ]
     },
     "execution_count": 6,
     "metadata": {
      "tags": []
     },
     "output_type": "execute_result"
    }
   ],
   "source": [
    "X = np.array([[1,0,0],[1,1,1],[1,2,2],[1,3,3],[1,4,4],[1,5,5]])\n",
    "np.sum(X)"
   ]
  },
  {
   "cell_type": "code",
   "execution_count": 7,
   "metadata": {
    "colab": {
     "autoexec": {
      "startup": false,
      "wait_interval": 0
     },
     "base_uri": "https://localhost:8080/",
     "height": 121,
     "output_extras": [
      {
       "item_id": 1
      }
     ]
    },
    "colab_type": "code",
    "executionInfo": {
     "elapsed": 497,
     "status": "ok",
     "timestamp": 1522337627518,
     "user": {
      "displayName": "uzay cetin",
      "photoUrl": "https://lh3.googleusercontent.com/a/default-user=s128",
      "userId": "105570260242031246200"
     },
     "user_tz": -180
    },
    "id": "4nsmweAIZJWe",
    "outputId": "d558da0a-065f-44ec-a131-c16f3e090c85"
   },
   "outputs": [
    {
     "data": {
      "text/plain": [
       "array([[1, 0, 0],\n",
       "       [1, 1, 1],\n",
       "       [1, 2, 2],\n",
       "       [1, 3, 3],\n",
       "       [1, 4, 4],\n",
       "       [1, 5, 5]])"
      ]
     },
     "execution_count": 7,
     "metadata": {
      "tags": []
     },
     "output_type": "execute_result"
    }
   ],
   "source": [
    "X"
   ]
  },
  {
   "cell_type": "code",
   "execution_count": 8,
   "metadata": {
    "colab": {
     "autoexec": {
      "startup": false,
      "wait_interval": 0
     },
     "base_uri": "https://localhost:8080/",
     "height": 34,
     "output_extras": [
      {
       "item_id": 1
      }
     ]
    },
    "colab_type": "code",
    "executionInfo": {
     "elapsed": 465,
     "status": "ok",
     "timestamp": 1522337679045,
     "user": {
      "displayName": "uzay cetin",
      "photoUrl": "https://lh3.googleusercontent.com/a/default-user=s128",
      "userId": "105570260242031246200"
     },
     "user_tz": -180
    },
    "id": "SmcR3Qs-ZLtO",
    "outputId": "c2ac3fef-47aa-4a5a-d727-a68a897b25ec"
   },
   "outputs": [
    {
     "data": {
      "text/plain": [
       "array([ 6, 15, 15])"
      ]
     },
     "execution_count": 8,
     "metadata": {
      "tags": []
     },
     "output_type": "execute_result"
    }
   ],
   "source": [
    "np.sum(X, axis = 0)"
   ]
  },
  {
   "cell_type": "code",
   "execution_count": 10,
   "metadata": {
    "colab": {
     "autoexec": {
      "startup": false,
      "wait_interval": 0
     },
     "base_uri": "https://localhost:8080/",
     "height": 34,
     "output_extras": [
      {
       "item_id": 1
      }
     ]
    },
    "colab_type": "code",
    "executionInfo": {
     "elapsed": 565,
     "status": "ok",
     "timestamp": 1522338483840,
     "user": {
      "displayName": "uzay cetin",
      "photoUrl": "https://lh3.googleusercontent.com/a/default-user=s128",
      "userId": "105570260242031246200"
     },
     "user_tz": -180
    },
    "id": "OjWX2910ZYSt",
    "outputId": "4b56188d-43c2-4a36-9392-999a63ec0b7d"
   },
   "outputs": [
    {
     "data": {
      "text/plain": [
       "True"
      ]
     },
     "execution_count": 10,
     "metadata": {
      "tags": []
     },
     "output_type": "execute_result"
    }
   ],
   "source": [
    "h = 0.6\n",
    "threshold = 0.5\n",
    "p = h >= threshold\n",
    "p"
   ]
  },
  {
   "cell_type": "code",
   "execution_count": 0,
   "metadata": {
    "colab": {
     "autoexec": {
      "startup": false,
      "wait_interval": 0
     }
    },
    "colab_type": "code",
    "id": "_0PdGsYJccvx"
   },
   "outputs": [],
   "source": [
    "\n",
    "url =  \"https://raw.githubusercontent.com/uzay00/KaVe/master/Ders3/data/Social_Network_Ads.csv\""
   ]
  },
  {
   "cell_type": "code",
   "execution_count": 0,
   "metadata": {
    "colab": {
     "autoexec": {
      "startup": false,
      "wait_interval": 0
     }
    },
    "colab_type": "code",
    "id": "zTruz79Rcq_A"
   },
   "outputs": [],
   "source": [
    "dataset = pd.read_csv(url)"
   ]
  },
  {
   "cell_type": "code",
   "execution_count": 17,
   "metadata": {
    "colab": {
     "autoexec": {
      "startup": false,
      "wait_interval": 0
     },
     "base_uri": "https://localhost:8080/",
     "height": 202,
     "output_extras": [
      {
       "item_id": 1
      }
     ]
    },
    "colab_type": "code",
    "executionInfo": {
     "elapsed": 601,
     "status": "ok",
     "timestamp": 1522339987887,
     "user": {
      "displayName": "uzay cetin",
      "photoUrl": "https://lh3.googleusercontent.com/a/default-user=s128",
      "userId": "105570260242031246200"
     },
     "user_tz": -180
    },
    "id": "c0EOnkDodCFn",
    "outputId": "c0f75ada-c429-4799-986a-6b917b506360"
   },
   "outputs": [
    {
     "data": {
      "text/html": [
       "<div>\n",
       "<style scoped>\n",
       "    .dataframe tbody tr th:only-of-type {\n",
       "        vertical-align: middle;\n",
       "    }\n",
       "\n",
       "    .dataframe tbody tr th {\n",
       "        vertical-align: top;\n",
       "    }\n",
       "\n",
       "    .dataframe thead th {\n",
       "        text-align: right;\n",
       "    }\n",
       "</style>\n",
       "<table border=\"1\" class=\"dataframe\">\n",
       "  <thead>\n",
       "    <tr style=\"text-align: right;\">\n",
       "      <th></th>\n",
       "      <th>User ID</th>\n",
       "      <th>Gender</th>\n",
       "      <th>Age</th>\n",
       "      <th>EstimatedSalary</th>\n",
       "      <th>Purchased</th>\n",
       "    </tr>\n",
       "  </thead>\n",
       "  <tbody>\n",
       "    <tr>\n",
       "      <th>0</th>\n",
       "      <td>15624510</td>\n",
       "      <td>Male</td>\n",
       "      <td>19</td>\n",
       "      <td>19000</td>\n",
       "      <td>0</td>\n",
       "    </tr>\n",
       "    <tr>\n",
       "      <th>1</th>\n",
       "      <td>15810944</td>\n",
       "      <td>Male</td>\n",
       "      <td>35</td>\n",
       "      <td>20000</td>\n",
       "      <td>0</td>\n",
       "    </tr>\n",
       "    <tr>\n",
       "      <th>2</th>\n",
       "      <td>15668575</td>\n",
       "      <td>Female</td>\n",
       "      <td>26</td>\n",
       "      <td>43000</td>\n",
       "      <td>0</td>\n",
       "    </tr>\n",
       "    <tr>\n",
       "      <th>3</th>\n",
       "      <td>15603246</td>\n",
       "      <td>Female</td>\n",
       "      <td>27</td>\n",
       "      <td>57000</td>\n",
       "      <td>0</td>\n",
       "    </tr>\n",
       "    <tr>\n",
       "      <th>4</th>\n",
       "      <td>15804002</td>\n",
       "      <td>Male</td>\n",
       "      <td>19</td>\n",
       "      <td>76000</td>\n",
       "      <td>0</td>\n",
       "    </tr>\n",
       "  </tbody>\n",
       "</table>\n",
       "</div>"
      ],
      "text/plain": [
       "    User ID  Gender  Age  EstimatedSalary  Purchased\n",
       "0  15624510    Male   19            19000          0\n",
       "1  15810944    Male   35            20000          0\n",
       "2  15668575  Female   26            43000          0\n",
       "3  15603246  Female   27            57000          0\n",
       "4  15804002    Male   19            76000          0"
      ]
     },
     "execution_count": 17,
     "metadata": {
      "tags": []
     },
     "output_type": "execute_result"
    }
   ],
   "source": [
    "dataset.head()"
   ]
  },
  {
   "cell_type": "markdown",
   "metadata": {
    "colab_type": "text",
    "id": "DOAXUDJSTT7C"
   },
   "source": [
    "![alt text](https://raw.githubusercontent.com/uzay00/KaVe/master/Ders3/data/myclassifier.png)"
   ]
  },
  {
   "cell_type": "code",
   "execution_count": 0,
   "metadata": {
    "colab": {
     "autoexec": {
      "startup": false,
      "wait_interval": 0
     }
    },
    "colab_type": "code",
    "id": "bkKZZqUFirS0"
   },
   "outputs": [],
   "source": [
    "def sigmoid(z):\n",
    "    return(1 / (1 + np.exp(-z)))\n",
    "  \n",
    "class myClassification():\n",
    "    def __init__(self,X_train, y_train):\n",
    "        self.m, self.n = X_train.shape\n",
    "        self.n += 1 # Add one for x_0 column \n",
    "        \n",
    "        self.X_train = np.hstack((np.ones((self.m,1)), X_train))\n",
    "        self.y_train = y_train.reshape((self.m,1))\n",
    "        self.W = np.random.randn(self.n,1)\n",
    "            \n",
    "    def cost(self):\n",
    "        h = sigmoid(self.X_train.dot(self.W))\n",
    "        return np.sum(np.power(h-self.y_train,2))/ (2*self.m)\n",
    "\n",
    "    def derivative(self):\n",
    "        h = sigmoid(self.X_train.dot(self.W))\n",
    "        derivative = np.sum(self.X_train * (h-self.y_train) * h * (1-h) , axis=0)/ self.m\n",
    "        return derivative.reshape(self.W.shape)\n",
    "\n",
    "    def gradient_descent(self, alpha = 0.05, number_steps = 10000):\n",
    "        for i in range(number_steps):\n",
    "            self.W = self.W - alpha * self.derivative()\n",
    "        return self.W\n",
    "    \n",
    "    def predict(self, X_test, threshold=0.5):\n",
    "        m, n = X_test.shape\n",
    "        X_test = np.hstack((np.ones((m,1)), X_test))\n",
    "        h = sigmoid(X_test.dot(self.W)) \n",
    "        p = h >= threshold\n",
    "        return (p.astype('int'))\n",
    "\n",
    "    def fit(self):\n",
    "        self.W = self.gradient_descent()"
   ]
  },
  {
   "cell_type": "code",
   "execution_count": 18,
   "metadata": {
    "colab": {
     "autoexec": {
      "startup": false,
      "wait_interval": 0
     },
     "base_uri": "https://localhost:8080/",
     "height": 72,
     "output_extras": [
      {
       "item_id": 1
      }
     ]
    },
    "colab_type": "code",
    "executionInfo": {
     "elapsed": 564,
     "status": "ok",
     "timestamp": 1522340030595,
     "user": {
      "displayName": "uzay cetin",
      "photoUrl": "https://lh3.googleusercontent.com/a/default-user=s128",
      "userId": "105570260242031246200"
     },
     "user_tz": -180
    },
    "id": "Kz1Dt3EddEKv",
    "outputId": "755f7149-96bc-429d-8cb7-fcaba103f7bd"
   },
   "outputs": [
    {
     "name": "stderr",
     "output_type": "stream",
     "text": [
      "/usr/local/lib/python3.6/dist-packages/sklearn/utils/validation.py:475: DataConversionWarning: Data with input dtype int64 was converted to float64 by StandardScaler.\n",
      "  warnings.warn(msg, DataConversionWarning)\n"
     ]
    }
   ],
   "source": [
    "X = dataset.iloc[:, [2, 3]].values\n",
    "y = dataset.iloc[:, 4].values\n",
    "\n",
    "# Splitting the dataset into the Training set and Test set\n",
    "from sklearn.cross_validation import train_test_split\n",
    "X_train, X_test, y_train, y_test = train_test_split(X, y, test_size = 0.25, random_state = 0)\n",
    "\n",
    "# Feature Scaling\n",
    "from sklearn.preprocessing import StandardScaler\n",
    "sc = StandardScaler()\n",
    "X_train = sc.fit_transform(X_train)\n",
    "X_test = sc.transform(X_test)"
   ]
  },
  {
   "cell_type": "code",
   "execution_count": 19,
   "metadata": {
    "colab": {
     "autoexec": {
      "startup": false,
      "wait_interval": 0
     },
     "base_uri": "https://localhost:8080/",
     "height": 52,
     "output_extras": [
      {
       "item_id": 1
      }
     ]
    },
    "colab_type": "code",
    "executionInfo": {
     "elapsed": 454,
     "status": "ok",
     "timestamp": 1522340056978,
     "user": {
      "displayName": "uzay cetin",
      "photoUrl": "https://lh3.googleusercontent.com/a/default-user=s128",
      "userId": "105570260242031246200"
     },
     "user_tz": -180
    },
    "id": "22orDpbqiWYM",
    "outputId": "47ca9ba5-b840-46aa-a5ab-19e3877c1dd8"
   },
   "outputs": [
    {
     "name": "stdout",
     "output_type": "stream",
     "text": [
      "[[65  3]\n",
      " [ 8 24]]\n"
     ]
    }
   ],
   "source": [
    "# Fitting Logistic Regression to the Training set\n",
    "from sklearn.linear_model import LogisticRegression\n",
    "classifier = LogisticRegression(random_state = 0)\n",
    "classifier.fit(X_train, y_train)\n",
    "\n",
    "# Predicting the Test set results\n",
    "y_pred = classifier.predict(X_test)\n",
    "\n",
    "# Making the Confusion Matrix\n",
    "from sklearn.metrics import confusion_matrix\n",
    "cm = confusion_matrix(y_test, y_pred)\n",
    "print(cm)"
   ]
  },
  {
   "cell_type": "code",
   "execution_count": 22,
   "metadata": {
    "colab": {
     "autoexec": {
      "startup": false,
      "wait_interval": 0
     },
     "base_uri": "https://localhost:8080/",
     "height": 52,
     "output_extras": [
      {
       "item_id": 1
      }
     ]
    },
    "colab_type": "code",
    "executionInfo": {
     "elapsed": 902,
     "status": "ok",
     "timestamp": 1522340162843,
     "user": {
      "displayName": "uzay cetin",
      "photoUrl": "https://lh3.googleusercontent.com/a/default-user=s128",
      "userId": "105570260242031246200"
     },
     "user_tz": -180
    },
    "id": "gqgg_2WMic1G",
    "outputId": "16789fbe-ebb9-48c4-f97d-77cc50ce1360"
   },
   "outputs": [
    {
     "name": "stdout",
     "output_type": "stream",
     "text": [
      "[[64  4]\n",
      " [ 6 26]]\n"
     ]
    }
   ],
   "source": [
    "me = myClassification(X_train, y_train)\n",
    "me.fit()\n",
    "me_pred = me.predict(X_test)\n",
    "\n",
    "cm = confusion_matrix(y_test, me_pred)\n",
    "print(cm)"
   ]
  }
 ],
 "metadata": {
  "colab": {
   "collapsed_sections": [],
   "default_view": {},
   "name": "myLearners.ipynb",
   "provenance": [],
   "version": "0.3.2",
   "views": {}
  },
  "kernelspec": {
   "display_name": "Python 3",
   "language": "python",
   "name": "python3"
  },
  "language_info": {
   "codemirror_mode": {
    "name": "ipython",
    "version": 3
   },
   "file_extension": ".py",
   "mimetype": "text/x-python",
   "name": "python",
   "nbconvert_exporter": "python",
   "pygments_lexer": "ipython3",
   "version": "3.6.4"
  }
 },
 "nbformat": 4,
 "nbformat_minor": 1
}
