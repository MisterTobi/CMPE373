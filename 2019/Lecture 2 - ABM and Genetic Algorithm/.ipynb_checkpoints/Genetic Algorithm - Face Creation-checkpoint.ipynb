{
 "cells": [
  {
   "cell_type": "code",
   "execution_count": 1,
   "metadata": {},
   "outputs": [],
   "source": [
    "# Composed of agents"
   ]
  },
  {
   "cell_type": "code",
   "execution_count": 2,
   "metadata": {},
   "outputs": [],
   "source": [
    "import numpy as np\n",
    "import matplotlib.pyplot as plt\n",
    "%matplotlib inline"
   ]
  },
  {
   "cell_type": "code",
   "execution_count": 3,
   "metadata": {},
   "outputs": [],
   "source": [
    "eyes = [2.25,3.75,5,5,4] \n",
    "nose = [3,3,6]\n",
    "mouth = [2.5,3,3.5, 1.15,1,1.15,8]\n",
    "target_gene = np.array(eyes + nose + mouth)"
   ]
  },
  {
   "cell_type": "code",
   "execution_count": 4,
   "metadata": {},
   "outputs": [
    {
     "data": {
      "text/plain": [
       "array([2.25, 3.75, 5.  , 5.  , 4.  , 3.  , 3.  , 6.  , 2.5 , 3.  , 3.5 ,\n",
       "       1.15, 1.  , 1.15, 8.  ])"
      ]
     },
     "execution_count": 4,
     "metadata": {},
     "output_type": "execute_result"
    }
   ],
   "source": [
    "target_gene"
   ]
  },
  {
   "cell_type": "code",
   "execution_count": 5,
   "metadata": {},
   "outputs": [],
   "source": [
    "def draw_face(target):\n",
    "    plt.plot([target[0],target[1]], [target[2],target[3]], 'go', markersize=target[4]*10)\n",
    "    plt.plot(target[5], target[6], 'r^', markersize=target[7]*10)\n",
    "    plt.plot([target[8],target[9],target[10]], [target[11],target[12],target[13]], 'b', linewidth=target[14])\n",
    "    plt.tight_layout()"
   ]
  },
  {
   "cell_type": "code",
   "execution_count": 6,
   "metadata": {},
   "outputs": [
    {
     "data": {
      "image/png": "[encoded data removed]",
      "text/plain": [
       "<Figure size 432x288 with 1 Axes>"
      ]
     },
     "metadata": {
      "needs_background": "light"
     },
     "output_type": "display_data"
    }
   ],
   "source": [
    "draw_face(target_gene)"
   ]
  },
  {
   "cell_type": "markdown",
   "metadata": {},
   "source": [
    "# Genotype\n",
    " - 15 numbers to create that face"
   ]
  },
  {
   "cell_type": "code",
   "execution_count": 7,
   "metadata": {},
   "outputs": [
    {
     "data": {
      "text/plain": [
       "array([2.25, 3.75, 5.  , 5.  , 4.  , 3.  , 3.  , 6.  , 2.5 , 3.  , 3.5 ,\n",
       "       1.15, 1.  , 1.15, 8.  ])"
      ]
     },
     "execution_count": 7,
     "metadata": {},
     "output_type": "execute_result"
    }
   ],
   "source": [
    "target_gene"
   ]
  },
  {
   "cell_type": "code",
   "execution_count": 8,
   "metadata": {},
   "outputs": [
    {
     "name": "stdout",
     "output_type": "stream",
     "text": [
      "15\n"
     ]
    }
   ],
   "source": [
    "m = len(target_gene)\n",
    "print(m)"
   ]
  },
  {
   "cell_type": "code",
   "execution_count": 9,
   "metadata": {},
   "outputs": [],
   "source": [
    "def create_gene(M = m):\n",
    "    return np.random.rand(m) * 10"
   ]
  },
  {
   "cell_type": "code",
   "execution_count": 10,
   "metadata": {},
   "outputs": [
    {
     "data": {
      "text/plain": [
       "array([5.46598428, 9.48798729, 1.07416181, 0.47392234, 0.2850206 ,\n",
       "       0.9837758 , 1.36097984, 5.4839611 , 3.36952672, 4.82999267,\n",
       "       9.96668927, 7.47726647, 8.19950125, 6.26450289, 5.55520918])"
      ]
     },
     "execution_count": 10,
     "metadata": {},
     "output_type": "execute_result"
    }
   ],
   "source": [
    "my_gene = create_gene()\n",
    "my_gene"
   ]
  },
  {
   "cell_type": "code",
   "execution_count": 11,
   "metadata": {},
   "outputs": [
    {
     "data": {
      "image/png": "[encoded data removed]",
      "text/plain": [
       "<Figure size 432x288 with 1 Axes>"
      ]
     },
     "metadata": {
      "needs_background": "light"
     },
     "output_type": "display_data"
    }
   ],
   "source": [
    "draw_face(my_gene)"
   ]
  },
  {
   "cell_type": "markdown",
   "metadata": {},
   "source": [
    "# Fitness\n",
    " - How sucessful the gene of the agent\n",
    " - Euclidean Distance measures the error\n",
    " - similarity (fitness) is the inverse of distance\n",
    " \n",
    "$$ Fitness(v) = \\frac{1}{1 + dist(v, target)} $$\n",
    "    "
   ]
  },
  {
   "cell_type": "code",
   "execution_count": 12,
   "metadata": {},
   "outputs": [],
   "source": [
    "def fitness(v):\n",
    "    error = (target_gene - v)\n",
    "    return 1 / (1 + np.dot(error, error))"
   ]
  },
  {
   "cell_type": "code",
   "execution_count": 13,
   "metadata": {},
   "outputs": [
    {
     "data": {
      "text/plain": [
       "0.0036912786707797487"
      ]
     },
     "execution_count": 13,
     "metadata": {},
     "output_type": "execute_result"
    }
   ],
   "source": [
    "fitness(my_gene)"
   ]
  },
  {
   "cell_type": "code",
   "execution_count": 14,
   "metadata": {},
   "outputs": [
    {
     "data": {
      "text/plain": [
       "1.0"
      ]
     },
     "execution_count": 14,
     "metadata": {},
     "output_type": "execute_result"
    }
   ],
   "source": [
    "fitness(target_gene)"
   ]
  },
  {
   "cell_type": "markdown",
   "metadata": {},
   "source": [
    "# Population"
   ]
  },
  {
   "cell_type": "code",
   "execution_count": 15,
   "metadata": {},
   "outputs": [],
   "source": [
    "N = 4\n",
    "population = {i:create_gene() for i in range(N)}"
   ]
  },
  {
   "cell_type": "code",
   "execution_count": 16,
   "metadata": {},
   "outputs": [
    {
     "data": {
      "text/plain": [
       "{0: array([0.82734702, 5.44529844, 2.51445111, 9.63852564, 5.19975605,\n",
       "        1.64919511, 6.63033764, 9.09257138, 6.06190665, 5.24309893,\n",
       "        4.65996684, 3.73452267, 5.86928867, 2.70956542, 6.67835649]),\n",
       " 1: array([7.06751183, 0.04462872, 5.85776107, 4.43431693, 0.50032872,\n",
       "        4.31299095, 1.74238133, 2.66695846, 9.31697787, 2.76131966,\n",
       "        0.07444219, 1.30507403, 5.02864341, 5.27540075, 8.04906766]),\n",
       " 2: array([5.74283216, 5.46875428, 9.13645363, 4.38119233, 1.19924388,\n",
       "        5.11231218, 4.57457866, 2.25143952, 4.44029468, 7.37303231,\n",
       "        8.16250138, 8.85871107, 7.7423158 , 1.66022655, 3.39193852]),\n",
       " 3: array([7.04979931, 7.73736461, 5.73108072, 2.43889577, 1.82155852,\n",
       "        6.12164494, 2.88996824, 6.41949027, 2.46802552, 9.26300001,\n",
       "        6.41869355, 1.04688273, 4.50905226, 0.44778103, 2.5209437 ])}"
      ]
     },
     "execution_count": 16,
     "metadata": {},
     "output_type": "execute_result"
    }
   ],
   "source": [
    "population"
   ]
  },
  {
   "cell_type": "code",
   "execution_count": 17,
   "metadata": {},
   "outputs": [
    {
     "data": {
      "image/png": "[encoded data removed]",
      "text/plain": [
       "<Figure size 432x288 with 10 Axes>"
      ]
     },
     "metadata": {
      "needs_background": "light"
     },
     "output_type": "display_data"
    }
   ],
   "source": [
    "N = 10\n",
    "population = {i:create_gene() for i in range(N)}\n",
    "\n",
    "fig = plt.figure()\n",
    "for i in range(10):\n",
    "    plt.subplot(2, 5, i+1)\n",
    "    draw_face(population[i])"
   ]
  },
  {
   "cell_type": "markdown",
   "metadata": {},
   "source": [
    "# Selection\n",
    " - who are the successful agents"
   ]
  },
  {
   "cell_type": "code",
   "execution_count": 18,
   "metadata": {},
   "outputs": [],
   "source": [
    "success = {agent_id: fitness(agent_genome) for agent_id, agent_genome in population.items()}"
   ]
  },
  {
   "cell_type": "code",
   "execution_count": 19,
   "metadata": {},
   "outputs": [
    {
     "data": {
      "text/plain": [
       "{0: 0.0041940083157733345,\n",
       " 1: 0.005055790540031198,\n",
       " 2: 0.005836252096417434,\n",
       " 3: 0.003436517026253189,\n",
       " 4: 0.005125694071141982,\n",
       " 5: 0.003646780652218551,\n",
       " 6: 0.005134161850915352,\n",
       " 7: 0.009354216838303389,\n",
       " 8: 0.004009550436915198,\n",
       " 9: 0.008070624821715423}"
      ]
     },
     "execution_count": 19,
     "metadata": {},
     "output_type": "execute_result"
    }
   ],
   "source": [
    "success"
   ]
  },
  {
   "cell_type": "code",
   "execution_count": 20,
   "metadata": {},
   "outputs": [
    {
     "data": {
      "text/plain": [
       "0.05386359664968505"
      ]
     },
     "execution_count": 20,
     "metadata": {},
     "output_type": "execute_result"
    }
   ],
   "source": [
    "total_success = sum(success.values())\n",
    "total_success"
   ]
  },
  {
   "cell_type": "code",
   "execution_count": 21,
   "metadata": {},
   "outputs": [],
   "source": [
    "reproduction_probability = {agent_id: success[agent_id]/total_success for agent_id in success.keys()}"
   ]
  },
  {
   "cell_type": "code",
   "execution_count": 22,
   "metadata": {
    "scrolled": true
   },
   "outputs": [
    {
     "data": {
      "text/plain": [
       "{0: 0.07786350293408893,\n",
       " 1: 0.09386284716397156,\n",
       " 2: 0.10835243948477696,\n",
       " 3: 0.0638003631395692,\n",
       " 4: 0.09516063519631218,\n",
       " 5: 0.06770399451667278,\n",
       " 6: 0.09531784303797271,\n",
       " 7: 0.1736649132277743,\n",
       " 8: 0.07443896594934574,\n",
       " 9: 0.14983449534951568}"
      ]
     },
     "execution_count": 22,
     "metadata": {},
     "output_type": "execute_result"
    }
   ],
   "source": [
    "reproduction_probability"
   ]
  },
  {
   "cell_type": "code",
   "execution_count": 23,
   "metadata": {},
   "outputs": [
    {
     "data": {
      "text/plain": [
       "array([0, 6])"
      ]
     },
     "execution_count": 23,
     "metadata": {},
     "output_type": "execute_result"
    }
   ],
   "source": [
    "pr = [reproduction_probability[agent_id] for agent_id in range(N)]\n",
    "select = np.random.choice(N, 2, replace= False, p=pr)\n",
    "select"
   ]
  },
  {
   "cell_type": "code",
   "execution_count": 24,
   "metadata": {},
   "outputs": [],
   "source": [
    "def selection(population):\n",
    "    success = {agent_id: fitness(agent_genome) for agent_id, agent_genome in population.items()}\n",
    "    total_success = sum(success.values())\n",
    "    reproduction_probability = {agent_id: success[agent_id]/total_success for agent_id in success.keys()}\n",
    "    pr = [reproduction_probability[agent_id] for agent_id in range(N)]\n",
    "    select = np.random.choice(N, 2, replace= False, p=pr)\n",
    "    return select"
   ]
  },
  {
   "cell_type": "code",
   "execution_count": 25,
   "metadata": {},
   "outputs": [
    {
     "data": {
      "text/plain": [
       "array([3, 9])"
      ]
     },
     "execution_count": 25,
     "metadata": {},
     "output_type": "execute_result"
    }
   ],
   "source": [
    "selection(population)"
   ]
  },
  {
   "cell_type": "markdown",
   "metadata": {},
   "source": [
    "# Crossover"
   ]
  },
  {
   "cell_type": "code",
   "execution_count": 26,
   "metadata": {},
   "outputs": [],
   "source": [
    "parent0 = population[select[0]]\n",
    "parent1 = population[select[1]]"
   ]
  },
  {
   "cell_type": "code",
   "execution_count": 27,
   "metadata": {},
   "outputs": [
    {
     "data": {
      "text/plain": [
       "array([6.74386504, 3.38563182, 6.01199846, 7.95971824, 6.24687734,\n",
       "       9.3981844 , 9.09423354, 9.47531864, 4.70419284, 7.13405392,\n",
       "       1.06854659, 2.73649998, 3.40702651, 9.78917391, 9.14632728])"
      ]
     },
     "execution_count": 27,
     "metadata": {},
     "output_type": "execute_result"
    }
   ],
   "source": [
    "parent0"
   ]
  },
  {
   "cell_type": "code",
   "execution_count": 28,
   "metadata": {},
   "outputs": [
    {
     "data": {
      "text/plain": [
       "array([3.33235567, 6.29511531, 5.76253082, 4.16619719, 1.20759513,\n",
       "       6.04069481, 3.26768666, 4.39265575, 1.68111095, 4.90972861,\n",
       "       7.90886951, 5.32508118, 8.71034156, 9.1717932 , 7.59527561])"
      ]
     },
     "execution_count": 28,
     "metadata": {},
     "output_type": "execute_result"
    }
   ],
   "source": [
    "parent1"
   ]
  },
  {
   "cell_type": "code",
   "execution_count": 29,
   "metadata": {},
   "outputs": [],
   "source": [
    "cut = np.random.randint(m)\n",
    "\n",
    "child0 = np.hstack((parent0[:cut],parent1[cut:]))\n",
    "child1 = np.hstack((parent1[:cut],parent0[cut:]))"
   ]
  },
  {
   "cell_type": "code",
   "execution_count": 30,
   "metadata": {},
   "outputs": [
    {
     "data": {
      "text/plain": [
       "array([6.74386504, 3.38563182, 6.01199846, 7.95971824, 6.24687734,\n",
       "       9.3981844 , 9.09423354, 9.47531864, 4.70419284, 7.13405392,\n",
       "       7.90886951, 5.32508118, 8.71034156, 9.1717932 , 7.59527561])"
      ]
     },
     "execution_count": 30,
     "metadata": {},
     "output_type": "execute_result"
    }
   ],
   "source": [
    "child0"
   ]
  },
  {
   "cell_type": "code",
   "execution_count": 31,
   "metadata": {},
   "outputs": [
    {
     "data": {
      "text/plain": [
       "array([3.33235567, 6.29511531, 5.76253082, 4.16619719, 1.20759513,\n",
       "       6.04069481, 3.26768666, 4.39265575, 1.68111095, 4.90972861,\n",
       "       1.06854659, 2.73649998, 3.40702651, 9.78917391, 9.14632728])"
      ]
     },
     "execution_count": 31,
     "metadata": {},
     "output_type": "execute_result"
    }
   ],
   "source": [
    "child1"
   ]
  },
  {
   "cell_type": "code",
   "execution_count": 32,
   "metadata": {},
   "outputs": [],
   "source": [
    "def crossover(selectedParents):\n",
    "    parent0 = population[selectedParents[0]]\n",
    "    parent1 = population[selectedParents[1]]\n",
    "    \n",
    "    cut = np.random.randint(m)\n",
    "    child0 = np.hstack((parent0[:cut],parent1[cut:]))\n",
    "    child1 = np.hstack((parent1[:cut],parent0[cut:]))\n",
    "    return child0, child1"
   ]
  },
  {
   "cell_type": "code",
   "execution_count": 33,
   "metadata": {},
   "outputs": [
    {
     "data": {
      "text/plain": [
       "(array([3.33235567, 6.29511531, 5.76253082, 4.16619719, 1.20759513,\n",
       "        6.04069481, 3.26768666, 4.39265575, 1.68111095, 4.90972861,\n",
       "        7.90886951, 5.32508118, 8.71034156, 9.1717932 , 7.59527561]),\n",
       " array([6.74386504, 3.38563182, 6.01199846, 7.95971824, 6.24687734,\n",
       "        9.3981844 , 9.09423354, 9.47531864, 4.70419284, 7.13405392,\n",
       "        1.06854659, 2.73649998, 3.40702651, 9.78917391, 9.14632728]))"
      ]
     },
     "execution_count": 33,
     "metadata": {},
     "output_type": "execute_result"
    }
   ],
   "source": [
    "crossover(select)"
   ]
  },
  {
   "cell_type": "markdown",
   "metadata": {},
   "source": [
    "# Mutation"
   ]
  },
  {
   "cell_type": "code",
   "execution_count": 34,
   "metadata": {},
   "outputs": [],
   "source": [
    "def mutation(child, p = 0.05):\n",
    "    mutation_point = np.random.randint(len(child))\n",
    "    if np.random.rand() < p:\n",
    "        child[mutation_point] = np.random.rand() * 10\n",
    "    return child\n",
    "    "
   ]
  },
  {
   "cell_type": "code",
   "execution_count": 35,
   "metadata": {},
   "outputs": [
    {
     "data": {
      "text/plain": [
       "array([6.74386504, 3.38563182, 6.01199846, 7.95971824, 6.24687734,\n",
       "       9.3981844 , 9.09423354, 9.47531864, 4.70419284, 7.13405392,\n",
       "       5.9247146 , 5.32508118, 8.71034156, 9.1717932 , 7.59527561])"
      ]
     },
     "execution_count": 35,
     "metadata": {},
     "output_type": "execute_result"
    }
   ],
   "source": [
    "mutation(child0, p = 0.995)"
   ]
  },
  {
   "cell_type": "code",
   "execution_count": null,
   "metadata": {},
   "outputs": [],
   "source": []
  },
  {
   "cell_type": "code",
   "execution_count": null,
   "metadata": {},
   "outputs": [],
   "source": []
  },
  {
   "cell_type": "markdown",
   "metadata": {},
   "source": [
    "# Agent-Oriented Programming"
   ]
  },
  {
   "cell_type": "code",
   "execution_count": 121,
   "metadata": {},
   "outputs": [],
   "source": [
    "eyes = [2.25,3.75,5,5,4] \n",
    "nose = [3,3,6]\n",
    "mouth = [2.5,3,3.5, 1.15,1,1.15,8]\n",
    "\n",
    "target_gene = np.array(eyes + nose + mouth)\n",
    "\n",
    "def draw_face(target = target_gene, small = False):\n",
    "    eye_size, nose_size = 10, 10\n",
    "    if small: eye_size, nose_size = 8, 3\n",
    "    \n",
    "    plt.plot([target[0],target[1]], [target[2],target[3]], 'go', markersize=target[4]*eye_size)\n",
    "    plt.plot(target[5], target[6], 'r^', markersize=target[7]*nose_size)\n",
    "    plt.plot([target[8],target[9],target[10]], [target[11],target[12],target[13]], 'b', linewidth=target[14])\n",
    "    plt.tight_layout()\n",
    "\n",
    "class agent():\n",
    "    def __init__(self, idx, m = 15):\n",
    "        self.id = idx\n",
    "        self.m = m\n",
    "        self.genome = create_gene()\n",
    "        \n",
    "    def create_gene(self):\n",
    "        return np.random.rand(self.m) * 10\n",
    "    \n",
    "    def set_gene(self, new_gene):\n",
    "        self.genome = new_gene\n",
    "    \n",
    "    def fitness(self):\n",
    "        error = (target_gene - self.genome)\n",
    "        return 1 / (1 + np.dot(error, error))\n",
    "    \n",
    "    \n",
    "class evolution():\n",
    "    def __init__(self, N): \n",
    "        self.N = N\n",
    "        self.population = {i:agent(i) for i in range(N)}\n",
    "        self.update_probabilities()\n",
    "\n",
    "    def update_probabilities(self):\n",
    "        self.success = {i: self.population[i].fitness() for i in range(N)}\n",
    "        total_success = sum(self.success.values())\n",
    "        \n",
    "        self.reproduction_probability = {i: self.success[i]/total_success for i in range(N)}\n",
    "\n",
    "    def selection(self):\n",
    "        pr = [self.reproduction_probability[i] for i in range(N)]\n",
    "        select = np.random.choice(N, 2, replace= False, p=pr)\n",
    "        return select\n",
    "    \n",
    "    def crossover(self, selectedParents):\n",
    "        parent0 = self.population[selectedParents[0]].genome\n",
    "        parent1 = self.population[selectedParents[1]].genome\n",
    "\n",
    "        cut = np.random.randint(m)\n",
    "        child_gene = np.hstack((parent0[:cut],parent1[cut:]))\n",
    "        return child_gene\n",
    "    \n",
    "    def mutation(self, child_gene, p = 1):\n",
    "        mutation_point = np.random.randint(len(child_gene))\n",
    "        if np.random.rand() < p:\n",
    "            child_gene[mutation_point] = np.random.rand() * 10\n",
    "        return child_gene\n",
    "    \n",
    "    def create_offspring(self):\n",
    "        parents = self.selection()\n",
    "        child_gene = self.crossover(parents)\n",
    "        \n",
    "        child_gene = mutation(child_gene)\n",
    "        return child_gene\n",
    "    \n",
    "    def create_new_population(self):\n",
    "        sorted_by_success = sorted(self.success.items(), key=lambda kv: kv[1])\n",
    "        self.best_agent = self.population[sorted_by_success[-1][0]]\n",
    "        \n",
    "        for i in range(self.N//2):\n",
    "            child_gene = self.create_offspring()\n",
    "            agent_id = sorted_by_success[i][0]\n",
    "            self.population[agent_id].set_gene(child_gene)\n",
    "        \n",
    "        self.update_probabilities()\n",
    "    \n",
    "    def evolve(self, G = 10):\n",
    "        for i in range(G):\n",
    "            self.create_new_population()\n",
    "        return self.best_agent\n",
    "    "
   ]
  },
  {
   "cell_type": "code",
   "execution_count": 122,
   "metadata": {},
   "outputs": [],
   "source": [
    "world = evolution(10)"
   ]
  },
  {
   "cell_type": "code",
   "execution_count": 123,
   "metadata": {},
   "outputs": [
    {
     "data": {
      "image/png": "[encoded data removed]",
      "text/plain": [
       "<Figure size 432x288 with 10 Axes>"
      ]
     },
     "metadata": {
      "needs_background": "light"
     },
     "output_type": "display_data"
    }
   ],
   "source": [
    "fig = plt.figure()\n",
    "for i in range(10):\n",
    "    plt.subplot(2, 5, i+1)\n",
    "    draw_face(world.population[i].genome, small=True)"
   ]
  },
  {
   "cell_type": "code",
   "execution_count": 110,
   "metadata": {},
   "outputs": [
    {
     "data": {
      "image/png": "[encoded data removed]",
      "text/plain": [
       "<Figure size 432x288 with 1 Axes>"
      ]
     },
     "metadata": {
      "needs_background": "light"
     },
     "output_type": "display_data"
    }
   ],
   "source": [
    "best = world.evolve(G = 10)\n",
    "draw_face(best.genome)"
   ]
  },
  {
   "cell_type": "code",
   "execution_count": 111,
   "metadata": {},
   "outputs": [
    {
     "data": {
      "image/png": "[encoded data removed]",
      "text/plain": [
       "<Figure size 432x288 with 10 Axes>"
      ]
     },
     "metadata": {
      "needs_background": "light"
     },
     "output_type": "display_data"
    }
   ],
   "source": [
    "fig = plt.figure()\n",
    "for i in range(10):\n",
    "    plt.subplot(2, 5, i+1)\n",
    "    draw_face(world.population[i].genome)"
   ]
  },
  {
   "cell_type": "code",
   "execution_count": 112,
   "metadata": {},
   "outputs": [
    {
     "data": {
      "text/plain": [
       "array([3.08546392, 1.60949616, 5.77758118, 6.78652407, 6.60668428,\n",
       "       6.08345985, 2.46519868, 2.88132302, 0.48910363, 3.74090168,\n",
       "       4.91814315, 4.9279712 , 0.03845775, 6.09750306, 5.84358559])"
      ]
     },
     "execution_count": 112,
     "metadata": {},
     "output_type": "execute_result"
    }
   ],
   "source": [
    "world.population[0].genome"
   ]
  },
  {
   "cell_type": "code",
   "execution_count": 113,
   "metadata": {},
   "outputs": [
    {
     "data": {
      "text/plain": [
       "array([3.08546392, 1.60949616, 5.77758118, 6.78652407, 6.60668428,\n",
       "       6.08345985, 2.46519868, 2.88132302, 0.48910363, 3.74090168,\n",
       "       4.91814315, 4.9279712 , 0.03845775, 6.09750306, 5.84358559])"
      ]
     },
     "execution_count": 113,
     "metadata": {},
     "output_type": "execute_result"
    }
   ],
   "source": [
    "world.population[1].genome"
   ]
  },
  {
   "cell_type": "code",
   "execution_count": 114,
   "metadata": {},
   "outputs": [
    {
     "data": {
      "image/png": "[encoded data removed]",
      "text/plain": [
       "<Figure size 432x288 with 1 Axes>"
      ]
     },
     "metadata": {
      "needs_background": "light"
     },
     "output_type": "display_data"
    }
   ],
   "source": [
    "best = world.evolve(G = 1000)\n",
    "draw_face(best.genome)"
   ]
  },
  {
   "cell_type": "code",
   "execution_count": 115,
   "metadata": {},
   "outputs": [
    {
     "data": {
      "image/png": "[encoded data removed]",
      "text/plain": [
       "<Figure size 432x288 with 1 Axes>"
      ]
     },
     "metadata": {
      "needs_background": "light"
     },
     "output_type": "display_data"
    }
   ],
   "source": [
    "best = world.evolve(G = 1000)\n",
    "draw_face(best.genome)"
   ]
  },
  {
   "cell_type": "code",
   "execution_count": 116,
   "metadata": {},
   "outputs": [
    {
     "data": {
      "image/png": "[encoded data removed]",
      "text/plain": [
       "<Figure size 432x288 with 1 Axes>"
      ]
     },
     "metadata": {
      "needs_background": "light"
     },
     "output_type": "display_data"
    }
   ],
   "source": [
    "best = world.evolve(G = 1000)\n",
    "draw_face(best.genome)"
   ]
  },
  {
   "cell_type": "code",
   "execution_count": 120,
   "metadata": {},
   "outputs": [
    {
     "data": {
      "image/png": "[encoded data removed]",
      "text/plain": [
       "<Figure size 432x288 with 10 Axes>"
      ]
     },
     "metadata": {
      "needs_background": "light"
     },
     "output_type": "display_data"
    }
   ],
   "source": [
    "fig = plt.figure()\n",
    "for i in range(10):\n",
    "    plt.subplot(2, 5, i+1)\n",
    "    draw_face(world.population[i].genome, small=True)"
   ]
  },
  {
   "cell_type": "code",
   "execution_count": 118,
   "metadata": {},
   "outputs": [
    {
     "data": {
      "image/png": "[encoded data removed]",
      "text/plain": [
       "<Figure size 432x288 with 1 Axes>"
      ]
     },
     "metadata": {
      "needs_background": "light"
     },
     "output_type": "display_data"
    }
   ],
   "source": [
    "best = world.evolve(G = 10000)\n",
    "draw_face(best.genome)"
   ]
  },
  {
   "cell_type": "code",
   "execution_count": 119,
   "metadata": {},
   "outputs": [
    {
     "data": {
      "image/png": "[encoded data removed]",
      "text/plain": [
       "<Figure size 432x288 with 1 Axes>"
      ]
     },
     "metadata": {
      "needs_background": "light"
     },
     "output_type": "display_data"
    }
   ],
   "source": [
    "draw_face(target_gene)"
   ]
  },
  {
   "cell_type": "code",
   "execution_count": null,
   "metadata": {},
   "outputs": [],
   "source": []
  }
 ],
 "metadata": {
  "kernelspec": {
   "display_name": "Python 3",
   "language": "python",
   "name": "python3"
  },
  "language_info": {
   "codemirror_mode": {
    "name": "ipython",
    "version": 3
   },
   "file_extension": ".py",
   "mimetype": "text/x-python",
   "name": "python",
   "nbconvert_exporter": "python",
   "pygments_lexer": "ipython3",
   "version": "3.6.7"
  }
 },
 "nbformat": 4,
 "nbformat_minor": 2
}
