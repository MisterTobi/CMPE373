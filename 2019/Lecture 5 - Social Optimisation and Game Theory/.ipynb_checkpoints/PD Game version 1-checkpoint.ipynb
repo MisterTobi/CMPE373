{
 "cells": [
  {
   "cell_type": "code",
   "execution_count": 27,
   "metadata": {},
   "outputs": [],
   "source": [
    "# Importing the libraries\n",
    "import numpy as np\n",
    "import matplotlib.pyplot as plt\n",
    "%matplotlib inline  \n",
    "import pandas as pd\n",
    "import warnings\n",
    "warnings.filterwarnings('ignore')\n",
    "import timeit\n",
    "import random\n",
    "import seaborn as sns\n",
    "sns.set()\n",
    "\n",
    "\n",
    "class memory_cell():\n",
    "    \"\"\"\n",
    "    Memory cell to store the impression of another agent is simply its defection rate\n",
    "    \n",
    "    Attributes\n",
    "    ------------\n",
    "    defect_number_ : Number of defection\n",
    "    play_number_   : Number of Plays\n",
    "    \n",
    "    \"\"\"\n",
    "    def __init__(self, act):\n",
    "        self.defect_number_ = 0\n",
    "        self.play_number_ = 1\n",
    "        \n",
    "        if act == 'D' : self.defect_number_ += 1\n",
    "    \n",
    "    def update(self, act):\n",
    "        if act == 'D' : self.defect_number_ += 1\n",
    "        self.play_number_ += 1\n",
    "    \n",
    "    def impression(self):\n",
    "        return self.defect_number_/max(1, self.play_number_)\n",
    "    \n",
    "class agent():\n",
    "    \"\"\"\n",
    "    Player of a Prisoners Dilemma Game. \n",
    "    \n",
    "    Parameters\n",
    "    ------------\n",
    "    ID     : Unique identifier for the agent\n",
    "    pc     : Probability of cooperation\n",
    "    M      : Memory Size/Capacity \n",
    "    \n",
    "        \n",
    "    Attributes\n",
    "    ------------\n",
    "    score_  : Accumulates payoffs (define success/fitness)\n",
    "    memory_ : Store information about a limited number (M) of opponent players.\n",
    "             Dictionary (key, value) = (other_agent, memory_cell)\n",
    "    \n",
    "    \"\"\"\n",
    "    def __init__(self, ID, pc = 1, M = 1):\n",
    "        self.ID, self.pc, self.M = ID, pc, M\n",
    "        self.score_ = 0\n",
    "        self.memory_ = dict()\n",
    "        \n",
    "    def act(self):\n",
    "        \"\"\"\n",
    "        Two possible actions\n",
    "            - cooperate with probability pc\n",
    "            - defect with probability 1 - pc\n",
    "        \"\"\"\n",
    "        if np.random.rand() < self.pc:\n",
    "            return 'C'\n",
    "        return 'D'\n",
    "    \n",
    "    def know(self, other):\n",
    "        return other in self.memory_\n",
    "    \n",
    "    def perceive_as_defector(self, other):\n",
    "        if self.know(other):\n",
    "            return self.memory_[other].impression() > 0.5\n",
    "        return False\n",
    "    \n",
    "    def take_payoff(self, payoff):\n",
    "        self.score_ += payoff\n",
    "    \n",
    "    def learn(self, other, act):  \n",
    "        if self.know(other):      \n",
    "            self.memory_[other].update(act)  \n",
    "        else:\n",
    "            self.forget()\n",
    "            self.memory_[other] = memory_cell(act)\n",
    "        \n",
    "    def forget(self):\n",
    "        if len(self.memory_) == self.M:\n",
    "            cooperators = [k for (k,v) in self.memory_.items() if v.impression() < 0.5]\n",
    "            if len(cooperators) > 0:\n",
    "                del self.memory_[random.choice(cooperators)]\n",
    "            else:\n",
    "                del self.memory_[random.choice(list(self.memory_.keys()))]\n",
    "                \n",
    "    def display(self):\n",
    "        return [(k.ID, v.impression()) for (k,v) in self.memory_.items()]\n",
    "    "
   ]
  },
  {
   "cell_type": "code",
   "execution_count": 28,
   "metadata": {},
   "outputs": [],
   "source": [
    "payoff = {'CC':3,'CD':0,'DC':5,'DD':1}\n",
    "\n",
    "A = agent(ID = 0, pc = 0.5)\n",
    "B = agent(ID = 0, pc = 1)"
   ]
  },
  {
   "cell_type": "code",
   "execution_count": 29,
   "metadata": {},
   "outputs": [
    {
     "name": "stdout",
     "output_type": "stream",
     "text": [
      "C C\n"
     ]
    }
   ],
   "source": [
    "A_action, B_action = A.act(), B.act()\n",
    "print(A_action, B_action)\n",
    "\n",
    "A.learn(B, B_action)\n",
    "B.learn(A, A_action)"
   ]
  },
  {
   "cell_type": "code",
   "execution_count": 30,
   "metadata": {},
   "outputs": [
    {
     "data": {
      "text/plain": [
       "(0.0, 0)"
      ]
     },
     "execution_count": 30,
     "metadata": {},
     "output_type": "execute_result"
    }
   ],
   "source": [
    "A.memory_[B].impression(), A.score_"
   ]
  },
  {
   "cell_type": "code",
   "execution_count": 31,
   "metadata": {},
   "outputs": [
    {
     "data": {
      "text/plain": [
       "(0.0, 0)"
      ]
     },
     "execution_count": 31,
     "metadata": {},
     "output_type": "execute_result"
    }
   ],
   "source": [
    "B.memory_[A].impression(), B.score_"
   ]
  },
  {
   "cell_type": "code",
   "execution_count": null,
   "metadata": {},
   "outputs": [],
   "source": []
  },
  {
   "cell_type": "code",
   "execution_count": 32,
   "metadata": {},
   "outputs": [
    {
     "data": {
      "image/png": "[encoded data removed]",
      "text/plain": [
       "<Figure size 1080x216 with 3 Axes>"
      ]
     },
     "metadata": {},
     "output_type": "display_data"
    },
    {
     "data": {
      "image/png": "[encoded data removed]",
      "text/plain": [
       "<Figure size 1080x216 with 3 Axes>"
      ]
     },
     "metadata": {},
     "output_type": "display_data"
    }
   ],
   "source": [
    "for number_of_actions in [10, 10000]:    \n",
    "    plt.figure(figsize = (15,3))\n",
    "    plt.subplot(1,3,1)\n",
    "    prob = 0.2\n",
    "    a = agent(ID = 0, pc = prob)\n",
    "    a_actions = [a.act() for i in range(number_of_actions)]\n",
    "    plt.hist(a_actions)\n",
    "    plt.ylim((0,number_of_actions))\n",
    "    plt.xlabel('prob of C: {}'.format(prob))\n",
    "\n",
    "    plt.subplot(1,3,2)\n",
    "    prob = 0.5\n",
    "    a = agent(ID = 0, pc = prob)\n",
    "    a_actions = [a.act() for i in range(number_of_actions)]\n",
    "    plt.hist(a_actions)\n",
    "    plt.ylim((0,number_of_actions))\n",
    "    plt.xlabel('prob of C: {}'.format(prob))\n",
    "    plt.title(\"--- Number of Actions: {} ---\".format(number_of_actions))\n",
    "\n",
    "    plt.subplot(1,3,3)\n",
    "    prob = 0.8\n",
    "    a = agent(ID = 0, pc = prob)\n",
    "    a_actions = [a.act() for i in range(number_of_actions)]\n",
    "    plt.hist(a_actions)\n",
    "    plt.ylim((0,number_of_actions))\n",
    "    plt.xlabel('prob of C: {}'.format(prob))\n"
   ]
  },
  {
   "cell_type": "code",
   "execution_count": 33,
   "metadata": {},
   "outputs": [],
   "source": [
    "class abm():\n",
    "    def __init__(self, N = 100, M = 100, time = 1000, payoff = {'CC':3,'CD':0,'DC':5,'DD':1}):\n",
    "        self.N, self.time = N, time\n",
    "        self.population = [agent(i, pc = np.random.rand(), M = M) for i in range(self.N)]\n",
    "        self.payoff = payoff\n",
    "        \n",
    "    def world(self):\n",
    "        for i in range(self.time):\n",
    "            iA, iB = np.random.choice(range(self.N), 2, replace=False)\n",
    "            A, B = self.population[iA], self.population[iB]\n",
    "            \n",
    "            # Decision to interact\n",
    "            if B.perceive_as_defector(A): continue\n",
    "            if A.perceive_as_defector(B): continue\n",
    "            \n",
    "            A_action, B_action = A.act(), B.act()\n",
    "            A.learn(B, B_action)\n",
    "            B.learn(A, A_action)\n",
    "\n",
    "            A.take_payoff(self.payoff[A_action+B_action])\n",
    "            B.take_payoff(self.payoff[B_action+A_action])\n",
    "            \n",
    "    def display(self):\n",
    "        df = pd.DataFrame(columns=['ID','pC', 'score', 'Memory'])\n",
    "        for A in self.population:\n",
    "            df.loc[A.ID] = pd.Series({'ID':A.ID, 'pC':A.pc, 'score':A.score_, 'Memory':A.display()})\n",
    "        return df"
   ]
  },
  {
   "cell_type": "code",
   "execution_count": 48,
   "metadata": {},
   "outputs": [
    {
     "data": {
      "text/html": [
       "<div>\n",
       "<style scoped>\n",
       "    .dataframe tbody tr th:only-of-type {\n",
       "        vertical-align: middle;\n",
       "    }\n",
       "\n",
       "    .dataframe tbody tr th {\n",
       "        vertical-align: top;\n",
       "    }\n",
       "\n",
       "    .dataframe thead th {\n",
       "        text-align: right;\n",
       "    }\n",
       "</style>\n",
       "<table border=\"1\" class=\"dataframe\">\n",
       "  <thead>\n",
       "    <tr style=\"text-align: right;\">\n",
       "      <th></th>\n",
       "      <th>ID</th>\n",
       "      <th>pC</th>\n",
       "      <th>score</th>\n",
       "      <th>Memory</th>\n",
       "    </tr>\n",
       "  </thead>\n",
       "  <tbody>\n",
       "    <tr>\n",
       "      <th>0</th>\n",
       "      <td>0</td>\n",
       "      <td>0.718869</td>\n",
       "      <td>21</td>\n",
       "      <td>[(39, 1.0), (87, 1.0), (4, 1.0), (51, 0.0), (5...</td>\n",
       "    </tr>\n",
       "    <tr>\n",
       "      <th>1</th>\n",
       "      <td>1</td>\n",
       "      <td>0.996061</td>\n",
       "      <td>36</td>\n",
       "      <td>[(39, 1.0), (69, 0.0), (20, 0.0), (46, 1.0), (...</td>\n",
       "    </tr>\n",
       "    <tr>\n",
       "      <th>2</th>\n",
       "      <td>2</td>\n",
       "      <td>0.389803</td>\n",
       "      <td>59</td>\n",
       "      <td>[(23, 1.0), (70, 0.0), (87, 0.0), (76, 1.0), (...</td>\n",
       "    </tr>\n",
       "    <tr>\n",
       "      <th>3</th>\n",
       "      <td>3</td>\n",
       "      <td>0.552511</td>\n",
       "      <td>46</td>\n",
       "      <td>[(92, 0.0), (42, 1.0), (77, 0.0), (72, 0.0), (...</td>\n",
       "    </tr>\n",
       "    <tr>\n",
       "      <th>4</th>\n",
       "      <td>4</td>\n",
       "      <td>0.094238</td>\n",
       "      <td>71</td>\n",
       "      <td>[(82, 1.0), (93, 0.0), (28, 1.0), (91, 0.0), (...</td>\n",
       "    </tr>\n",
       "    <tr>\n",
       "      <th>5</th>\n",
       "      <td>5</td>\n",
       "      <td>0.792988</td>\n",
       "      <td>27</td>\n",
       "      <td>[(92, 0.0), (17, 1.0), (72, 1.0), (26, 0.0), (...</td>\n",
       "    </tr>\n",
       "    <tr>\n",
       "      <th>6</th>\n",
       "      <td>6</td>\n",
       "      <td>0.572701</td>\n",
       "      <td>31</td>\n",
       "      <td>[(53, 0.0), (4, 1.0), (28, 1.0), (97, 0.0), (3...</td>\n",
       "    </tr>\n",
       "  </tbody>\n",
       "</table>\n",
       "</div>"
      ],
      "text/plain": [
       "  ID        pC score                                             Memory\n",
       "0  0  0.718869    21  [(39, 1.0), (87, 1.0), (4, 1.0), (51, 0.0), (5...\n",
       "1  1  0.996061    36  [(39, 1.0), (69, 0.0), (20, 0.0), (46, 1.0), (...\n",
       "2  2  0.389803    59  [(23, 1.0), (70, 0.0), (87, 0.0), (76, 1.0), (...\n",
       "3  3  0.552511    46  [(92, 0.0), (42, 1.0), (77, 0.0), (72, 0.0), (...\n",
       "4  4  0.094238    71  [(82, 1.0), (93, 0.0), (28, 1.0), (91, 0.0), (...\n",
       "5  5  0.792988    27  [(92, 0.0), (17, 1.0), (72, 1.0), (26, 0.0), (...\n",
       "6  6  0.572701    31  [(53, 0.0), (4, 1.0), (28, 1.0), (97, 0.0), (3..."
      ]
     },
     "execution_count": 48,
     "metadata": {},
     "output_type": "execute_result"
    }
   ],
   "source": [
    "sim = abm()\n",
    "sim.world()\n",
    "result = sim.display()\n",
    "result.head(7)"
   ]
  },
  {
   "cell_type": "code",
   "execution_count": 49,
   "metadata": {},
   "outputs": [
    {
     "data": {
      "text/plain": [
       "array([[<matplotlib.axes._subplots.AxesSubplot object at 0x1a1c76e630>]],\n",
       "      dtype=object)"
      ]
     },
     "execution_count": 49,
     "metadata": {},
     "output_type": "execute_result"
    },
    {
     "data": {
      "image/png": "[encoded data removed]",
      "text/plain": [
       "<Figure size 432x288 with 1 Axes>"
      ]
     },
     "metadata": {},
     "output_type": "display_data"
    }
   ],
   "source": [
    "result.hist()"
   ]
  },
  {
   "cell_type": "code",
   "execution_count": 50,
   "metadata": {},
   "outputs": [],
   "source": [
    "ture_characters = {A.ID: A.pc for A in sim.population}"
   ]
  },
  {
   "cell_type": "code",
   "execution_count": 51,
   "metadata": {},
   "outputs": [
    {
     "data": {
      "text/plain": [
       "[(7, 0.0),\n",
       " (10, 0.0),\n",
       " (18, 0.0),\n",
       " (25, 0.0),\n",
       " (72, 1.0),\n",
       " (46, 1.0),\n",
       " (86, 0.0),\n",
       " (74, 0.0),\n",
       " (75, 1.0),\n",
       " (11, 1.0),\n",
       " (0, 1.0),\n",
       " (23, 0.0),\n",
       " (22, 1.0),\n",
       " (19, 1.0),\n",
       " (36, 1.0),\n",
       " (81, 0.0)]"
      ]
     },
     "execution_count": 51,
     "metadata": {},
     "output_type": "execute_result"
    }
   ],
   "source": [
    "sim.population[40].display()"
   ]
  },
  {
   "cell_type": "code",
   "execution_count": 57,
   "metadata": {},
   "outputs": [
    {
     "data": {
      "text/plain": [
       "(23, 100)"
      ]
     },
     "execution_count": 57,
     "metadata": {},
     "output_type": "execute_result"
    }
   ],
   "source": [
    "k = 4\n",
    "len(sim.population[k].memory_), sim.population[k].M"
   ]
  },
  {
   "cell_type": "code",
   "execution_count": 41,
   "metadata": {},
   "outputs": [],
   "source": [
    "sim = abm()"
   ]
  },
  {
   "cell_type": "code",
   "execution_count": 53,
   "metadata": {},
   "outputs": [
    {
     "data": {
      "text/plain": [
       "100"
      ]
     },
     "execution_count": 53,
     "metadata": {},
     "output_type": "execute_result"
    }
   ],
   "source": [
    "sim.population[5].M"
   ]
  },
  {
   "cell_type": "code",
   "execution_count": 59,
   "metadata": {},
   "outputs": [],
   "source": [
    "d = {k:k for k in range(10)}"
   ]
  },
  {
   "cell_type": "code",
   "execution_count": 61,
   "metadata": {},
   "outputs": [],
   "source": [
    "del d[5]"
   ]
  },
  {
   "cell_type": "code",
   "execution_count": 63,
   "metadata": {},
   "outputs": [],
   "source": [
    "del d[3]"
   ]
  },
  {
   "cell_type": "code",
   "execution_count": 65,
   "metadata": {},
   "outputs": [],
   "source": [
    "del d[4]"
   ]
  },
  {
   "cell_type": "code",
   "execution_count": 66,
   "metadata": {},
   "outputs": [
    {
     "data": {
      "text/plain": [
       "{0: 0, 1: 1, 2: 2, 6: 6, 7: 7, 8: 8, 9: 9}"
      ]
     },
     "execution_count": 66,
     "metadata": {},
     "output_type": "execute_result"
    }
   ],
   "source": [
    "d"
   ]
  },
  {
   "cell_type": "code",
   "execution_count": 67,
   "metadata": {},
   "outputs": [
    {
     "data": {
      "text/plain": [
       "7"
      ]
     },
     "execution_count": 67,
     "metadata": {},
     "output_type": "execute_result"
    }
   ],
   "source": [
    "len(d)"
   ]
  },
  {
   "cell_type": "code",
   "execution_count": 69,
   "metadata": {},
   "outputs": [],
   "source": [
    "d[6] += 5"
   ]
  },
  {
   "cell_type": "code",
   "execution_count": 70,
   "metadata": {},
   "outputs": [
    {
     "data": {
      "text/plain": [
       "{0: 0, 1: 1, 2: 2, 6: 11, 7: 7, 8: 8, 9: 9}"
      ]
     },
     "execution_count": 70,
     "metadata": {},
     "output_type": "execute_result"
    }
   ],
   "source": [
    "d"
   ]
  },
  {
   "cell_type": "code",
   "execution_count": null,
   "metadata": {},
   "outputs": [],
   "source": []
  }
 ],
 "metadata": {
  "kernelspec": {
   "display_name": "Python 3",
   "language": "python",
   "name": "python3"
  },
  "language_info": {
   "codemirror_mode": {
    "name": "ipython",
    "version": 3
   },
   "file_extension": ".py",
   "mimetype": "text/x-python",
   "name": "python",
   "nbconvert_exporter": "python",
   "pygments_lexer": "ipython3",
   "version": "3.6.7"
  }
 },
 "nbformat": 4,
 "nbformat_minor": 2
}
