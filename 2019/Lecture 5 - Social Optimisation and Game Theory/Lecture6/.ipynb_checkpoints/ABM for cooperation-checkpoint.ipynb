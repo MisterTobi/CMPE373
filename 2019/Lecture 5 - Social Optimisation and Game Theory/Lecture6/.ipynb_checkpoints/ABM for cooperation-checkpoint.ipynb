{
 "cells": [
  {
   "cell_type": "markdown",
   "metadata": {},
   "source": [
    "# ABM Cooperation"
   ]
  },
  {
   "cell_type": "code",
   "execution_count": 102,
   "metadata": {},
   "outputs": [
    {
     "data": {
      "text/plain": [
       "0"
      ]
     },
     "execution_count": 102,
     "metadata": {},
     "output_type": "execute_result"
    }
   ],
   "source": [
    "payoff = {'CC':3,'CD':0,'DC':5,'DD':1}\n",
    "res = 'C'+'D'\n",
    "payoff[res]"
   ]
  },
  {
   "cell_type": "code",
   "execution_count": 103,
   "metadata": {},
   "outputs": [
    {
     "data": {
      "text/plain": [
       "4"
      ]
     },
     "execution_count": 103,
     "metadata": {},
     "output_type": "execute_result"
    }
   ],
   "source": [
    "len(payoff)"
   ]
  },
  {
   "cell_type": "code",
   "execution_count": 104,
   "metadata": {},
   "outputs": [
    {
     "data": {
      "text/plain": [
       "['CC', 'DC']"
      ]
     },
     "execution_count": 104,
     "metadata": {},
     "output_type": "execute_result"
    }
   ],
   "source": [
    "sub = [k for (k,v) in payoff.items() if v > 2]\n",
    "sub"
   ]
  },
  {
   "cell_type": "code",
   "execution_count": 105,
   "metadata": {},
   "outputs": [
    {
     "data": {
      "text/plain": [
       "'CC'"
      ]
     },
     "execution_count": 105,
     "metadata": {},
     "output_type": "execute_result"
    }
   ],
   "source": [
    "import random\n",
    "s = random.choice(sub)\n",
    "s"
   ]
  },
  {
   "cell_type": "code",
   "execution_count": 106,
   "metadata": {},
   "outputs": [
    {
     "data": {
      "text/plain": [
       "{'CC': 3, 'CD': 0, 'DC': 5, 'DD': 1}"
      ]
     },
     "execution_count": 106,
     "metadata": {},
     "output_type": "execute_result"
    }
   ],
   "source": [
    "#del payoff[s]\n",
    "payoff"
   ]
  },
  {
   "cell_type": "code",
   "execution_count": 6,
   "metadata": {},
   "outputs": [
    {
     "data": {
      "text/plain": [
       "{0: 0.1, 1: 0.05, 2: 0.9}"
      ]
     },
     "execution_count": 6,
     "metadata": {},
     "output_type": "execute_result"
    }
   ],
   "source": [
    "memory = {0:0.1, 1:0.8, 2:0.9}\n",
    "memory[1] = 0.05\n",
    "memory"
   ]
  },
  {
   "cell_type": "code",
   "execution_count": 22,
   "metadata": {},
   "outputs": [
    {
     "name": "stdout",
     "output_type": "stream",
     "text": [
      "False\n",
      "True\n"
     ]
    }
   ],
   "source": [
    "print(1 not in memory)\n",
    "print(56 not in memory)"
   ]
  },
  {
   "cell_type": "code",
   "execution_count": 12,
   "metadata": {},
   "outputs": [],
   "source": [
    "# Importing the libraries\n",
    "import numpy as np\n",
    "import matplotlib.pyplot as plt\n",
    "%matplotlib inline  \n",
    "import pandas as pd\n",
    "import warnings\n",
    "warnings.filterwarnings('ignore')\n",
    "import timeit"
   ]
  },
  {
   "cell_type": "code",
   "execution_count": 19,
   "metadata": {},
   "outputs": [
    {
     "data": {
      "text/plain": [
       "0.4"
      ]
     },
     "execution_count": 19,
     "metadata": {},
     "output_type": "execute_result"
    }
   ],
   "source": [
    "class memory_cell():\n",
    "    def __init__(self):\n",
    "        self.defect_number = 0\n",
    "        self.play_number = 0\n",
    "    def impression(self):\n",
    "        return self.defect_number/max(1, self.play_number)\n",
    "        \n",
    "m = memory_cell()\n",
    "m.play_number = 5\n",
    "m.defect_number = 2\n",
    "m.impression()"
   ]
  },
  {
   "cell_type": "code",
   "execution_count": 20,
   "metadata": {},
   "outputs": [
    {
     "data": {
      "text/plain": [
       "3"
      ]
     },
     "execution_count": 20,
     "metadata": {},
     "output_type": "execute_result"
    }
   ],
   "source": [
    "a = 2\n",
    "a += 1\n",
    "a"
   ]
  },
  {
   "cell_type": "code",
   "execution_count": 86,
   "metadata": {},
   "outputs": [],
   "source": [
    "# Importing the libraries\n",
    "import numpy as np\n",
    "import matplotlib.pyplot as plt\n",
    "%matplotlib inline  \n",
    "import pandas as pd\n",
    "import warnings\n",
    "warnings.filterwarnings('ignore')\n",
    "import timeit\n",
    "import random\n",
    "\n",
    "class memory_cell():\n",
    "    def __init__(self):\n",
    "        self.defect_number = 0\n",
    "        self.play_number = 0\n",
    "    def impression(self):\n",
    "        return self.defect_number/max(1, self.play_number)\n",
    "    \n",
    "class agent():\n",
    "    def __init__(self,ID, pc = 1, M = 10):\n",
    "        self.ID, self.pc = ID, pc\n",
    "        self.score, self.memory = 0, dict()\n",
    "    def act(self):\n",
    "        if np.random.rand() < self.pc:\n",
    "            return 'C'\n",
    "        return 'D'\n",
    "    def learn(self, other, act):\n",
    "        if other not in self.memory:\n",
    "            m = memory_cell()\n",
    "            self.memory[other] = m\n",
    "        if act == 'D' :\n",
    "            self.memory[other].defect_number += 1\n",
    "        self.memory[other].play_number += 1\n",
    "        \n",
    "    def forget(self):\n",
    "        if len(self.memory) >= M:\n",
    "            cooperators = [k for (k,v) in self.memory.items() if v.impression() < 0.5]\n",
    "            if len(cooperators) > 0:\n",
    "                del self.memory[random.choice(cooperators)]\n",
    "            else:\n",
    "                pass\n",
    "\n",
    "  \n",
    "\n",
    "        \n",
    "class abm():\n",
    "    def __init__(self, N = 10, time = 1000):\n",
    "        self.N, self.time = N, time\n",
    "        self.population = [agent(i, pc = np.random.rand()) for i in range(self.N)]\n",
    "        self.payoff = {'CC':3,'CD':0,'DC':5,'DD':1}\n",
    "        \n",
    "    def world(self):\n",
    "        for i in range(self.time):\n",
    "            iA, iB = np.random.choice(range(self.N), 2, replace=False)\n",
    "            A, B = self.population[iA], self.population[iB]\n",
    "            \n",
    "            # Decision to interact\n",
    "            if B in A.memory:\n",
    "                if A.memory[B].impression() > 0.5: continue\n",
    "            if A in B.memory:\n",
    "                if B.memory[A].impression() > 0.5: continue\n",
    "            \n",
    "            A_action, B_action = A.act(), B.act()\n",
    "            A.learn(B, B_action)\n",
    "            B.learn(A, A_action)\n",
    "\n",
    "            A.score += self.payoff[A_action+B_action]\n",
    "            B.score += self.payoff[B_action+A_action]\n",
    "      "
   ]
  },
  {
   "cell_type": "code",
   "execution_count": 87,
   "metadata": {},
   "outputs": [],
   "source": [
    "abm = abm()\n",
    "abm.world()"
   ]
  },
  {
   "cell_type": "code",
   "execution_count": 58,
   "metadata": {},
   "outputs": [
    {
     "data": {
      "text/plain": [
       "20"
      ]
     },
     "execution_count": 58,
     "metadata": {},
     "output_type": "execute_result"
    }
   ],
   "source": [
    "A.score += 5\n",
    "A.score"
   ]
  },
  {
   "cell_type": "code",
   "execution_count": 60,
   "metadata": {},
   "outputs": [
    {
     "name": "stdout",
     "output_type": "stream",
     "text": [
      "1 1\n",
      "0 1\n"
     ]
    }
   ],
   "source": [
    "A = agent(3, pc = 1)\n",
    "B = agent(7, pc = 0)\n",
    "\n",
    "A.learn(B, B.act())\n",
    "A.memory\n",
    "\n",
    "B.learn(A, A.act())\n",
    "B.memory\n",
    "\n",
    "for k,v in A.memory.items():\n",
    "    print(v.defect_number, v.play_number)\n",
    "    \n",
    "for k,v in B.memory.items():\n",
    "    print(v.defect_number, v.play_number)"
   ]
  },
  {
   "cell_type": "code",
   "execution_count": 67,
   "metadata": {},
   "outputs": [
    {
     "name": "stdout",
     "output_type": "stream",
     "text": [
      "------\n",
      "A_action C\n",
      "B_action D\n",
      "A.score 0\n",
      "B.score 30\n"
     ]
    }
   ],
   "source": [
    "A_action, B_action = A.act(), B.act()\n",
    "\n",
    "# Decision to interact\n",
    "\n",
    "A.learn(B, B_action)\n",
    "B.learn(A, A_action)\n",
    "\n",
    "A.score += payoff[A_action+B_action]\n",
    "B.score += payoff[B_action+A_action]\n",
    "\n",
    "print(\"------\")\n",
    "print(\"A_action\", A_action)\n",
    "print(\"B_action\", B_action)\n",
    "\n",
    "print(\"A.score\", A.score)\n",
    "print(\"B.score\", B.score)"
   ]
  },
  {
   "cell_type": "code",
   "execution_count": 70,
   "metadata": {},
   "outputs": [
    {
     "data": {
      "text/plain": [
       "True"
      ]
     },
     "execution_count": 70,
     "metadata": {},
     "output_type": "execute_result"
    }
   ],
   "source": [
    "B in A.memory"
   ]
  },
  {
   "cell_type": "code",
   "execution_count": 73,
   "metadata": {},
   "outputs": [
    {
     "data": {
      "text/plain": [
       "1.0"
      ]
     },
     "execution_count": 73,
     "metadata": {},
     "output_type": "execute_result"
    }
   ],
   "source": [
    "A.memory[B].impression()"
   ]
  },
  {
   "cell_type": "code",
   "execution_count": null,
   "metadata": {},
   "outputs": [],
   "source": []
  }
 ],
 "metadata": {
  "kernelspec": {
   "display_name": "Python 3",
   "language": "python",
   "name": "python3"
  },
  "language_info": {
   "codemirror_mode": {
    "name": "ipython",
    "version": 3
   },
   "file_extension": ".py",
   "mimetype": "text/x-python",
   "name": "python",
   "nbconvert_exporter": "python",
   "pygments_lexer": "ipython3",
   "version": "3.6.4"
  }
 },
 "nbformat": 4,
 "nbformat_minor": 2
}
