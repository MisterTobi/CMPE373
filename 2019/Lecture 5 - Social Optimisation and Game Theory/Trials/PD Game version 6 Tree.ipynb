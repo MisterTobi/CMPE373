{
 "cells": [
  {
   "cell_type": "code",
   "execution_count": 1,
   "metadata": {},
   "outputs": [],
   "source": [
    "#!pip install bintrees"
   ]
  },
  {
   "cell_type": "markdown",
   "metadata": {},
   "source": [
    "# Source For Binary Tree\n",
    " - https://pypi.org/project/bintrees/\n",
    "\n",
    "## Tree() \n",
    " - get(k[,d]) -> T[k] if k in T, else d, O(log(n))\n",
    " - is_empty() -> True if len(T) == 0, O(1)\n",
    " - __len__() <==> len(T), O(1)\n",
    " - __setitem__(k, v) <==> T[k] = v, O(log(n))\n",
    " - set_default(k[,d]) -> value, T.get(k, d), also set T[k]=d if k not in T, O(log(n)) (synonym setdefault() exist)\n",
    " \n",
    " - pop(k[,d]) -> v, remove specified key and return the corresponding value, O(log(n))\n",
    " - pop_item() -> (k, v), remove and return some (key, value) pair as a 2-tuple, O(log(n)) (synonym popitem() exist)"
   ]
  },
  {
   "cell_type": "code",
   "execution_count": 2,
   "metadata": {},
   "outputs": [],
   "source": [
    "from bintrees import RBTree"
   ]
  },
  {
   "cell_type": "code",
   "execution_count": 3,
   "metadata": {},
   "outputs": [],
   "source": [
    "T = RBTree()"
   ]
  },
  {
   "cell_type": "code",
   "execution_count": 4,
   "metadata": {},
   "outputs": [],
   "source": [
    "T[1] = 2\n",
    "T[2] = 4\n",
    "T[3] = 8"
   ]
  },
  {
   "cell_type": "code",
   "execution_count": 5,
   "metadata": {},
   "outputs": [
    {
     "data": {
      "text/plain": [
       "RBTree({1: 2, 2: 4, 3: 8})"
      ]
     },
     "execution_count": 5,
     "metadata": {},
     "output_type": "execute_result"
    }
   ],
   "source": [
    "T"
   ]
  },
  {
   "cell_type": "code",
   "execution_count": 6,
   "metadata": {},
   "outputs": [
    {
     "data": {
      "text/plain": [
       "3"
      ]
     },
     "execution_count": 6,
     "metadata": {},
     "output_type": "execute_result"
    }
   ],
   "source": [
    "len(T)"
   ]
  },
  {
   "cell_type": "code",
   "execution_count": 7,
   "metadata": {},
   "outputs": [
    {
     "data": {
      "text/plain": [
       "RBTree({1: 2, 3: 8})"
      ]
     },
     "execution_count": 7,
     "metadata": {},
     "output_type": "execute_result"
    }
   ],
   "source": [
    "del T[2]\n",
    "T"
   ]
  },
  {
   "cell_type": "code",
   "execution_count": 8,
   "metadata": {},
   "outputs": [
    {
     "data": {
      "text/plain": [
       "False"
      ]
     },
     "execution_count": 8,
     "metadata": {},
     "output_type": "execute_result"
    }
   ],
   "source": [
    "T.is_empty()"
   ]
  },
  {
   "cell_type": "code",
   "execution_count": 9,
   "metadata": {},
   "outputs": [
    {
     "data": {
      "text/plain": [
       "RBTree({1: 9, 3: 8})"
      ]
     },
     "execution_count": 9,
     "metadata": {},
     "output_type": "execute_result"
    }
   ],
   "source": [
    "T[1] = 9\n",
    "T"
   ]
  },
  {
   "cell_type": "code",
   "execution_count": 10,
   "metadata": {},
   "outputs": [],
   "source": [
    "#T.pop(2)"
   ]
  },
  {
   "cell_type": "code",
   "execution_count": 11,
   "metadata": {},
   "outputs": [
    {
     "data": {
      "text/plain": [
       "RBTree({1: 9, 3: 8})"
      ]
     },
     "execution_count": 11,
     "metadata": {},
     "output_type": "execute_result"
    }
   ],
   "source": [
    "T"
   ]
  },
  {
   "cell_type": "code",
   "execution_count": 12,
   "metadata": {},
   "outputs": [
    {
     "data": {
      "text/plain": [
       "(3, 8)"
      ]
     },
     "execution_count": 12,
     "metadata": {},
     "output_type": "execute_result"
    }
   ],
   "source": [
    "T.pop_item()"
   ]
  },
  {
   "cell_type": "code",
   "execution_count": 13,
   "metadata": {},
   "outputs": [
    {
     "data": {
      "text/plain": [
       "RBTree({1: 9})"
      ]
     },
     "execution_count": 13,
     "metadata": {},
     "output_type": "execute_result"
    }
   ],
   "source": [
    "T"
   ]
  },
  {
   "cell_type": "code",
   "execution_count": 14,
   "metadata": {},
   "outputs": [
    {
     "data": {
      "text/plain": [
       "False"
      ]
     },
     "execution_count": 14,
     "metadata": {},
     "output_type": "execute_result"
    }
   ],
   "source": [
    "2 in T"
   ]
  },
  {
   "cell_type": "code",
   "execution_count": 15,
   "metadata": {},
   "outputs": [],
   "source": [
    "T.popitem?"
   ]
  },
  {
   "cell_type": "markdown",
   "metadata": {},
   "source": [
    "## Rewrite the Code"
   ]
  },
  {
   "cell_type": "code",
   "execution_count": 27,
   "metadata": {},
   "outputs": [],
   "source": [
    "# Importing the libraries\n",
    "import numpy as np\n",
    "import matplotlib.pyplot as plt\n",
    "%matplotlib inline  \n",
    "import pandas as pd\n",
    "import warnings\n",
    "warnings.filterwarnings('ignore')\n",
    "import timeit\n",
    "import random\n",
    "import seaborn as sns\n",
    "sns.set()\n",
    "\n",
    "\n",
    "class memory_cell():\n",
    "    \"\"\"\n",
    "    Memory cell to store the impression of another agent is simply its defection rate\n",
    "    \n",
    "    Attributes\n",
    "    ------------\n",
    "    defect_number_ : Number of defection\n",
    "    play_number_   : Number of Plays\n",
    "    \n",
    "    \"\"\"\n",
    "    def __init__(self, act = 'C'):\n",
    "        self.defect_number_ = 0\n",
    "        self.play_number_ = 1\n",
    "        \n",
    "        if act == 'D' : self.defect_number_ += 1\n",
    "    \n",
    "    def update(self, act):\n",
    "        if act == 'D' : self.defect_number_ += 1\n",
    "        self.play_number_ += 1\n",
    "    \n",
    "    def impression(self):\n",
    "        return self.defect_number_/max(1, self.play_number_)\n",
    "    \n",
    "class agent():\n",
    "    \"\"\"\n",
    "    Player of a Prisoners Dilemma Game. \n",
    "    \n",
    "    Parameters\n",
    "    ------------\n",
    "    ID            : Unique identifier for the agent\n",
    "    pd            : Probability of defection\n",
    "    capacity      : Memory Size/Capacity \n",
    "    \n",
    "        \n",
    "    Attributes\n",
    "    ------------\n",
    "    score_                  : Accumulates payoffs (define success/fitness)\n",
    "    memory_for_defectors_   : \n",
    "    memory_for_cooperators_ :\n",
    "                 Store information about a limited number (M) of opponent players.\n",
    "                 Dictionary (key, value) = (other_agent, memory_cell)\n",
    "    \n",
    "    \"\"\"\n",
    "    def __init__(self, ID, pd = 1, M = 1):\n",
    "        self.ID = ID\n",
    "        self.pd = pd\n",
    "        self.capacity = M\n",
    "        self.score_ = 0\n",
    "        \n",
    "        self.memory_for_defectors_ = RBTree()\n",
    "        self.memory_for_cooperators_ = RBTree()\n",
    "        \n",
    "    def act(self):\n",
    "        \"\"\"\n",
    "        Two possible actions\n",
    "            - defect with probability pd\n",
    "            - cooperate with probability 1 - pd\n",
    "        \"\"\"\n",
    "        if np.random.rand() < self.pd:\n",
    "            return 'D'\n",
    "        return 'C'\n",
    "    \n",
    "    def know(self, other):\n",
    "        return (other.ID in self.memory_for_defectors_) or (other.ID in self.memory_for_cooperators_)\n",
    "    \n",
    "    def is_memory_full(self):\n",
    "        c,d = len(self.memory_for_cooperators_), len(self.memory_for_defectors_)\n",
    "        return  c + d >= self.capacity\n",
    "    \n",
    "    def perceive_as_defector(self, other):\n",
    "        return other.ID in self.memory_for_defectors_\n",
    "    \n",
    "    def take_payoff(self, payoff):\n",
    "        self.score_ += payoff\n",
    "    \n",
    "    def learn(self, other, act):  \n",
    "        if other.ID in self.memory_for_defectors_:\n",
    "            print(\"-- Bug -- Dont play with a defector!! -- \")\n",
    "        elif other.ID in self.memory_for_cooperators_:\n",
    "            self.memory_for_cooperators_[other.ID].update(act)\n",
    "            \n",
    "            # a cooperator became a defector!\n",
    "            if self.memory_for_cooperators_[other.ID].impression() > 0.5:\n",
    "                self.memory_for_defectors_[other.ID] = self.memory_for_cooperators_[other.ID]\n",
    "                del self.memory_for_cooperators_[other.ID]\n",
    "        else: # first play with an unknown player\n",
    "            if self.is_memory_full(): \n",
    "                self.forget()\n",
    "            if act == 'C':\n",
    "                self.memory_for_cooperators_[other.ID] = memory_cell(act)\n",
    "            else:\n",
    "                self.memory_for_defectors_[other.ID] = memory_cell(act)\n",
    "        \n",
    "    def forget(self):   \n",
    "        if len(self.memory_for_cooperators_) > 0:\n",
    "            self.memory_for_cooperators_.pop_item()\n",
    "        else:\n",
    "            self.memory_for_defectors_.pop_item()\n",
    "    \n",
    "\n",
    "    def display(self):\n",
    "        return [(k, v.impression()) for (k,v) in self.memory_for_cooperators_.items()] + [(k, v.impression()) for (k,v) in self.memory_for_defectors_.items()]\n",
    "    \n",
    "    "
   ]
  },
  {
   "cell_type": "code",
   "execution_count": 28,
   "metadata": {},
   "outputs": [],
   "source": [
    "class abm():\n",
    "    def __init__(self, N = 10, M = 9, tau = 5, payoff = {'CC':3,'CD':0,'DC':5,'DD':1}):\n",
    "        self.N = N\n",
    "        self.time = self.N * self.N * tau\n",
    "        self.population = [agent(i, pd = np.random.rand(), M = M) for i in range(self.N)]\n",
    "        self.payoff = payoff\n",
    "        \n",
    "    def world(self):\n",
    "        for i in range(self.time):\n",
    "            iA, iB = np.random.choice(range(self.N), 2, replace=False)\n",
    "            A, B = self.population[iA], self.population[iB]\n",
    "            \n",
    "            # Decision to interact\n",
    "            if B.perceive_as_defector(A): continue\n",
    "            if A.perceive_as_defector(B): continue\n",
    "            \n",
    "            A_action, B_action = A.act(), B.act()\n",
    "            A.learn(B, B_action)\n",
    "            B.learn(A, A_action)\n",
    "\n",
    "            A.take_payoff(self.payoff[A_action+B_action])\n",
    "            B.take_payoff(self.payoff[B_action+A_action])\n",
    "            \n",
    "    def display(self):\n",
    "        df = pd.DataFrame(columns=['ID','pD', 'score', 'M', 'Memory Len', 'Memory'])\n",
    "        for A in self.population:\n",
    "            df.loc[A.ID] = pd.Series({'ID':A.ID, 'pD':A.pd, 'score':A.score_, 'M': A.capacity, \n",
    "                                      'Memory Len': len(A.memory_for_cooperators_) + len(A.memory_for_defectors_), \n",
    "                                      'Memory':A.display()})\n",
    "        return df"
   ]
  },
  {
   "cell_type": "markdown",
   "metadata": {},
   "source": [
    "# Simulation"
   ]
  },
  {
   "cell_type": "code",
   "execution_count": 33,
   "metadata": {},
   "outputs": [
    {
     "data": {
      "text/html": [
       "<div>\n",
       "<style scoped>\n",
       "    .dataframe tbody tr th:only-of-type {\n",
       "        vertical-align: middle;\n",
       "    }\n",
       "\n",
       "    .dataframe tbody tr th {\n",
       "        vertical-align: top;\n",
       "    }\n",
       "\n",
       "    .dataframe thead th {\n",
       "        text-align: right;\n",
       "    }\n",
       "</style>\n",
       "<table border=\"1\" class=\"dataframe\">\n",
       "  <thead>\n",
       "    <tr style=\"text-align: right;\">\n",
       "      <th></th>\n",
       "      <th>ID</th>\n",
       "      <th>pD</th>\n",
       "      <th>score</th>\n",
       "      <th>M</th>\n",
       "      <th>Memory Len</th>\n",
       "      <th>Memory</th>\n",
       "    </tr>\n",
       "  </thead>\n",
       "  <tbody>\n",
       "    <tr>\n",
       "      <th>0</th>\n",
       "      <td>0</td>\n",
       "      <td>0.278325</td>\n",
       "      <td>1140</td>\n",
       "      <td>50</td>\n",
       "      <td>50</td>\n",
       "      <td>[(28, 0.0), (43, 1.0), (44, 1.0), (45, 1.0), (...</td>\n",
       "    </tr>\n",
       "    <tr>\n",
       "      <th>1</th>\n",
       "      <td>1</td>\n",
       "      <td>0.406732</td>\n",
       "      <td>1190</td>\n",
       "      <td>50</td>\n",
       "      <td>50</td>\n",
       "      <td>[(18, 1.0), (43, 1.0), (45, 1.0), (46, 1.0), (...</td>\n",
       "    </tr>\n",
       "    <tr>\n",
       "      <th>2</th>\n",
       "      <td>2</td>\n",
       "      <td>0.942912</td>\n",
       "      <td>1492</td>\n",
       "      <td>50</td>\n",
       "      <td>50</td>\n",
       "      <td>[(4, 1.0), (40, 1.0), (43, 1.0), (44, 1.0), (4...</td>\n",
       "    </tr>\n",
       "  </tbody>\n",
       "</table>\n",
       "</div>"
      ],
      "text/plain": [
       "  ID        pD score   M Memory Len  \\\n",
       "0  0  0.278325  1140  50         50   \n",
       "1  1  0.406732  1190  50         50   \n",
       "2  2  0.942912  1492  50         50   \n",
       "\n",
       "                                              Memory  \n",
       "0  [(28, 0.0), (43, 1.0), (44, 1.0), (45, 1.0), (...  \n",
       "1  [(18, 1.0), (43, 1.0), (45, 1.0), (46, 1.0), (...  \n",
       "2  [(4, 1.0), (40, 1.0), (43, 1.0), (44, 1.0), (4...  "
      ]
     },
     "execution_count": 33,
     "metadata": {},
     "output_type": "execute_result"
    }
   ],
   "source": [
    "N = 100\n",
    "M = 50\n",
    "sim = abm(N, M)\n",
    "sim.world()\n",
    "result = sim.display()\n",
    "result.head(3)"
   ]
  },
  {
   "cell_type": "code",
   "execution_count": 34,
   "metadata": {},
   "outputs": [
    {
     "name": "stdout",
     "output_type": "stream",
     "text": [
      "<class 'pandas.core.frame.DataFrame'>\n",
      "Int64Index: 100 entries, 0 to 99\n",
      "Data columns (total 6 columns):\n",
      "ID            100 non-null object\n",
      "pD            100 non-null float64\n",
      "score         100 non-null object\n",
      "M             100 non-null object\n",
      "Memory Len    100 non-null object\n",
      "Memory        100 non-null object\n",
      "dtypes: float64(1), object(5)\n",
      "memory usage: 5.5+ KB\n"
     ]
    }
   ],
   "source": [
    "result.info()"
   ]
  },
  {
   "cell_type": "markdown",
   "metadata": {},
   "source": [
    "# Data analysis "
   ]
  },
  {
   "cell_type": "code",
   "execution_count": 35,
   "metadata": {},
   "outputs": [
    {
     "data": {
      "text/html": [
       "<div>\n",
       "<style scoped>\n",
       "    .dataframe tbody tr th:only-of-type {\n",
       "        vertical-align: middle;\n",
       "    }\n",
       "\n",
       "    .dataframe tbody tr th {\n",
       "        vertical-align: top;\n",
       "    }\n",
       "\n",
       "    .dataframe thead th {\n",
       "        text-align: right;\n",
       "    }\n",
       "</style>\n",
       "<table border=\"1\" class=\"dataframe\">\n",
       "  <thead>\n",
       "    <tr style=\"text-align: right;\">\n",
       "      <th></th>\n",
       "      <th>0</th>\n",
       "      <th>1</th>\n",
       "      <th>2</th>\n",
       "      <th>3</th>\n",
       "      <th>4</th>\n",
       "      <th>5</th>\n",
       "      <th>6</th>\n",
       "      <th>7</th>\n",
       "      <th>8</th>\n",
       "      <th>9</th>\n",
       "      <th>...</th>\n",
       "      <th>90</th>\n",
       "      <th>91</th>\n",
       "      <th>92</th>\n",
       "      <th>93</th>\n",
       "      <th>94</th>\n",
       "      <th>95</th>\n",
       "      <th>96</th>\n",
       "      <th>97</th>\n",
       "      <th>98</th>\n",
       "      <th>99</th>\n",
       "    </tr>\n",
       "  </thead>\n",
       "  <tbody>\n",
       "    <tr>\n",
       "      <th>0</th>\n",
       "      <td>0.0</td>\n",
       "      <td>0.0</td>\n",
       "      <td>0.0</td>\n",
       "      <td>0.0</td>\n",
       "      <td>0.0</td>\n",
       "      <td>0.0</td>\n",
       "      <td>0.0</td>\n",
       "      <td>0.0</td>\n",
       "      <td>0.0</td>\n",
       "      <td>0.0</td>\n",
       "      <td>...</td>\n",
       "      <td>1.0</td>\n",
       "      <td>0.0</td>\n",
       "      <td>1.0</td>\n",
       "      <td>1.0</td>\n",
       "      <td>1.0</td>\n",
       "      <td>1.0</td>\n",
       "      <td>1.0</td>\n",
       "      <td>1.000000</td>\n",
       "      <td>1.0</td>\n",
       "      <td>1.0</td>\n",
       "    </tr>\n",
       "    <tr>\n",
       "      <th>1</th>\n",
       "      <td>0.0</td>\n",
       "      <td>0.0</td>\n",
       "      <td>0.0</td>\n",
       "      <td>0.0</td>\n",
       "      <td>0.0</td>\n",
       "      <td>0.0</td>\n",
       "      <td>0.0</td>\n",
       "      <td>0.0</td>\n",
       "      <td>0.0</td>\n",
       "      <td>0.0</td>\n",
       "      <td>...</td>\n",
       "      <td>1.0</td>\n",
       "      <td>0.0</td>\n",
       "      <td>1.0</td>\n",
       "      <td>1.0</td>\n",
       "      <td>1.0</td>\n",
       "      <td>1.0</td>\n",
       "      <td>1.0</td>\n",
       "      <td>0.666667</td>\n",
       "      <td>1.0</td>\n",
       "      <td>1.0</td>\n",
       "    </tr>\n",
       "    <tr>\n",
       "      <th>2</th>\n",
       "      <td>0.0</td>\n",
       "      <td>0.0</td>\n",
       "      <td>0.0</td>\n",
       "      <td>0.0</td>\n",
       "      <td>1.0</td>\n",
       "      <td>0.0</td>\n",
       "      <td>0.0</td>\n",
       "      <td>0.0</td>\n",
       "      <td>0.0</td>\n",
       "      <td>0.0</td>\n",
       "      <td>...</td>\n",
       "      <td>1.0</td>\n",
       "      <td>1.0</td>\n",
       "      <td>1.0</td>\n",
       "      <td>1.0</td>\n",
       "      <td>1.0</td>\n",
       "      <td>1.0</td>\n",
       "      <td>1.0</td>\n",
       "      <td>1.000000</td>\n",
       "      <td>1.0</td>\n",
       "      <td>1.0</td>\n",
       "    </tr>\n",
       "  </tbody>\n",
       "</table>\n",
       "<p>3 rows × 100 columns</p>\n",
       "</div>"
      ],
      "text/plain": [
       "    0    1    2    3    4    5    6    7    8    9  ...    90   91   92   93  \\\n",
       "0  0.0  0.0  0.0  0.0  0.0  0.0  0.0  0.0  0.0  0.0 ...   1.0  0.0  1.0  1.0   \n",
       "1  0.0  0.0  0.0  0.0  0.0  0.0  0.0  0.0  0.0  0.0 ...   1.0  0.0  1.0  1.0   \n",
       "2  0.0  0.0  0.0  0.0  1.0  0.0  0.0  0.0  0.0  0.0 ...   1.0  1.0  1.0  1.0   \n",
       "\n",
       "    94   95   96        97   98   99  \n",
       "0  1.0  1.0  1.0  1.000000  1.0  1.0  \n",
       "1  1.0  1.0  1.0  0.666667  1.0  1.0  \n",
       "2  1.0  1.0  1.0  1.000000  1.0  1.0  \n",
       "\n",
       "[3 rows x 100 columns]"
      ]
     },
     "execution_count": 35,
     "metadata": {},
     "output_type": "execute_result"
    }
   ],
   "source": [
    "def makeDict(T):\n",
    "    return {t[0]:t[1] for t in T}\n",
    "\n",
    "data = list(result.Memory.apply(makeDict))\n",
    "df = pd.DataFrame(data).fillna(0)\n",
    "df.head(3)"
   ]
  },
  {
   "cell_type": "code",
   "execution_count": 36,
   "metadata": {},
   "outputs": [
    {
     "data": {
      "image/png": "[encoded data removed]",
      "text/plain": [
       "<Figure size 432x288 with 1 Axes>"
      ]
     },
     "metadata": {},
     "output_type": "display_data"
    }
   ],
   "source": [
    "perception = df.mean(axis = 0)\n",
    "plt.plot(result.pD[perception.index] , perception, 'o')\n",
    "plt.xlabel('True Defection Rate')\n",
    "plt.ylabel('Perceived Defection Rate')\n",
    "plt.title(\"Memory Ratio is {}\".format(M/N))\n",
    "plt.plot([0, 1], [0, 1], 'r--')\n",
    "plt.axis([0, 1, 0, 1])\n",
    "plt.show()"
   ]
  },
  {
   "cell_type": "markdown",
   "metadata": {},
   "source": [
    "# Do some analysis"
   ]
  },
  {
   "cell_type": "code",
   "execution_count": 37,
   "metadata": {},
   "outputs": [
    {
     "name": "stdout",
     "output_type": "stream",
     "text": [
      "18.783921241760254\n"
     ]
    }
   ],
   "source": [
    "import time\n",
    "start = time.time()\n",
    "\n",
    "N = 100\n",
    "Ms = [5, 25, 50, 75, 85, 99]\n",
    "results = []\n",
    "dfs = []\n",
    "\n",
    "for M in Ms:\n",
    "    sim = abm(N, M)\n",
    "    sim.world()\n",
    "    result = sim.display()\n",
    "    results.append(result)\n",
    "    \n",
    "    data = list(result.Memory.apply(makeDict))\n",
    "    df = pd.DataFrame(data).fillna(0)\n",
    "    dfs.append(df)\n",
    "    \n",
    "end = time.time()\n",
    "print(end - start)"
   ]
  },
  {
   "cell_type": "code",
   "execution_count": 23,
   "metadata": {},
   "outputs": [
    {
     "data": {
      "image/png": "[encoded data removed]",
      "text/plain": [
       "<Figure size 504x504 with 1 Axes>"
      ]
     },
     "metadata": {
      "needs_background": "light"
     },
     "output_type": "display_data"
    }
   ],
   "source": [
    "plt.figure(figsize = (7,7))\n",
    "for k in range(len(Ms)):\n",
    "    perception = dfs[k].mean(axis = 0)\n",
    "    result = results[k]\n",
    "    plt.plot(result.pD[perception.index] , perception, 'o')\n",
    "    plt.xlabel('True Defection Rate')\n",
    "    plt.ylabel('Perceived Defection Rate')\n",
    "plt.legend(np.array(Ms)/N,title = \"Memory Ratio\")\n",
    "\n",
    "plt.plot([0, 1], [0, 1], 'r--')\n",
    "plt.axis([0, 1, 0, 1])\n",
    "plt.show()"
   ]
  },
  {
   "cell_type": "code",
   "execution_count": null,
   "metadata": {},
   "outputs": [],
   "source": []
  }
 ],
 "metadata": {
  "kernelspec": {
   "display_name": "Python 3",
   "language": "python",
   "name": "python3"
  },
  "language_info": {
   "codemirror_mode": {
    "name": "ipython",
    "version": 3
   },
   "file_extension": ".py",
   "mimetype": "text/x-python",
   "name": "python",
   "nbconvert_exporter": "python",
   "pygments_lexer": "ipython3",
   "version": "3.6.7"
  }
 },
 "nbformat": 4,
 "nbformat_minor": 2
}
