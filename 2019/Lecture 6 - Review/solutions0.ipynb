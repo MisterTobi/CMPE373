{
 "cells": [
  {
   "cell_type": "code",
   "execution_count": 155,
   "metadata": {},
   "outputs": [],
   "source": [
    "def cost(w):\n",
    "    return ((w-3)**2)+5\n",
    "\n",
    "def derivative(w):\n",
    "    ################ Write code\n",
    "    return 2*(w-3)\n",
    "    ################\n",
    "\n",
    "def gradient_descent(initial_w = 0, alpha = 0.05, number_steps = 10):\n",
    "    \"\"\"\n",
    "    w : initial value of parameter w\n",
    "    alpha : step size\n",
    "    \"\"\"\n",
    "    W = [initial_w]\n",
    "    for i in range(number_steps):\n",
    "        ################ Write code\n",
    "        w = W[-1] # last/current w\n",
    "        w = w - alpha * derivative(w)\n",
    "        ################\n",
    "        W.append(w)\n",
    "\n",
    "    return np.array(W)"
   ]
  },
  {
   "cell_type": "code",
   "execution_count": 165,
   "metadata": {},
   "outputs": [
    {
     "data": {
      "text/plain": [
       "Text(0.5, 1.0, 'alpha = 0.1')"
      ]
     },
     "execution_count": 165,
     "metadata": {},
     "output_type": "execute_result"
    },
    {
     "data": {
      "image/png": "[encoded data removed]",
      "text/plain": [
       "<Figure size 432x288 with 1 Axes>"
      ]
     },
     "metadata": {},
     "output_type": "display_data"
    }
   ],
   "source": [
    "a = 0.1\n",
    "W = gradient_descent(initial_w = 40, alpha = a, number_steps = 20)\n",
    "t = np.arange(-50,50,0.5)\n",
    "\n",
    "plt.plot(W,cost(W),'k')\n",
    "plt.scatter(W,cost(W), color = 'red')\n",
    "plt.plot(t,cost(t))\n",
    "plt.xlabel('w'); plt.ylabel('Hata(w)'); plt.title(\"alpha = \" + str(a))"
   ]
  },
  {
   "cell_type": "code",
   "execution_count": 166,
   "metadata": {},
   "outputs": [
    {
     "name": "stdout",
     "output_type": "stream",
     "text": [
      "(100, 4)\n"
     ]
    },
    {
     "data": {
      "text/html": [
       "<div>\n",
       "<style scoped>\n",
       "    .dataframe tbody tr th:only-of-type {\n",
       "        vertical-align: middle;\n",
       "    }\n",
       "\n",
       "    .dataframe tbody tr th {\n",
       "        vertical-align: top;\n",
       "    }\n",
       "\n",
       "    .dataframe thead th {\n",
       "        text-align: right;\n",
       "    }\n",
       "</style>\n",
       "<table border=\"1\" class=\"dataframe\">\n",
       "  <thead>\n",
       "    <tr style=\"text-align: right;\">\n",
       "      <th></th>\n",
       "      <th>not0</th>\n",
       "      <th>not1</th>\n",
       "      <th>not2</th>\n",
       "      <th>toplam</th>\n",
       "    </tr>\n",
       "  </thead>\n",
       "  <tbody>\n",
       "    <tr>\n",
       "      <th>0</th>\n",
       "      <td>49.0</td>\n",
       "      <td>35.0</td>\n",
       "      <td>39.0</td>\n",
       "      <td>133.0</td>\n",
       "    </tr>\n",
       "    <tr>\n",
       "      <th>1</th>\n",
       "      <td>15.0</td>\n",
       "      <td>88.0</td>\n",
       "      <td>28.0</td>\n",
       "      <td>141.0</td>\n",
       "    </tr>\n",
       "    <tr>\n",
       "      <th>2</th>\n",
       "      <td>52.0</td>\n",
       "      <td>1.0</td>\n",
       "      <td>28.0</td>\n",
       "      <td>91.0</td>\n",
       "    </tr>\n",
       "    <tr>\n",
       "      <th>3</th>\n",
       "      <td>60.0</td>\n",
       "      <td>37.0</td>\n",
       "      <td>82.0</td>\n",
       "      <td>189.0</td>\n",
       "    </tr>\n",
       "    <tr>\n",
       "      <th>4</th>\n",
       "      <td>45.0</td>\n",
       "      <td>46.0</td>\n",
       "      <td>28.0</td>\n",
       "      <td>129.0</td>\n",
       "    </tr>\n",
       "  </tbody>\n",
       "</table>\n",
       "</div>"
      ],
      "text/plain": [
       "   not0  not1  not2  toplam\n",
       "0  49.0  35.0  39.0   133.0\n",
       "1  15.0  88.0  28.0   141.0\n",
       "2  52.0   1.0  28.0    91.0\n",
       "3  60.0  37.0  82.0   189.0\n",
       "4  45.0  46.0  28.0   129.0"
      ]
     },
     "execution_count": 166,
     "metadata": {},
     "output_type": "execute_result"
    }
   ],
   "source": [
    "d = 3     # oznitelik sayisi\n",
    "n = 100   # ornek sayisi\n",
    "\n",
    "X = np.random.randint(0,100, size = (d,n))\n",
    "w_gizli = np.ones((d,1))\n",
    "b_gizli = 10\n",
    "y = np.dot(w_gizli.T, X) + b_gizli\n",
    "\n",
    "oznitelik_isimleri = ['not'+str(i) for i in range(d)] + ['toplam']\n",
    "veri = pd.DataFrame(data = np.concatenate((X,y)).T, columns  = oznitelik_isimleri)\n",
    "\n",
    "print(veri.shape)\n",
    "veri.head()"
   ]
  },
  {
   "cell_type": "code",
   "execution_count": 167,
   "metadata": {},
   "outputs": [
    {
     "name": "stdout",
     "output_type": "stream",
     "text": [
      "X.shape:  (3, 100)\n",
      "w.shape:  (3, 1)\n",
      "b.shape:  1\n"
     ]
    }
   ],
   "source": [
    "print(\"X.shape: \", X.shape)\n",
    "print(\"w.shape: \", w_gizli.shape)\n",
    "print(\"b.shape: \", 1)"
   ]
  },
  {
   "cell_type": "code",
   "execution_count": 170,
   "metadata": {},
   "outputs": [
    {
     "data": {
      "text/plain": [
       "array([[49, 15, 52, 60, 45, 31, 41,  8, 58, 38],\n",
       "       [35, 88,  1, 37, 46, 18, 75, 17, 31,  3],\n",
       "       [39, 28, 28, 82, 28, 59, 29, 55, 23, 11]])"
      ]
     },
     "execution_count": 170,
     "metadata": {},
     "output_type": "execute_result"
    }
   ],
   "source": [
    "X[:,:10]"
   ]
  },
  {
   "cell_type": "code",
   "execution_count": 176,
   "metadata": {},
   "outputs": [
    {
     "data": {
      "text/plain": [
       "0.661139807936399"
      ]
     },
     "execution_count": 176,
     "metadata": {},
     "output_type": "execute_result"
    }
   ],
   "source": [
    "b"
   ]
  },
  {
   "cell_type": "code",
   "execution_count": 178,
   "metadata": {},
   "outputs": [],
   "source": [
    "h = np.dot(w.T,X) + b # y_hat hypothesis"
   ]
  },
  {
   "cell_type": "code",
   "execution_count": null,
   "metadata": {},
   "outputs": [],
   "source": []
  },
  {
   "cell_type": "code",
   "execution_count": 191,
   "metadata": {},
   "outputs": [
    {
     "name": "stdout",
     "output_type": "stream",
     "text": [
      "w: [[1.00463352]\n",
      " [1.00425392]\n",
      " [1.00421791]]\n",
      "b:9.316924033903437\n"
     ]
    }
   ],
   "source": [
    "d = 3     # oznitelik sayisi\n",
    "n = 100   # ornek sayisi\n",
    "\n",
    "alpha =  0.00001\n",
    "Js = []\n",
    "w  = np.random.rand(d,1) # rastgele d agirlik parametre degeri\n",
    "b = np.random.rand()     # ratgeele 1 bias paarmetre degeri\n",
    "\n",
    "for i in range(3000000):\n",
    "    # Forward Propagate: Calculate our outcome y_hat = h\n",
    "    ################ Write code\n",
    "    h = np.dot(w.T,X) + b\n",
    "    ################\n",
    "    \n",
    "    # Calculate Gradients\n",
    "    ################ Write code\n",
    "    dw = (1/n) * np.dot(X, (h - y).T) # dj/dw\n",
    "    db = (1/n) * np.sum(h - y) # dj/db\n",
    "    ################\n",
    "    \n",
    "    # Back Propagate: Update parametere with Gradient Descent\n",
    "    ################ Write code\n",
    "    w = w - alpha * dw\n",
    "    b = b - alpha * db\n",
    "    ################ \n",
    "    \n",
    "    if i%100:\n",
    "        ################ Write code\n",
    "        cost = (1 / (2 * n)) * np.sum(np.power((h - y),2))\n",
    "        ################\n",
    "        \n",
    "        Js.append(cost)\n",
    "    \n",
    "print(\"w: {}\\nb:{}\".format(w,b))"
   ]
  },
  {
   "cell_type": "code",
   "execution_count": 184,
   "metadata": {},
   "outputs": [
    {
     "data": {
      "text/plain": [
       "Text(0, 0.5, '$J(w,b)$')"
      ]
     },
     "execution_count": 184,
     "metadata": {},
     "output_type": "execute_result"
    },
    {
     "data": {
      "image/png": "[encoded data removed]",
      "text/plain": [
       "<Figure size 432x288 with 1 Axes>"
      ]
     },
     "metadata": {},
     "output_type": "display_data"
    }
   ],
   "source": [
    "plt.plot(Js)\n",
    "plt.xlabel('iteration number')\n",
    "plt.ylabel('$J(w,b)$')"
   ]
  },
  {
   "cell_type": "code",
   "execution_count": 192,
   "metadata": {},
   "outputs": [
    {
     "name": "stdout",
     "output_type": "stream",
     "text": [
      "Parametre found\n",
      "\tw = [[1.00463352 1.00425392 1.00421791]].T\n",
      "\tb = 9.316924033903437\n"
     ]
    }
   ],
   "source": [
    "print(\"Parametre found\")\n",
    "print(\"\\tw = {}.T\".format(w.T))\n",
    "print(\"\\tb = {}\".format(b))"
   ]
  },
  {
   "cell_type": "code",
   "execution_count": 186,
   "metadata": {},
   "outputs": [
    {
     "name": "stdout",
     "output_type": "stream",
     "text": [
      "True Parametre found\n",
      "\tw = [[1. 1. 1.]].T\n",
      "\tb = 10\n"
     ]
    }
   ],
   "source": [
    "print(\"True Parametre found\")\n",
    "print(\"\\tw = {}.T\".format(w_gizli.T))\n",
    "print(\"\\tb = {}\".format(b_gizli))"
   ]
  },
  {
   "cell_type": "code",
   "execution_count": 255,
   "metadata": {},
   "outputs": [],
   "source": [
    "class agent():\n",
    "    def __init__(self,ID, X, y):\n",
    "        self.ID = ID\n",
    "        self.d, self.n = X.shape\n",
    "        self.X, self.y = X, y\n",
    "        \n",
    "        self.w  = np.random.rand(d,1) \n",
    "        self.b = np.random.rand() \n",
    "        \n",
    "        self.score = self.performance()\n",
    "    \n",
    "    def performance(self):\n",
    "        ################ Write code\n",
    "        h = np.dot(w.T,X) + b\n",
    "        cost = (1 / (2 * n)) * np.sum(np.power((h - y),2))\n",
    "        ################ Write code\n",
    "        return 1/(1+cost)\n",
    "    \n",
    "    def immitate(self, other): # immitate betters\n",
    "        copy_point = np.random.randint(self.d)\n",
    "        ################ Write code\n",
    "        self.w[copy_point] = other.w[copy_point]\n",
    "        self.b = other.b\n",
    "        ################ Write code\n",
    "        self.score = self.performance()\n",
    "                  \n",
    "    def innovate(self, pr = 0.25):# Go on your own - mutation\n",
    "        if np.random.rand() < pr:\n",
    "            mutation_point = np.random.randint(self.d)\n",
    "            ################ Write code\n",
    "            self.w[mutation_point] = np.random.rand(1,1)\n",
    "            self.b = np.random.rand()\n",
    "            ################ Write code\n",
    "            self.score = self.performance()"
   ]
  },
  {
   "cell_type": "code",
   "execution_count": 256,
   "metadata": {},
   "outputs": [],
   "source": [
    "class abm():\n",
    "    def __init__(self, X, y, N = 100, time = 1000):\n",
    "        self.X, self.y, self.N, self.time = X, y, N, time\n",
    "        self.population = [agent(i, X, y) for i in range(self.N)]\n",
    "    \n",
    "    def social_optimisation(self):\n",
    "        for i in range(self.time):\n",
    "            iA, iB = np.random.choice(range(self.N), 2, replace=False)\n",
    "            A, B = self.population[iA], self.population[iB]\n",
    "            \n",
    "            if A.score > B.score: B.immitate(A)\n",
    "            else: A.immitate(B)\n",
    "                \n",
    "            A.innovate();B.innovate()   \n",
    "            \n",
    "    def best_agent(self):   \n",
    "        scores = [A.score for A in self.population]\n",
    "        ibest = scores.index(max(scores))\n",
    "        return self.population[ibest]\n",
    "        \n",
    "    def fit(self):\n",
    "        self.social_optimisation()"
   ]
  },
  {
   "cell_type": "code",
   "execution_count": 257,
   "metadata": {},
   "outputs": [],
   "source": [
    "world = abm(X = X, y = y, N = 50, time = 10000)"
   ]
  },
  {
   "cell_type": "code",
   "execution_count": 258,
   "metadata": {},
   "outputs": [
    {
     "data": {
      "text/plain": [
       "[array([[0.74578277, 0.76374034, 0.86684078]]),\n",
       " array([[0.80363547, 0.49500561, 0.54611499]]),\n",
       " array([[0.65477931, 0.23009845, 0.60329088]]),\n",
       " array([[0.85166918, 0.79506957, 0.82046355]]),\n",
       " array([[0.36843846, 0.70837256, 0.81084152]]),\n",
       " array([[0.81018973, 0.34970928, 0.18445583]]),\n",
       " array([[0.38549753, 0.62140878, 0.35074902]]),\n",
       " array([[0.41786355, 0.14620006, 0.46326945]]),\n",
       " array([[0.17542257, 0.0407989 , 0.13898413]]),\n",
       " array([[0.50005775, 0.3891202 , 0.20075594]]),\n",
       " array([[0.52980543, 0.42591946, 0.24338526]]),\n",
       " array([[0.75763873, 0.90847351, 0.24765122]]),\n",
       " array([[0.47650948, 0.5956722 , 0.29805247]]),\n",
       " array([[0.12488887, 0.03481036, 0.36541229]]),\n",
       " array([[0.39254228, 0.19466058, 0.34121186]]),\n",
       " array([[0.03857051, 0.52829521, 0.76771502]]),\n",
       " array([[0.54716469, 0.37069976, 0.39789808]]),\n",
       " array([[0.32065224, 0.54231553, 0.85080264]]),\n",
       " array([[0.33591031, 0.48424886, 0.44237049]]),\n",
       " array([[0.60737063, 0.77283584, 0.87534343]]),\n",
       " array([[0.21268505, 0.0592193 , 0.30519003]]),\n",
       " array([[0.56528006, 0.82245363, 0.3422385 ]]),\n",
       " array([[0.23286769, 0.3003832 , 0.53359781]]),\n",
       " array([[0.14148355, 0.00638292, 0.94321986]]),\n",
       " array([[0.51594649, 0.82848501, 0.77045859]]),\n",
       " array([[0.581517  , 0.50491311, 0.5855146 ]]),\n",
       " array([[0.53131044, 0.98808018, 0.04621124]]),\n",
       " array([[0.81727182, 0.13678972, 0.36921885]]),\n",
       " array([[0.73431806, 0.39096461, 0.81591487]]),\n",
       " array([[0.68625621, 0.69701376, 0.03884019]]),\n",
       " array([[0.87205731, 0.13026161, 0.24039443]]),\n",
       " array([[0.78903186, 0.29017384, 0.71917563]]),\n",
       " array([[0.61112722, 0.33271426, 0.01003906]]),\n",
       " array([[0.29889921, 0.25697274, 0.90287635]]),\n",
       " array([[0.75133363, 0.09837777, 0.01128476]]),\n",
       " array([[0.28924016, 0.98620859, 0.35077523]]),\n",
       " array([[0.69248497, 0.61428512, 0.0026126 ]]),\n",
       " array([[0.51496366, 0.34359778, 0.76137832]]),\n",
       " array([[0.92036695, 0.50360321, 0.62312002]]),\n",
       " array([[0.44441461, 0.2872853 , 0.09160599]]),\n",
       " array([[0.43339756, 0.01298151, 0.06276068]]),\n",
       " array([[0.58396194, 0.84727195, 0.0088934 ]]),\n",
       " array([[0.88074896, 0.44229044, 0.24981642]]),\n",
       " array([[0.37886832, 0.38297724, 0.37428475]]),\n",
       " array([[0.06074156, 0.2623252 , 0.06346905]]),\n",
       " array([[0.4370231 , 0.76758003, 0.2903508 ]]),\n",
       " array([[0.87754252, 0.33736643, 0.11725502]]),\n",
       " array([[0.19721319, 0.24455604, 0.68542921]]),\n",
       " array([[0.65406991, 0.85574486, 0.64206187]]),\n",
       " array([[0.88203303, 0.9831036 , 0.64787619]])]"
      ]
     },
     "execution_count": 258,
     "metadata": {},
     "output_type": "execute_result"
    }
   ],
   "source": [
    "[a.w.T for a in world.population]"
   ]
  },
  {
   "cell_type": "code",
   "execution_count": 259,
   "metadata": {},
   "outputs": [],
   "source": [
    "world.fit()"
   ]
  },
  {
   "cell_type": "code",
   "execution_count": 260,
   "metadata": {},
   "outputs": [
    {
     "data": {
      "text/plain": [
       "[array([[0.57077772, 0.48016814, 0.04121909]]),\n",
       " array([[0.30315569, 0.45440653, 0.77631785]]),\n",
       " array([[0.30315569, 0.00940697, 0.57503374]]),\n",
       " array([[0.4661784 , 0.46215362, 0.77631785]]),\n",
       " array([[0.11408565, 0.44830183, 0.75460632]]),\n",
       " array([[0.58252388, 0.31534913, 0.77631785]]),\n",
       " array([[0.06724325, 0.67863599, 0.34113298]]),\n",
       " array([[0.92999785, 0.44830183, 0.75557157]]),\n",
       " array([[0.7639116 , 0.42820498, 0.04121909]]),\n",
       " array([[0.47266188, 0.44830183, 0.04121909]]),\n",
       " array([[0.66432904, 0.77167196, 0.07686309]]),\n",
       " array([[0.83069548, 0.67912724, 0.91083305]]),\n",
       " array([[0.09034824, 0.91885917, 0.34564506]]),\n",
       " array([[0.90983917, 0.30087764, 0.75420199]]),\n",
       " array([[0.37595585, 0.77167196, 0.75024031]]),\n",
       " array([[0.17117608, 0.91885917, 0.77631785]]),\n",
       " array([[0.07194656, 0.77167196, 0.40707557]]),\n",
       " array([[0.34594917, 0.91231771, 0.75557157]]),\n",
       " array([[0.17117608, 0.89320833, 0.77631785]]),\n",
       " array([[0.80731103, 0.31884096, 0.16632727]]),\n",
       " array([[0.14059719, 0.82503049, 0.4096164 ]]),\n",
       " array([[0.36486945, 0.44830183, 0.13567598]]),\n",
       " array([[0.86615333, 0.48016814, 0.19030302]]),\n",
       " array([[0.78679825, 0.45440653, 0.77631785]]),\n",
       " array([[0.57077772, 0.67912724, 0.21149065]]),\n",
       " array([[0.65406148, 0.48016814, 0.90930618]]),\n",
       " array([[0.66432904, 0.08383148, 0.04275875]]),\n",
       " array([[0.14059719, 0.54899689, 0.34564506]]),\n",
       " array([[0.68958048, 0.44830183, 0.35573248]]),\n",
       " array([[0.83752577, 0.44830183, 0.77631785]]),\n",
       " array([[0.65406148, 0.69956349, 0.28100743]]),\n",
       " array([[0.3057136 , 0.76236043, 0.4096164 ]]),\n",
       " array([[0.78679825, 0.44830183, 0.75420199]]),\n",
       " array([[0.70976783, 0.89129286, 0.75420199]]),\n",
       " array([[0.98676823, 0.42820498, 0.04121909]]),\n",
       " array([[0.91723644, 0.70937107, 0.13567598]]),\n",
       " array([[0.09066234, 0.39912699, 0.75024031]]),\n",
       " array([[0.3910177 , 0.08194783, 0.05102608]]),\n",
       " array([[0.24455604, 0.82024345, 0.34113298]]),\n",
       " array([[0.3910177 , 0.91885917, 0.16632727]]),\n",
       " array([[0.65406148, 0.55073354, 0.02312579]]),\n",
       " array([[0.16203019, 0.34189834, 0.75024031]]),\n",
       " array([[0.36486945, 0.91885917, 0.77631785]]),\n",
       " array([[0.36486945, 0.48016814, 0.77631785]]),\n",
       " array([[0.42448648, 0.77167196, 0.75557157]]),\n",
       " array([[0.32940382, 0.70781701, 0.13567598]]),\n",
       " array([[0.32940382, 0.70483911, 0.83187622]]),\n",
       " array([[0.70976783, 0.91885917, 0.77631785]]),\n",
       " array([[0.83069548, 0.10195722, 0.04121909]]),\n",
       " array([[0.78679825, 0.30087764, 0.13567598]])]"
      ]
     },
     "execution_count": 260,
     "metadata": {},
     "output_type": "execute_result"
    }
   ],
   "source": [
    "[a.w.T for a in world.population]"
   ]
  },
  {
   "cell_type": "code",
   "execution_count": null,
   "metadata": {},
   "outputs": [],
   "source": []
  },
  {
   "cell_type": "code",
   "execution_count": 261,
   "metadata": {},
   "outputs": [
    {
     "name": "stdout",
     "output_type": "stream",
     "text": [
      "True Parametre found\n",
      "\tw = [[1. 1. 1.]].T\n",
      "\tb = 10\n"
     ]
    }
   ],
   "source": [
    "print(\"True Parametre found\")\n",
    "print(\"\\tw = {}.T\".format(w_gizli.T))\n",
    "print(\"\\tb = {}\".format(b_gizli))"
   ]
  },
  {
   "cell_type": "code",
   "execution_count": 262,
   "metadata": {},
   "outputs": [
    {
     "name": "stdout",
     "output_type": "stream",
     "text": [
      "True Parametre found\n",
      "\tw = [[0.57077772 0.48016814 0.04121909]].T\n",
      "\tb = 0.39822058827676277\n"
     ]
    }
   ],
   "source": [
    "print(\"True Parametre found\")\n",
    "print(\"\\tw = {}.T\".format(world.best_agent().w.T))\n",
    "print(\"\\tb = {}\".format(world.best_agent().b))"
   ]
  },
  {
   "cell_type": "code",
   "execution_count": null,
   "metadata": {},
   "outputs": [],
   "source": []
  }
 ],
 "metadata": {
  "kernelspec": {
   "display_name": "Python 3",
   "language": "python",
   "name": "python3"
  },
  "language_info": {
   "codemirror_mode": {
    "name": "ipython",
    "version": 3
   },
   "file_extension": ".py",
   "mimetype": "text/x-python",
   "name": "python",
   "nbconvert_exporter": "python",
   "pygments_lexer": "ipython3",
   "version": "3.6.7"
  }
 },
 "nbformat": 4,
 "nbformat_minor": 2
}
