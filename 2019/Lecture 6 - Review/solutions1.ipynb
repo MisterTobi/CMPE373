{
 "cells": [
  {
   "cell_type": "code",
   "execution_count": 1,
   "metadata": {},
   "outputs": [
    {
     "name": "stdout",
     "output_type": "stream",
     "text": [
      "(100, 4)\n"
     ]
    },
    {
     "data": {
      "text/html": [
       "<div>\n",
       "<style scoped>\n",
       "    .dataframe tbody tr th:only-of-type {\n",
       "        vertical-align: middle;\n",
       "    }\n",
       "\n",
       "    .dataframe tbody tr th {\n",
       "        vertical-align: top;\n",
       "    }\n",
       "\n",
       "    .dataframe thead th {\n",
       "        text-align: right;\n",
       "    }\n",
       "</style>\n",
       "<table border=\"1\" class=\"dataframe\">\n",
       "  <thead>\n",
       "    <tr style=\"text-align: right;\">\n",
       "      <th></th>\n",
       "      <th>not0</th>\n",
       "      <th>not1</th>\n",
       "      <th>not2</th>\n",
       "      <th>toplam</th>\n",
       "    </tr>\n",
       "  </thead>\n",
       "  <tbody>\n",
       "    <tr>\n",
       "      <th>0</th>\n",
       "      <td>13.0</td>\n",
       "      <td>8.0</td>\n",
       "      <td>46.0</td>\n",
       "      <td>68.0</td>\n",
       "    </tr>\n",
       "    <tr>\n",
       "      <th>1</th>\n",
       "      <td>1.0</td>\n",
       "      <td>85.0</td>\n",
       "      <td>64.0</td>\n",
       "      <td>151.0</td>\n",
       "    </tr>\n",
       "    <tr>\n",
       "      <th>2</th>\n",
       "      <td>74.0</td>\n",
       "      <td>54.0</td>\n",
       "      <td>81.0</td>\n",
       "      <td>210.0</td>\n",
       "    </tr>\n",
       "    <tr>\n",
       "      <th>3</th>\n",
       "      <td>79.0</td>\n",
       "      <td>35.0</td>\n",
       "      <td>67.0</td>\n",
       "      <td>182.0</td>\n",
       "    </tr>\n",
       "    <tr>\n",
       "      <th>4</th>\n",
       "      <td>27.0</td>\n",
       "      <td>68.0</td>\n",
       "      <td>53.0</td>\n",
       "      <td>149.0</td>\n",
       "    </tr>\n",
       "  </tbody>\n",
       "</table>\n",
       "</div>"
      ],
      "text/plain": [
       "   not0  not1  not2  toplam\n",
       "0  13.0   8.0  46.0    68.0\n",
       "1   1.0  85.0  64.0   151.0\n",
       "2  74.0  54.0  81.0   210.0\n",
       "3  79.0  35.0  67.0   182.0\n",
       "4  27.0  68.0  53.0   149.0"
      ]
     },
     "execution_count": 1,
     "metadata": {},
     "output_type": "execute_result"
    }
   ],
   "source": [
    "# Importing the libraries\n",
    "import numpy as np\n",
    "import matplotlib.pyplot as plt\n",
    "%matplotlib inline  \n",
    "import pandas as pd\n",
    "import warnings\n",
    "warnings.filterwarnings('ignore')\n",
    "import timeit\n",
    "import random\n",
    "import seaborn as sns\n",
    "sns.set()\n",
    "\n",
    "\n",
    "\n",
    "d = 3     # oznitelik sayisi\n",
    "n = 100   # ornek sayisi\n",
    "\n",
    "X = np.random.randint(0,100, size = (d,n))\n",
    "w_gizli = np.ones((d,1))\n",
    "b_gizli = 1\n",
    "y = np.dot(w_gizli.T, X) + b_gizli\n",
    "\n",
    "oznitelik_isimleri = ['not'+str(i) for i in range(d)] + ['toplam']\n",
    "veri = pd.DataFrame(data = np.concatenate((X,y)).T, columns  = oznitelik_isimleri)\n",
    "\n",
    "print(veri.shape)\n",
    "veri.head()"
   ]
  },
  {
   "cell_type": "code",
   "execution_count": 2,
   "metadata": {},
   "outputs": [
    {
     "data": {
      "text/plain": [
       "(3, 100)"
      ]
     },
     "execution_count": 2,
     "metadata": {},
     "output_type": "execute_result"
    }
   ],
   "source": [
    "X.shape"
   ]
  },
  {
   "cell_type": "code",
   "execution_count": 122,
   "metadata": {},
   "outputs": [
    {
     "name": "stdout",
     "output_type": "stream",
     "text": [
      "w: [[0.77911508]\n",
      " [1.09093661]\n",
      " [1.09355872]]\n",
      "b:0.661139807936399\n"
     ]
    }
   ],
   "source": [
    "d = 3     # oznitelik sayisi\n",
    "n = 100   # ornek sayisi\n",
    "\n",
    "alpha =  0.00001\n",
    "Js = []\n",
    "w  = np.random.rand(d,1) # rastgele d agirlik parametre degeri\n",
    "b = np.random.rand()     # ratgeele 1 bias paarmetre degeri\n",
    "\n",
    "for i in range(100):\n",
    "    # ileri yayilim\n",
    "    h = np.dot(w.T, X) + b\n",
    "    # geri yayilim\n",
    "    dw = (1 / n) * np.dot(X, (h - y).T)\n",
    "    db = (1 / n) * np.sum(h - y)\n",
    "    # Egim Inis\n",
    "    w = w - alpha * dw\n",
    "    b = b - alpha * db\n",
    "    \n",
    "    if i%100:\n",
    "        Js.append((1 / (2 * n)) * np.sum(np.power(h - y,2)))\n",
    "    \n",
    "print(\"w: {}\\nb:{}\".format(w,b))"
   ]
  },
  {
   "cell_type": "code",
   "execution_count": 145,
   "metadata": {},
   "outputs": [],
   "source": [
    "class agent():\n",
    "    def __init__(self,ID, X, y):\n",
    "        self.ID = ID\n",
    "        self.d, self.n = X.shape\n",
    "        self.X, self.y = X, y\n",
    "        \n",
    "        self.w  = np.random.rand(d,1) \n",
    "        self.b = np.random.rand() \n",
    "        \n",
    "        self.score = self.performance()\n",
    "    \n",
    "    def performance(self):\n",
    "        ################ Write code\n",
    "        h = np.dot(self.w.T, self.X) + self.b\n",
    "        cost = (1 / (2 * n)) * np.sum(np.power(h - y,2))\n",
    "        ################ Write code\n",
    "        return 1/(1+cost)\n",
    "    \n",
    "    def immitate(self, other): # immitate betters\n",
    "        copy_point = np.random.randint(self.d)\n",
    "        ################ Write code\n",
    "        self.w[copy_point] = other.w[copy_point]\n",
    "        self.b = other.b\n",
    "        ################ Write code\n",
    "        self.score = self.performance()\n",
    "        \n",
    "    def innovate(self, pr = 0.25): # Go on your own - mutation\n",
    "        if np.random.rand() < pr:\n",
    "            mutation_point = np.random.randint(self.d)\n",
    "            ################ Write code\n",
    "            self.w[mutation_point] = np.random.rand() \n",
    "            self.b = np.random.rand()\n",
    "            ################ Write code\n",
    "            self.score = self.performance()"
   ]
  },
  {
   "cell_type": "code",
   "execution_count": 146,
   "metadata": {},
   "outputs": [],
   "source": [
    "class abmClassifier():\n",
    "    def __init__(self, X, y, N = 10, time = 1000):\n",
    "        self.X, self.y, self.N, self.time = X, y, N, time\n",
    "        self.population = [agent(i, X, y) for i in range(self.N)]\n",
    "    \n",
    "    def social_optimisation(self):\n",
    "        for i in range(self.time):\n",
    "            iA, iB = np.random.choice(range(self.N), 2, replace=False)\n",
    "            A, B = self.population[iA], self.population[iB]\n",
    "            \n",
    "            if A.score > B.score: B.immitate(A)\n",
    "            else: A.immitate(B)\n",
    "                \n",
    "            A.innovate();B.innovate()   \n",
    "            \n",
    "    def best_agent(self):   \n",
    "        scores = [A.score for A in self.population]\n",
    "        ibest = scores.index(max(scores))\n",
    "        return self.population[ibest]\n",
    "        \n",
    "    def fit(self):\n",
    "        self.social_optimisation()"
   ]
  },
  {
   "cell_type": "code",
   "execution_count": 147,
   "metadata": {},
   "outputs": [],
   "source": [
    "world = abmClassifier(X, y, time = 1000)"
   ]
  },
  {
   "cell_type": "code",
   "execution_count": 148,
   "metadata": {},
   "outputs": [
    {
     "data": {
      "text/plain": [
       "(1, 100)"
      ]
     },
     "execution_count": 148,
     "metadata": {},
     "output_type": "execute_result"
    }
   ],
   "source": [
    "world.y.shape"
   ]
  },
  {
   "cell_type": "code",
   "execution_count": 149,
   "metadata": {},
   "outputs": [],
   "source": [
    "world.fit()"
   ]
  },
  {
   "cell_type": "code",
   "execution_count": 150,
   "metadata": {},
   "outputs": [
    {
     "data": {
      "text/plain": [
       "array([[0.96943262],\n",
       "       [0.99009151],\n",
       "       [0.97712493]])"
      ]
     },
     "execution_count": 150,
     "metadata": {},
     "output_type": "execute_result"
    }
   ],
   "source": [
    "world.best_agent().w"
   ]
  },
  {
   "cell_type": "code",
   "execution_count": 151,
   "metadata": {},
   "outputs": [
    {
     "data": {
      "text/plain": [
       "0.23029956175731836"
      ]
     },
     "execution_count": 151,
     "metadata": {},
     "output_type": "execute_result"
    }
   ],
   "source": [
    "world.best_agent().b"
   ]
  },
  {
   "cell_type": "code",
   "execution_count": 152,
   "metadata": {},
   "outputs": [
    {
     "data": {
      "text/plain": [
       "0.10936968071699266"
      ]
     },
     "execution_count": 152,
     "metadata": {},
     "output_type": "execute_result"
    }
   ],
   "source": [
    "world.best_agent().score"
   ]
  },
  {
   "cell_type": "code",
   "execution_count": 154,
   "metadata": {},
   "outputs": [
    {
     "data": {
      "text/plain": [
       "[array([[0.60884558, 0.99009151, 0.97712493]]),\n",
       " array([[0.96943262, 0.99009151, 0.97712493]]),\n",
       " array([[0.03204403, 0.71720721, 0.15561555]]),\n",
       " array([[0.96943262, 0.99009151, 0.97712493]]),\n",
       " array([[0.96943262, 0.12683122, 0.97712493]]),\n",
       " array([[0.8134056 , 0.10302675, 0.97712493]]),\n",
       " array([[0.96943262, 0.8623971 , 0.97712493]]),\n",
       " array([[0.75980606, 0.91813518, 0.90880271]]),\n",
       " array([[0.46772727, 0.66845553, 0.97712493]]),\n",
       " array([[0.96943262, 0.10302675, 0.97712493]])]"
      ]
     },
     "execution_count": 154,
     "metadata": {},
     "output_type": "execute_result"
    }
   ],
   "source": [
    "[a.w.T for a in world.population]"
   ]
  },
  {
   "cell_type": "code",
   "execution_count": null,
   "metadata": {},
   "outputs": [],
   "source": []
  }
 ],
 "metadata": {
  "kernelspec": {
   "display_name": "Python 3",
   "language": "python",
   "name": "python3"
  },
  "language_info": {
   "codemirror_mode": {
    "name": "ipython",
    "version": 3
   },
   "file_extension": ".py",
   "mimetype": "text/x-python",
   "name": "python",
   "nbconvert_exporter": "python",
   "pygments_lexer": "ipython3",
   "version": "3.6.7"
  }
 },
 "nbformat": 4,
 "nbformat_minor": 2
}
