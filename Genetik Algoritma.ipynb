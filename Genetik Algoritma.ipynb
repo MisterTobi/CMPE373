{
 "cells": [
  {
   "cell_type": "markdown",
   "metadata": {},
   "source": [
    "# Maksimizasyon Problemi"
   ]
  },
  {
   "cell_type": "code",
   "execution_count": 1,
   "metadata": {},
   "outputs": [],
   "source": [
    "import numpy as np"
   ]
  },
  {
   "cell_type": "code",
   "execution_count": 2,
   "metadata": {},
   "outputs": [],
   "source": [
    "a1 = np.array([1,0,0,1,1])\n",
    "a2 = np.array([1,0,0,0,1])"
   ]
  },
  {
   "cell_type": "code",
   "execution_count": 3,
   "metadata": {},
   "outputs": [
    {
     "data": {
      "text/plain": [
       "(3, 2)"
      ]
     },
     "execution_count": 3,
     "metadata": {},
     "output_type": "execute_result"
    }
   ],
   "source": [
    "a1.sum(), a2.sum()"
   ]
  },
  {
   "cell_type": "code",
   "execution_count": 4,
   "metadata": {},
   "outputs": [],
   "source": [
    "def fitness(a):\n",
    "    return a.sum()"
   ]
  },
  {
   "cell_type": "code",
   "execution_count": 5,
   "metadata": {},
   "outputs": [
    {
     "data": {
      "text/plain": [
       "2"
      ]
     },
     "execution_count": 5,
     "metadata": {},
     "output_type": "execute_result"
    }
   ],
   "source": [
    "fitness(a2)"
   ]
  },
  {
   "cell_type": "code",
   "execution_count": 6,
   "metadata": {},
   "outputs": [],
   "source": [
    "def agent(k = 5):\n",
    "    return np.random.choice([0,1], size= k)"
   ]
  },
  {
   "cell_type": "code",
   "execution_count": 7,
   "metadata": {},
   "outputs": [],
   "source": [
    "a3 = agent()"
   ]
  },
  {
   "cell_type": "code",
   "execution_count": 8,
   "metadata": {},
   "outputs": [
    {
     "data": {
      "text/plain": [
       "array([1, 0, 0, 0, 0])"
      ]
     },
     "execution_count": 8,
     "metadata": {},
     "output_type": "execute_result"
    }
   ],
   "source": [
    "a3"
   ]
  },
  {
   "cell_type": "code",
   "execution_count": 9,
   "metadata": {},
   "outputs": [
    {
     "data": {
      "text/plain": [
       "array([[0, 0, 1, 1, 0],\n",
       "       [0, 1, 0, 0, 1],\n",
       "       [1, 1, 1, 1, 0],\n",
       "       [1, 0, 0, 1, 1],\n",
       "       [1, 0, 1, 1, 0],\n",
       "       [1, 0, 0, 0, 0],\n",
       "       [0, 1, 0, 1, 1],\n",
       "       [0, 0, 1, 0, 0],\n",
       "       [0, 1, 0, 0, 1],\n",
       "       [0, 0, 0, 0, 1]])"
      ]
     },
     "execution_count": 9,
     "metadata": {},
     "output_type": "execute_result"
    }
   ],
   "source": [
    "toplum = np.array([agent()  for i in range(10)])\n",
    "toplum"
   ]
  },
  {
   "cell_type": "code",
   "execution_count": 10,
   "metadata": {},
   "outputs": [
    {
     "data": {
      "text/plain": [
       "array([2, 2, 4, 3, 3, 1, 3, 1, 2, 1])"
      ]
     },
     "execution_count": 10,
     "metadata": {},
     "output_type": "execute_result"
    }
   ],
   "source": [
    "uyumlar = np.array([fitness(toplum[i])  for i in range(10)])\n",
    "uyumlar"
   ]
  },
  {
   "cell_type": "code",
   "execution_count": 11,
   "metadata": {},
   "outputs": [
    {
     "data": {
      "text/plain": [
       "array([0.09090909, 0.09090909, 0.18181818, 0.13636364, 0.13636364,\n",
       "       0.04545455, 0.13636364, 0.04545455, 0.09090909, 0.04545455])"
      ]
     },
     "execution_count": 11,
     "metadata": {},
     "output_type": "execute_result"
    }
   ],
   "source": [
    "olasiliklar = uyumlar / uyumlar.sum()\n",
    "olasiliklar"
   ]
  },
  {
   "cell_type": "code",
   "execution_count": 12,
   "metadata": {},
   "outputs": [
    {
     "name": "stdout",
     "output_type": "stream",
     "text": [
      "[5 7 9 0 1 8 3 4 6 2]\n"
     ]
    }
   ],
   "source": [
    "print(olasiliklar.argsort())"
   ]
  },
  {
   "cell_type": "code",
   "execution_count": 13,
   "metadata": {},
   "outputs": [
    {
     "data": {
      "text/plain": [
       "2"
      ]
     },
     "execution_count": 13,
     "metadata": {},
     "output_type": "execute_result"
    }
   ],
   "source": [
    "eniyi = olasiliklar.argsort()[-1]\n",
    "eniyi"
   ]
  },
  {
   "cell_type": "code",
   "execution_count": 14,
   "metadata": {},
   "outputs": [
    {
     "data": {
      "text/plain": [
       "array([1, 1, 1, 1, 0])"
      ]
     },
     "execution_count": 14,
     "metadata": {},
     "output_type": "execute_result"
    }
   ],
   "source": [
    "toplum[eniyi]"
   ]
  },
  {
   "cell_type": "code",
   "execution_count": 15,
   "metadata": {},
   "outputs": [
    {
     "data": {
      "text/plain": [
       "array([2, 4])"
      ]
     },
     "execution_count": 15,
     "metadata": {},
     "output_type": "execute_result"
    }
   ],
   "source": [
    "secim = np.random.choice(10, 2, replace= False, p=olasiliklar)\n",
    "secim"
   ]
  },
  {
   "cell_type": "code",
   "execution_count": 16,
   "metadata": {},
   "outputs": [
    {
     "data": {
      "text/plain": [
       "array([3])"
      ]
     },
     "execution_count": 16,
     "metadata": {},
     "output_type": "execute_result"
    }
   ],
   "source": [
    "np.random.choice(4, 1, replace= False, p=[0,0,0,1])"
   ]
  },
  {
   "cell_type": "code",
   "execution_count": 17,
   "metadata": {},
   "outputs": [
    {
     "data": {
      "text/plain": [
       "array([1, 6])"
      ]
     },
     "execution_count": 17,
     "metadata": {},
     "output_type": "execute_result"
    }
   ],
   "source": [
    "secim = np.random.choice(10, 2, replace= False, p=olasiliklar)\n",
    "secim"
   ]
  },
  {
   "cell_type": "code",
   "execution_count": 18,
   "metadata": {},
   "outputs": [
    {
     "data": {
      "text/plain": [
       "array([[0, 0, 1, 1, 0],\n",
       "       [0, 1, 0, 0, 1],\n",
       "       [1, 1, 1, 1, 0],\n",
       "       [1, 0, 0, 1, 1],\n",
       "       [1, 0, 1, 1, 0],\n",
       "       [1, 0, 0, 0, 0],\n",
       "       [0, 1, 0, 1, 1],\n",
       "       [0, 0, 1, 0, 0],\n",
       "       [0, 1, 0, 0, 1],\n",
       "       [0, 0, 0, 0, 1]])"
      ]
     },
     "execution_count": 18,
     "metadata": {},
     "output_type": "execute_result"
    }
   ],
   "source": [
    "toplum"
   ]
  },
  {
   "cell_type": "code",
   "execution_count": 19,
   "metadata": {},
   "outputs": [
    {
     "name": "stdout",
     "output_type": "stream",
     "text": [
      "kisi0:  [0 1 0 0 1]\n",
      "kisi1:  [0 1 0 1 1]\n"
     ]
    }
   ],
   "source": [
    "kisi0 = toplum[secim[0]]\n",
    "print(\"kisi0: \", kisi0)\n",
    "kisi1 = toplum[secim[1]]\n",
    "print(\"kisi1: \", kisi1)"
   ]
  },
  {
   "cell_type": "code",
   "execution_count": 20,
   "metadata": {},
   "outputs": [
    {
     "name": "stdout",
     "output_type": "stream",
     "text": [
      "Kesim noktasi:  2\n"
     ]
    }
   ],
   "source": [
    "n = len(kisi0)//2\n",
    "print(\"Kesim noktasi: \",n)"
   ]
  },
  {
   "cell_type": "code",
   "execution_count": 21,
   "metadata": {},
   "outputs": [
    {
     "name": "stdout",
     "output_type": "stream",
     "text": [
      "[0 1] [0 1 1]\n"
     ]
    }
   ],
   "source": [
    "print(kisi0[:n], kisi1[n:])"
   ]
  },
  {
   "cell_type": "code",
   "execution_count": 22,
   "metadata": {},
   "outputs": [
    {
     "data": {
      "text/plain": [
       "array([0, 1, 0, 1, 1])"
      ]
     },
     "execution_count": 22,
     "metadata": {},
     "output_type": "execute_result"
    }
   ],
   "source": [
    "# birlestir\n",
    "np.hstack((kisi0[:n],kisi1[n:]))"
   ]
  },
  {
   "cell_type": "code",
   "execution_count": 23,
   "metadata": {},
   "outputs": [
    {
     "data": {
      "text/plain": [
       "<Figure size 640x480 with 1 Axes>"
      ]
     },
     "metadata": {},
     "output_type": "display_data"
    }
   ],
   "source": [
    "import matplotlib.pyplot as plt\n",
    "plt.plot([2.25,3.75], [5,5], 'go', markersize=40)\n",
    "plt.plot([3], [3], 'r^', markersize=60)\n",
    "plt.plot([2.5,3,3.5], [1.15,1,1.15], 'b', linewidth=8)\n",
    "plt.axis((1,5,0,6))\n",
    "plt.show()"
   ]
  },
  {
   "cell_type": "code",
   "execution_count": 24,
   "metadata": {},
   "outputs": [
    {
     "data": {
      "text/plain": [
       "array([2.25, 3.75, 5.  , 5.  , 4.  , 3.  , 3.  , 6.  , 2.5 , 3.  , 3.5 ,\n",
       "       1.15, 1.  , 1.15, 8.  ])"
      ]
     },
     "execution_count": 24,
     "metadata": {},
     "output_type": "execute_result"
    }
   ],
   "source": [
    "gozler = [2.25,3.75,5,5,4] # 40 yerine 4 yazdim, butun degerler 1-10 arasinda olsun\n",
    "burun = [3,3,6]# ayni nedenle 60 yerine 6 yazdim,\n",
    "agiz = [2.5,3,3.5, 1.15,1,1.15,8]\n",
    "adam = np.array(gozler + burun + agiz)\n",
    "\n",
    "adam"
   ]
  },
  {
   "cell_type": "code",
   "execution_count": 25,
   "metadata": {},
   "outputs": [
    {
     "data": {
      "text/plain": [
       "15"
      ]
     },
     "execution_count": 25,
     "metadata": {},
     "output_type": "execute_result"
    }
   ],
   "source": [
    "len(adam)"
   ]
  },
  {
   "cell_type": "code",
   "execution_count": 26,
   "metadata": {},
   "outputs": [
    {
     "data": {
      "image/png": "[encoded data removed]",
      "text/plain": [
       "<Figure size 432x288 with 1 Axes>"
      ]
     },
     "metadata": {
      "needs_background": "light"
     },
     "output_type": "display_data"
    }
   ],
   "source": [
    "def adam_ciz(adam):\n",
    "    plt.plot([adam[0],adam[1]], [adam[2],adam[3]], 'go', markersize=adam[4]*10)\n",
    "    plt.plot(adam[5], adam[6], 'r^', markersize=adam[7]*10)\n",
    "    plt.plot([adam[8],adam[9],adam[10]], [adam[11],adam[12],adam[13]], 'b', linewidth=adam[14])\n",
    "    plt.show()\n",
    "adam_ciz(adam)"
   ]
  },
  {
   "cell_type": "code",
   "execution_count": 27,
   "metadata": {},
   "outputs": [
    {
     "data": {
      "text/plain": [
       "array([3.59305214, 6.92349955, 1.29995512, 7.56828546, 7.32442012,\n",
       "       6.14180002, 1.86071328, 7.49936114, 3.1822179 , 0.28972003,\n",
       "       7.94940771, 1.83236414, 8.58971283, 7.4328741 , 1.3241431 ])"
      ]
     },
     "execution_count": 27,
     "metadata": {},
     "output_type": "execute_result"
    }
   ],
   "source": [
    "v = np.random.rand(15) * 10\n",
    "v"
   ]
  },
  {
   "cell_type": "code",
   "execution_count": 28,
   "metadata": {},
   "outputs": [
    {
     "data": {
      "image/png": "[encoded data removed]",
      "text/plain": [
       "<Figure size 432x288 with 1 Axes>"
      ]
     },
     "metadata": {
      "needs_background": "light"
     },
     "output_type": "display_data"
    }
   ],
   "source": [
    "adam_ciz(v)"
   ]
  },
  {
   "cell_type": "code",
   "execution_count": 29,
   "metadata": {},
   "outputs": [
    {
     "data": {
      "text/plain": [
       "0.004398519078030424"
      ]
     },
     "execution_count": 29,
     "metadata": {},
     "output_type": "execute_result"
    }
   ],
   "source": [
    "# Basariyi (fitness) Maximize et\n",
    "1/ (1 + sum((adam - v)**2))"
   ]
  },
  {
   "cell_type": "code",
   "execution_count": 30,
   "metadata": {},
   "outputs": [
    {
     "data": {
      "text/plain": [
       "226.34924693057866"
      ]
     },
     "execution_count": 30,
     "metadata": {},
     "output_type": "execute_result"
    }
   ],
   "source": [
    "# Hatayi Minimize et\n",
    "sum((adam - v)**2)"
   ]
  },
  {
   "cell_type": "code",
   "execution_count": 31,
   "metadata": {},
   "outputs": [],
   "source": [
    "def kisi2():\n",
    "    # rastegele 15 elemanli, degerler 1-10 arasinda olan, bir vektor yazalim\n",
    "    return np.random.rand(15) * 10 "
   ]
  },
  {
   "cell_type": "code",
   "execution_count": 32,
   "metadata": {},
   "outputs": [
    {
     "data": {
      "image/png": "[encoded data removed]",
      "text/plain": [
       "<Figure size 432x288 with 1 Axes>"
      ]
     },
     "metadata": {
      "needs_background": "light"
     },
     "output_type": "display_data"
    }
   ],
   "source": [
    "adam_ciz(kisi2())"
   ]
  },
  {
   "cell_type": "code",
   "execution_count": 33,
   "metadata": {},
   "outputs": [],
   "source": [
    "def uyum2(birey):\n",
    "    return 1/ (1 + sum((adam - birey)**2))"
   ]
  },
  {
   "cell_type": "code",
   "execution_count": 34,
   "metadata": {},
   "outputs": [],
   "source": [
    "def mutasyon2(kisi, p):\n",
    "    \"\"\" p olasilikla kisinin bir ozelligine 0-10 arasinda rastgele\n",
    "    deger atanir.\"\"\"\n",
    "    if np.random.rand() < p:\n",
    "        m = np.random.choice(len(kisi))\n",
    "        kisi[m] = np.random.rand() * 10"
   ]
  },
  {
   "cell_type": "code",
   "execution_count": 35,
   "metadata": {},
   "outputs": [],
   "source": [
    "def en_iyi(toplum, olasiliklar):\n",
    "    eniyi = olasiliklar.argsort()[-1]\n",
    "    return toplum[eniyi]"
   ]
  },
  {
   "cell_type": "code",
   "execution_count": 36,
   "metadata": {},
   "outputs": [],
   "source": [
    "def olasilik(toplum, uyum = uyum2, elitist = True):\n",
    "    \"\"\"her bireyin uyum degeri hesaplanip, olasilik degerine dondurulur.\n",
    "    (uyumlar) [0.2, 0.2, 0.4, 0.4, 0.8] >> (olasiliklar) [0.1, 0.1, 0.2, 0.2, 0.4]\n",
    "    \n",
    "    if elitist == True\n",
    "        [0.2, 0.2, 0.4, 0.4, 0.8] >>[ 0.10225857,  0.10225857,  0.16859588,  0.16859588,  0.45829111]\n",
    "    \"\"\"\n",
    "    uyumlar = np.array([uyum(toplum[i])  for i in range(len(toplum))])\n",
    "    if elitist:\n",
    "        uyumlar = np.exp(uyumlar / uyumlar.mean()) # ortalamadan kucuk degerler iyice kuculur\n",
    "    olasiliklar = uyumlar / uyumlar.sum()\n",
    "    return olasiliklar"
   ]
  },
  {
   "cell_type": "code",
   "execution_count": 37,
   "metadata": {},
   "outputs": [],
   "source": [
    "def secim(olasiliklar):\n",
    "    \"\"\"p=olasiliklara gore bireyler secilir. Olasiligi yuksek olan daha fazla secilir.\"\"\"\n",
    "    secim = np.random.choice(len(olasiliklar), 2, replace= False, p=olasiliklar)\n",
    "    return secim"
   ]
  },
  {
   "cell_type": "code",
   "execution_count": 38,
   "metadata": {},
   "outputs": [],
   "source": [
    "def caprazlama(toplum, secim):\n",
    "    \"\"\"Basarili 2 birey kisi0 ve kisi1 secilip caprazlanir.\"\"\"\n",
    "    kisi0 = toplum[secim[0]]\n",
    "    kisi1 = toplum[secim[1]]\n",
    "    n = len(toplum[secim[0]])//2\n",
    "    return np.hstack((kisi0[:n],kisi1[n:]))"
   ]
  },
  {
   "cell_type": "code",
   "execution_count": 39,
   "metadata": {},
   "outputs": [],
   "source": [
    "def yeni_toplum(toplum, olasiliklar, mutasyon = mutasyon2, p = 0.05):\n",
    "    \"\"\" Toplumun (basarisiz) yarisi emekli edilip,\n",
    "    basarili bireylerin cocuklari topluma eklenecek.\n",
    "    \"\"\"\n",
    "    k = len(toplum)//2\n",
    "    emekli = olasiliklar.argsort()[:k] # basarisizlar\n",
    "    #yeniler = np.zeros((k,toplum.shape[1]))\n",
    "    for i in range(k):\n",
    "        s = secim(olasiliklar)\n",
    "        yeni_kisi = caprazlama(toplum, s)\n",
    "        mutasyon(yeni_kisi, p) \n",
    "        #yeniler[i] = yeni_kisi\n",
    "        toplum[emekli[i]]= yeni_kisi\n",
    "        \n",
    "    #toplum[emekli] = yeniler\n",
    "    return toplum\n",
    "    "
   ]
  },
  {
   "cell_type": "code",
   "execution_count": 40,
   "metadata": {},
   "outputs": [
    {
     "data": {
      "image/png": "[encoded data removed]",
      "text/plain": [
       "<Figure size 432x288 with 1 Axes>"
      ]
     },
     "metadata": {
      "needs_background": "light"
     },
     "output_type": "display_data"
    }
   ],
   "source": [
    "N = 100 # Toplumdaki kisi sayisi N\n",
    "toplum = np.array([kisi2()  for i in range(N)])\n",
    "olasiliklar = olasilik(toplum, uyum=uyum2)\n",
    "\n",
    "adam_ciz(en_iyi(toplum, olasiliklar))"
   ]
  },
  {
   "cell_type": "code",
   "execution_count": 41,
   "metadata": {},
   "outputs": [
    {
     "data": {
      "image/png": "[encoded data removed]",
      "text/plain": [
       "<Figure size 432x288 with 1 Axes>"
      ]
     },
     "metadata": {
      "needs_background": "light"
     },
     "output_type": "display_data"
    }
   ],
   "source": [
    "for i in range(20):\n",
    "    toplum = yeni_toplum(toplum, olasiliklar, mutasyon = mutasyon2, p= 0.15) \n",
    "    olasiliklar = olasilik(toplum, uyum=uyum2)\n",
    "\n",
    "adam_ciz(en_iyi(toplum, olasiliklar))"
   ]
  },
  {
   "cell_type": "code",
   "execution_count": 42,
   "metadata": {},
   "outputs": [
    {
     "data": {
      "image/png": "[encoded data removed]",
      "text/plain": [
       "<Figure size 432x288 with 1 Axes>"
      ]
     },
     "metadata": {
      "needs_background": "light"
     },
     "output_type": "display_data"
    }
   ],
   "source": [
    "for i in range(20):\n",
    "    toplum = yeni_toplum(toplum, olasiliklar, mutasyon = mutasyon2, p= 0.15) \n",
    "    olasiliklar = olasilik(toplum, uyum=uyum2)\n",
    "\n",
    "adam_ciz(en_iyi(toplum, olasiliklar))"
   ]
  },
  {
   "cell_type": "code",
   "execution_count": 43,
   "metadata": {},
   "outputs": [
    {
     "data": {
      "image/png": "[encoded data removed]",
      "text/plain": [
       "<Figure size 432x288 with 1 Axes>"
      ]
     },
     "metadata": {
      "needs_background": "light"
     },
     "output_type": "display_data"
    }
   ],
   "source": [
    "for i in range(20):\n",
    "    toplum = yeni_toplum(toplum, olasiliklar, mutasyon = mutasyon2, p= 0.15) \n",
    "    olasiliklar = olasilik(toplum, uyum=uyum2)\n",
    "\n",
    "adam_ciz(en_iyi(toplum, olasiliklar))"
   ]
  },
  {
   "cell_type": "code",
   "execution_count": 44,
   "metadata": {},
   "outputs": [
    {
     "data": {
      "image/png": "[encoded data removed]",
      "text/plain": [
       "<Figure size 432x288 with 1 Axes>"
      ]
     },
     "metadata": {
      "needs_background": "light"
     },
     "output_type": "display_data"
    }
   ],
   "source": [
    "for i in range(20):\n",
    "    toplum = yeni_toplum(toplum, olasiliklar, mutasyon = mutasyon2, p= 0.15) \n",
    "    olasiliklar = olasilik(toplum, uyum=uyum2)\n",
    "\n",
    "adam_ciz(en_iyi(toplum, olasiliklar))"
   ]
  },
  {
   "cell_type": "code",
   "execution_count": 45,
   "metadata": {},
   "outputs": [
    {
     "data": {
      "image/png": "[encoded data removed]",
      "text/plain": [
       "<Figure size 432x288 with 1 Axes>"
      ]
     },
     "metadata": {
      "needs_background": "light"
     },
     "output_type": "display_data"
    }
   ],
   "source": [
    "for i in range(20):\n",
    "    toplum = yeni_toplum(toplum, olasiliklar, mutasyon = mutasyon2, p= 0.15) \n",
    "    olasiliklar = olasilik(toplum, uyum=uyum2)\n",
    "\n",
    "adam_ciz(en_iyi(toplum, olasiliklar))"
   ]
  },
  {
   "cell_type": "code",
   "execution_count": 46,
   "metadata": {},
   "outputs": [
    {
     "data": {
      "image/png": "[encoded data removed]",
      "text/plain": [
       "<Figure size 432x288 with 1 Axes>"
      ]
     },
     "metadata": {
      "needs_background": "light"
     },
     "output_type": "display_data"
    }
   ],
   "source": [
    "for i in range(20):\n",
    "    toplum = yeni_toplum(toplum, olasiliklar, mutasyon = mutasyon2, p= 0.15) \n",
    "    olasiliklar = olasilik(toplum, uyum=uyum2)\n",
    "\n",
    "adam_ciz(en_iyi(toplum, olasiliklar))"
   ]
  },
  {
   "cell_type": "code",
   "execution_count": 47,
   "metadata": {},
   "outputs": [
    {
     "data": {
      "image/png": "[encoded data removed]",
      "text/plain": [
       "<Figure size 432x288 with 1 Axes>"
      ]
     },
     "metadata": {
      "needs_background": "light"
     },
     "output_type": "display_data"
    }
   ],
   "source": [
    "for i in range(20):\n",
    "    toplum = yeni_toplum(toplum, olasiliklar, mutasyon = mutasyon2, p= 0.15) \n",
    "    olasiliklar = olasilik(toplum, uyum=uyum2)\n",
    "\n",
    "adam_ciz(en_iyi(toplum, olasiliklar))"
   ]
  },
  {
   "cell_type": "code",
   "execution_count": 48,
   "metadata": {},
   "outputs": [
    {
     "data": {
      "image/png": "[encoded data removed]",
      "text/plain": [
       "<Figure size 432x288 with 1 Axes>"
      ]
     },
     "metadata": {
      "needs_background": "light"
     },
     "output_type": "display_data"
    }
   ],
   "source": [
    "for i in range(20):\n",
    "    toplum = yeni_toplum(toplum, olasiliklar, mutasyon = mutasyon2, p= 0.15) \n",
    "    olasiliklar = olasilik(toplum, uyum=uyum2)\n",
    "\n",
    "adam_ciz(en_iyi(toplum, olasiliklar))"
   ]
  },
  {
   "cell_type": "code",
   "execution_count": 49,
   "metadata": {},
   "outputs": [
    {
     "data": {
      "image/png": "[encoded data removed]",
      "text/plain": [
       "<Figure size 432x288 with 1 Axes>"
      ]
     },
     "metadata": {
      "needs_background": "light"
     },
     "output_type": "display_data"
    }
   ],
   "source": [
    "for i in range(20):\n",
    "    toplum = yeni_toplum(toplum, olasiliklar, mutasyon = mutasyon2, p= 0.15) \n",
    "    olasiliklar = olasilik(toplum, uyum=uyum2)\n",
    "\n",
    "adam_ciz(en_iyi(toplum, olasiliklar))"
   ]
  },
  {
   "cell_type": "code",
   "execution_count": 50,
   "metadata": {},
   "outputs": [
    {
     "data": {
      "image/png": "[encoded data removed]",
      "text/plain": [
       "<Figure size 432x288 with 1 Axes>"
      ]
     },
     "metadata": {
      "needs_background": "light"
     },
     "output_type": "display_data"
    }
   ],
   "source": [
    "for i in range(20):\n",
    "    toplum = yeni_toplum(toplum, olasiliklar, mutasyon = mutasyon2, p= 0.15) \n",
    "    olasiliklar = olasilik(toplum, uyum=uyum2)\n",
    "\n",
    "adam_ciz(en_iyi(toplum, olasiliklar))"
   ]
  },
  {
   "cell_type": "code",
   "execution_count": 51,
   "metadata": {},
   "outputs": [
    {
     "data": {
      "image/png": "[encoded data removed]",
      "text/plain": [
       "<Figure size 432x288 with 1 Axes>"
      ]
     },
     "metadata": {
      "needs_background": "light"
     },
     "output_type": "display_data"
    }
   ],
   "source": [
    "for i in range(20):\n",
    "    toplum = yeni_toplum(toplum, olasiliklar, mutasyon = mutasyon2, p= 0.15) \n",
    "    olasiliklar = olasilik(toplum, uyum=uyum2)\n",
    "\n",
    "adam_ciz(en_iyi(toplum, olasiliklar))"
   ]
  },
  {
   "cell_type": "code",
   "execution_count": 52,
   "metadata": {},
   "outputs": [
    {
     "data": {
      "image/png": "[encoded data removed]",
      "text/plain": [
       "<Figure size 432x288 with 1 Axes>"
      ]
     },
     "metadata": {
      "needs_background": "light"
     },
     "output_type": "display_data"
    }
   ],
   "source": [
    "for i in range(20):\n",
    "    toplum = yeni_toplum(toplum, olasiliklar, mutasyon = mutasyon2, p= 0.15) \n",
    "    olasiliklar = olasilik(toplum, uyum=uyum2)\n",
    "\n",
    "adam_ciz(en_iyi(toplum, olasiliklar))"
   ]
  },
  {
   "cell_type": "code",
   "execution_count": 53,
   "metadata": {},
   "outputs": [
    {
     "data": {
      "image/png": "[encoded data removed]",
      "text/plain": [
       "<Figure size 432x288 with 1 Axes>"
      ]
     },
     "metadata": {
      "needs_background": "light"
     },
     "output_type": "display_data"
    }
   ],
   "source": [
    "for i in range(20):\n",
    "    toplum = yeni_toplum(toplum, olasiliklar, mutasyon = mutasyon2, p= 0.15) \n",
    "    olasiliklar = olasilik(toplum, uyum=uyum2)\n",
    "\n",
    "adam_ciz(en_iyi(toplum, olasiliklar))"
   ]
  },
  {
   "cell_type": "code",
   "execution_count": 54,
   "metadata": {},
   "outputs": [
    {
     "data": {
      "image/png": "[encoded data removed]",
      "text/plain": [
       "<Figure size 432x288 with 1 Axes>"
      ]
     },
     "metadata": {
      "needs_background": "light"
     },
     "output_type": "display_data"
    }
   ],
   "source": [
    "for i in range(20):\n",
    "    toplum = yeni_toplum(toplum, olasiliklar, mutasyon = mutasyon2, p= 0.15) \n",
    "    olasiliklar = olasilik(toplum, uyum=uyum2)\n",
    "\n",
    "adam_ciz(en_iyi(toplum, olasiliklar))"
   ]
  },
  {
   "cell_type": "code",
   "execution_count": 55,
   "metadata": {},
   "outputs": [
    {
     "data": {
      "image/png": "[encoded data removed]",
      "text/plain": [
       "<Figure size 432x288 with 1 Axes>"
      ]
     },
     "metadata": {
      "needs_background": "light"
     },
     "output_type": "display_data"
    }
   ],
   "source": [
    "for i in range(20):\n",
    "    toplum = yeni_toplum(toplum, olasiliklar, mutasyon = mutasyon2, p= 0.15) \n",
    "    olasiliklar = olasilik(toplum, uyum=uyum2)\n",
    "\n",
    "adam_ciz(en_iyi(toplum, olasiliklar))"
   ]
  },
  {
   "cell_type": "code",
   "execution_count": 56,
   "metadata": {},
   "outputs": [
    {
     "data": {
      "image/png": "[encoded data removed]",
      "text/plain": [
       "<Figure size 432x288 with 1 Axes>"
      ]
     },
     "metadata": {
      "needs_background": "light"
     },
     "output_type": "display_data"
    }
   ],
   "source": [
    "for i in range(20):\n",
    "    toplum = yeni_toplum(toplum, olasiliklar, mutasyon = mutasyon2, p= 0.15) \n",
    "    olasiliklar = olasilik(toplum, uyum=uyum2)\n",
    "\n",
    "adam_ciz(en_iyi(toplum, olasiliklar))"
   ]
  },
  {
   "cell_type": "code",
   "execution_count": 57,
   "metadata": {},
   "outputs": [
    {
     "data": {
      "image/png": "[encoded data removed]",
      "text/plain": [
       "<Figure size 432x288 with 1 Axes>"
      ]
     },
     "metadata": {
      "needs_background": "light"
     },
     "output_type": "display_data"
    }
   ],
   "source": [
    "for i in range(20):\n",
    "    toplum = yeni_toplum(toplum, olasiliklar, mutasyon = mutasyon2, p= 0.15) \n",
    "    olasiliklar = olasilik(toplum, uyum=uyum2)\n",
    "\n",
    "adam_ciz(en_iyi(toplum, olasiliklar))"
   ]
  },
  {
   "cell_type": "code",
   "execution_count": 58,
   "metadata": {},
   "outputs": [
    {
     "data": {
      "image/png": "[encoded data removed]",
      "text/plain": [
       "<Figure size 432x288 with 1 Axes>"
      ]
     },
     "metadata": {
      "needs_background": "light"
     },
     "output_type": "display_data"
    }
   ],
   "source": [
    "for i in range(20):\n",
    "    toplum = yeni_toplum(toplum, olasiliklar, mutasyon = mutasyon2, p= 0.15) \n",
    "    olasiliklar = olasilik(toplum, uyum=uyum2)\n",
    "\n",
    "adam_ciz(en_iyi(toplum, olasiliklar))"
   ]
  },
  {
   "cell_type": "code",
   "execution_count": 59,
   "metadata": {},
   "outputs": [
    {
     "data": {
      "image/png": "[encoded data removed]",
      "text/plain": [
       "<Figure size 432x288 with 1 Axes>"
      ]
     },
     "metadata": {
      "needs_background": "light"
     },
     "output_type": "display_data"
    }
   ],
   "source": [
    "for i in range(20):\n",
    "    toplum = yeni_toplum(toplum, olasiliklar, mutasyon = mutasyon2, p= 0.15) \n",
    "    olasiliklar = olasilik(toplum, uyum=uyum2)\n",
    "\n",
    "adam_ciz(en_iyi(toplum, olasiliklar))"
   ]
  },
  {
   "cell_type": "code",
   "execution_count": 60,
   "metadata": {},
   "outputs": [
    {
     "data": {
      "image/png": "[encoded data removed]",
      "text/plain": [
       "<Figure size 432x288 with 1 Axes>"
      ]
     },
     "metadata": {
      "needs_background": "light"
     },
     "output_type": "display_data"
    }
   ],
   "source": [
    "for i in range(20):\n",
    "    toplum = yeni_toplum(toplum, olasiliklar, mutasyon = mutasyon2, p= 0.15) \n",
    "    olasiliklar = olasilik(toplum, uyum=uyum2)\n",
    "\n",
    "adam_ciz(en_iyi(toplum, olasiliklar))"
   ]
  },
  {
   "cell_type": "markdown",
   "metadata": {},
   "source": [
    "# Yeniden Dene - Genesys"
   ]
  },
  {
   "cell_type": "code",
   "execution_count": 61,
   "metadata": {},
   "outputs": [
    {
     "data": {
      "image/png": "[encoded data removed]",
      "text/plain": [
       "<Figure size 432x288 with 1 Axes>"
      ]
     },
     "metadata": {
      "needs_background": "light"
     },
     "output_type": "display_data"
    }
   ],
   "source": [
    "N = 100 # Toplumdaki kisi sayisi N\n",
    "toplum = np.array([kisi2()  for i in range(N)])\n",
    "olasiliklar = olasilik(toplum, uyum=uyum2)\n",
    "\n",
    "adam_ciz(en_iyi(toplum, olasiliklar))"
   ]
  },
  {
   "cell_type": "code",
   "execution_count": 62,
   "metadata": {},
   "outputs": [
    {
     "data": {
      "image/png": "[encoded data removed]",
      "text/plain": [
       "<Figure size 432x288 with 1 Axes>"
      ]
     },
     "metadata": {
      "needs_background": "light"
     },
     "output_type": "display_data"
    }
   ],
   "source": [
    "for i in range(100):\n",
    "    toplum = yeni_toplum(toplum, olasiliklar, mutasyon = mutasyon2, p= 0.15) \n",
    "    olasiliklar = olasilik(toplum, uyum=uyum2)\n",
    "\n",
    "adam_ciz(en_iyi(toplum, olasiliklar))"
   ]
  },
  {
   "cell_type": "markdown",
   "metadata": {},
   "source": [
    "# Yol bulma"
   ]
  },
  {
   "cell_type": "code",
   "execution_count": 81,
   "metadata": {},
   "outputs": [
    {
     "data": {
      "image/png": "[encoded data removed]",
      "text/plain": [
       "<Figure size 432x288 with 1 Axes>"
      ]
     },
     "metadata": {
      "needs_background": "light"
     },
     "output_type": "display_data"
    }
   ],
   "source": [
    "hx, hy = 9, 9  # hedef\n",
    "x, y = 2, 0    # baslangic\n",
    "\n",
    "yolx = [x]\n",
    "yoly = [y]\n",
    "\n",
    "def ciz():\n",
    "    global x, y\n",
    "    plt.plot(hx, hy, 'go', markersize=10)\n",
    "    plt.plot(x, y, 'r^', markersize=15)\n",
    "    plt.plot(yolx, yoly)\n",
    "    plt.axis((-2,hx+2,0,hy+2))\n",
    "    plt.grid()\n",
    "    plt.show()\n",
    "\n",
    "ciz()"
   ]
  },
  {
   "cell_type": "code",
   "execution_count": 82,
   "metadata": {},
   "outputs": [],
   "source": [
    "def sag():\n",
    "    global x, y\n",
    "    x = x +1\n",
    "    yolx.append(x)\n",
    "    yoly.append(y)\n",
    "    \n",
    "def sol():\n",
    "    global x, y\n",
    "    x = x -1\n",
    "    yolx.append(x)\n",
    "    yoly.append(y)\n",
    "    \n",
    "def yukari():\n",
    "    global x, y\n",
    "    y = y + 1\n",
    "    yolx.append(x)\n",
    "    yoly.append(y)\n",
    "    \n",
    "def reset():\n",
    "    global yolx, yoly, x, y\n",
    "    x, y = 2, 0    # baslangic\n",
    "\n",
    "    yolx = [x]\n",
    "    yoly = [y] "
   ]
  },
  {
   "cell_type": "code",
   "execution_count": 83,
   "metadata": {},
   "outputs": [
    {
     "name": "stdout",
     "output_type": "stream",
     "text": [
      "[2, 2, 3, 3, 4, 4, 5, 5, 4]\n",
      "[0, 1, 1, 2, 2, 3, 3, 4, 4]\n"
     ]
    }
   ],
   "source": [
    "reset()\n",
    "\n",
    "yukari()\n",
    "sag()\n",
    "yukari()\n",
    "sag()\n",
    "yukari()\n",
    "sag()\n",
    "yukari()\n",
    "sol()\n",
    "print(yolx)\n",
    "print(yoly)"
   ]
  },
  {
   "cell_type": "code",
   "execution_count": 84,
   "metadata": {},
   "outputs": [
    {
     "data": {
      "image/png": "[encoded data removed]",
      "text/plain": [
       "<Figure size 432x288 with 1 Axes>"
      ]
     },
     "metadata": {
      "needs_background": "light"
     },
     "output_type": "display_data"
    }
   ],
   "source": [
    "ciz()"
   ]
  },
  {
   "cell_type": "code",
   "execution_count": 85,
   "metadata": {},
   "outputs": [],
   "source": [
    "hareket = {\"YUK\":yukari, \"SAG\":sag, \"SOL\":sol}"
   ]
  },
  {
   "cell_type": "code",
   "execution_count": 86,
   "metadata": {},
   "outputs": [
    {
     "data": {
      "text/plain": [
       "array(['YUK', 'SAG', 'SOL', 'SAG', 'SOL', 'SOL', 'SAG', 'SAG'],\n",
       "      dtype='<U3')"
      ]
     },
     "execution_count": 86,
     "metadata": {},
     "output_type": "execute_result"
    }
   ],
   "source": [
    "cozum = np.random.choice([\"YUK\",\"SAG\",\"SOL\"], 8)\n",
    "cozum"
   ]
  },
  {
   "cell_type": "code",
   "execution_count": 87,
   "metadata": {},
   "outputs": [
    {
     "data": {
      "text/plain": [
       "3"
      ]
     },
     "execution_count": 87,
     "metadata": {},
     "output_type": "execute_result"
    }
   ],
   "source": [
    "m = np.random.choice(len(cozum))\n",
    "m"
   ]
  },
  {
   "cell_type": "code",
   "execution_count": 88,
   "metadata": {},
   "outputs": [
    {
     "data": {
      "text/plain": [
       "array(['YUK', 'SAG', 'SOL', 'SOL', 'SOL', 'SOL', 'SAG', 'SAG'],\n",
       "      dtype='<U3')"
      ]
     },
     "execution_count": 88,
     "metadata": {},
     "output_type": "execute_result"
    }
   ],
   "source": [
    "cozum[m] = np.random.choice([\"YUK\",\"SAG\",\"SOL\"])\n",
    "cozum"
   ]
  },
  {
   "cell_type": "code",
   "execution_count": 89,
   "metadata": {},
   "outputs": [
    {
     "name": "stdout",
     "output_type": "stream",
     "text": [
      "['SOL' 'SOL' 'SAG' 'YUK' 'SOL' 'YUK' 'SOL' 'SOL']\n",
      "['SAG' 'SAG' 'SAG' 'SAG' 'SOL' 'SOL' 'SAG' 'SAG']\n"
     ]
    }
   ],
   "source": [
    "cozum1 = np.random.choice([\"YUK\",\"SAG\",\"SOL\"], 8)\n",
    "cozum2 = np.random.choice([\"YUK\",\"SAG\",\"SOL\"], 8)\n",
    "print(cozum1)\n",
    "print(cozum2)"
   ]
  },
  {
   "cell_type": "code",
   "execution_count": 90,
   "metadata": {},
   "outputs": [
    {
     "data": {
      "text/plain": [
       "array(['SOL', 'SOL', 'SAG', 'SAG', 'SOL', 'SOL', 'SAG', 'SAG'],\n",
       "      dtype='<U3')"
      ]
     },
     "execution_count": 90,
     "metadata": {},
     "output_type": "execute_result"
    }
   ],
   "source": [
    "n =3\n",
    "np.hstack((cozum1[:n],cozum2[n:]))"
   ]
  },
  {
   "cell_type": "code",
   "execution_count": 91,
   "metadata": {},
   "outputs": [
    {
     "data": {
      "text/plain": [
       "<function __main__.yukari()>"
      ]
     },
     "execution_count": 91,
     "metadata": {},
     "output_type": "execute_result"
    }
   ],
   "source": [
    " hareket['YUK']"
   ]
  },
  {
   "cell_type": "code",
   "execution_count": 92,
   "metadata": {},
   "outputs": [
    {
     "name": "stdout",
     "output_type": "stream",
     "text": [
      "[2, 2, 3, 2, 1, 0, -1, 0, 1]\n",
      "[0, 1, 1, 1, 1, 1, 1, 1, 1]\n"
     ]
    },
    {
     "data": {
      "image/png": "[encoded data removed]",
      "text/plain": [
       "<Figure size 432x288 with 1 Axes>"
      ]
     },
     "metadata": {
      "needs_background": "light"
     },
     "output_type": "display_data"
    }
   ],
   "source": [
    "reset()\n",
    "for c in cozum:\n",
    "    hareket[c]()\n",
    "print(yolx)\n",
    "print(yoly)\n",
    "ciz()"
   ]
  },
  {
   "cell_type": "code",
   "execution_count": 93,
   "metadata": {},
   "outputs": [],
   "source": [
    "def cozumciz(cozum):\n",
    "    reset()\n",
    "    for c in cozum:\n",
    "        hareket[c]()\n",
    "    print(yolx)\n",
    "    print(yoly)\n",
    "    ciz()  "
   ]
  },
  {
   "cell_type": "code",
   "execution_count": 94,
   "metadata": {},
   "outputs": [],
   "source": [
    "#################################################################\n",
    "def kisi3(n = 8):\n",
    "    \"\"\" n uzunlugunda OYA harflerinden olusan genotip\n",
    "        ornek: kisi3() >> ['SAG', 'YUK', 'SOL', 'YUK', 'YUK', 'SAG', 'YUK', 'SOL']\n",
    "    \"\"\"\n",
    "    return np.random.choice([\"YUK\",\"SAG\",\"SOL\"], n)\n",
    "\n",
    "def uyum3(cozum):\n",
    "    \"\"\" probleme gore uyum degisir. \n",
    "    Burada maksimizasyon probleminde, ne kadar cok bire sahipseniz o kadar uyumlusunuz.\"\"\"\n",
    "    reset()\n",
    "    for c in cozum:\n",
    "        hareket[c]()\n",
    "    \n",
    "    fark_kare = (yolx[-1] - hx)**2 + (yoly[-1] - hy)**2 \n",
    "    return 1/(1+fark_kare**(0.5))\n",
    "\n",
    "def mutasyon3(kisi, p):\n",
    "    \"\"\" p olasilikla kisinin bir ozelligine OYA harflerinden rastgele\n",
    "    biri atanir.\"\"\"\n",
    "    if np.random.rand() < p:\n",
    "        m = np.random.choice(len(kisi))\n",
    "        kisi[m] = np.random.choice([\"YUK\",\"SAG\",\"SOL\"])\n",
    "            \n",
    "#################################################################  "
   ]
  },
  {
   "cell_type": "code",
   "execution_count": 100,
   "metadata": {},
   "outputs": [
    {
     "data": {
      "text/plain": [
       "array(['SAG', 'YUK', 'YUK', 'SOL', 'SOL', 'SAG', 'YUK', 'SAG', 'SAG',\n",
       "       'SAG', 'SAG', 'YUK', 'YUK', 'SAG', 'YUK', 'SAG'], dtype='<U3')"
      ]
     },
     "execution_count": 100,
     "metadata": {},
     "output_type": "execute_result"
    }
   ],
   "source": [
    "N = 10 # Toplumdaki kisi sayisi N\n",
    "toplum = np.array([kisi3(n = 16)  for i in range(N)])\n",
    "olasiliklar = olasilik(toplum, uyum=uyum3)\n",
    "\n",
    "eniyi = en_iyi(toplum, olasiliklar)\n",
    "eniyi"
   ]
  },
  {
   "cell_type": "code",
   "execution_count": 101,
   "metadata": {},
   "outputs": [],
   "source": [
    "#toplum"
   ]
  },
  {
   "cell_type": "code",
   "execution_count": 102,
   "metadata": {},
   "outputs": [
    {
     "name": "stdout",
     "output_type": "stream",
     "text": [
      "[2, 3, 3, 3, 2, 1, 2, 2, 3, 4, 5, 6, 6, 6, 7, 7, 8]\n",
      "[0, 0, 1, 2, 2, 2, 2, 3, 3, 3, 3, 3, 4, 5, 5, 6, 6]\n"
     ]
    },
    {
     "data": {
      "image/png": "[encoded data removed]",
      "text/plain": [
       "<Figure size 432x288 with 1 Axes>"
      ]
     },
     "metadata": {
      "needs_background": "light"
     },
     "output_type": "display_data"
    }
   ],
   "source": [
    "cozumciz(eniyi)"
   ]
  },
  {
   "cell_type": "code",
   "execution_count": 103,
   "metadata": {},
   "outputs": [
    {
     "name": "stdout",
     "output_type": "stream",
     "text": [
      "[2, 1, 1, 2, 3, 3, 2, 2, 2, 3, 4, 5, 5, 5, 6, 6, 7]\n",
      "[0, 0, 1, 1, 1, 2, 2, 3, 4, 4, 4, 4, 5, 6, 6, 7, 7]\n"
     ]
    },
    {
     "data": {
      "image/png": "[encoded data removed]",
      "text/plain": [
       "<Figure size 432x288 with 1 Axes>"
      ]
     },
     "metadata": {
      "needs_background": "light"
     },
     "output_type": "display_data"
    }
   ],
   "source": [
    "for i in range(10):\n",
    "    toplum = yeni_toplum(toplum, olasiliklar, mutasyon = mutasyon3, p= 0.15) \n",
    "    olasiliklar = olasilik(toplum, uyum=uyum3)\n",
    "cozumciz(en_iyi(toplum, olasiliklar))"
   ]
  },
  {
   "cell_type": "code",
   "execution_count": 104,
   "metadata": {},
   "outputs": [
    {
     "name": "stdout",
     "output_type": "stream",
     "text": [
      "[2, 3, 3, 3, 4, 4, 3, 3, 3, 4, 5, 6, 6, 6, 7, 7, 8]\n",
      "[0, 0, 1, 2, 2, 3, 3, 4, 5, 5, 5, 5, 6, 7, 7, 8, 8]\n"
     ]
    },
    {
     "data": {
      "image/png": "[encoded data removed]",
      "text/plain": [
       "<Figure size 432x288 with 1 Axes>"
      ]
     },
     "metadata": {
      "needs_background": "light"
     },
     "output_type": "display_data"
    }
   ],
   "source": [
    "for i in range(20):\n",
    "    toplum = yeni_toplum(toplum, olasiliklar, mutasyon = mutasyon3, p= 0.15) \n",
    "    olasiliklar = olasilik(toplum, uyum=uyum3)\n",
    "cozumciz(en_iyi(toplum, olasiliklar))"
   ]
  },
  {
   "cell_type": "code",
   "execution_count": 105,
   "metadata": {},
   "outputs": [
    {
     "name": "stdout",
     "output_type": "stream",
     "text": [
      "[2, 3, 3, 4, 5, 5, 4, 4, 4, 5, 6, 6, 6, 6, 7, 7, 8]\n",
      "[0, 0, 1, 1, 1, 2, 2, 3, 4, 4, 4, 5, 6, 7, 7, 8, 8]\n"
     ]
    },
    {
     "data": {
      "image/png": "[encoded data removed]",
      "text/plain": [
       "<Figure size 432x288 with 1 Axes>"
      ]
     },
     "metadata": {
      "needs_background": "light"
     },
     "output_type": "display_data"
    }
   ],
   "source": [
    "for i in range(5):\n",
    "    toplum = yeni_toplum(toplum, olasiliklar, mutasyon = mutasyon3, p= 0.15) \n",
    "    olasiliklar = olasilik(toplum, uyum=uyum3)\n",
    "cozumciz(en_iyi(toplum, olasiliklar))"
   ]
  },
  {
   "cell_type": "code",
   "execution_count": 106,
   "metadata": {},
   "outputs": [
    {
     "name": "stdout",
     "output_type": "stream",
     "text": [
      "[2, 3, 3, 4, 5, 5, 5, 5, 5, 6, 7, 7, 7, 7, 8, 8, 9]\n",
      "[0, 0, 1, 1, 1, 2, 3, 4, 5, 5, 5, 6, 7, 8, 8, 9, 9]\n"
     ]
    },
    {
     "data": {
      "image/png": "[encoded data removed]",
      "text/plain": [
       "<Figure size 432x288 with 1 Axes>"
      ]
     },
     "metadata": {
      "needs_background": "light"
     },
     "output_type": "display_data"
    }
   ],
   "source": [
    "for i in range(20):\n",
    "    toplum = yeni_toplum(toplum, olasiliklar, mutasyon = mutasyon3, p= 0.15) \n",
    "    olasiliklar = olasilik(toplum, uyum=uyum3)\n",
    "cozumciz(en_iyi(toplum, olasiliklar))"
   ]
  },
  {
   "cell_type": "code",
   "execution_count": null,
   "metadata": {},
   "outputs": [],
   "source": []
  }
 ],
 "metadata": {
  "kernelspec": {
   "display_name": "Python 3",
   "language": "python",
   "name": "python3"
  },
  "language_info": {
   "codemirror_mode": {
    "name": "ipython",
    "version": 3
   },
   "file_extension": ".py",
   "mimetype": "text/x-python",
   "name": "python",
   "nbconvert_exporter": "python",
   "pygments_lexer": "ipython3",
   "version": "3.6.7"
  }
 },
 "nbformat": 4,
 "nbformat_minor": 2
}
