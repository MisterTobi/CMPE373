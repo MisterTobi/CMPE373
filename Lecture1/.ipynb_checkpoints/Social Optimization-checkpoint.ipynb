{
 "cells": [
  {
   "cell_type": "code",
   "execution_count": 1,
   "metadata": {
    "collapsed": true
   },
   "outputs": [],
   "source": [
    "from random import randint\n",
    "import numpy as np\n",
    "import matplotlib.pyplot as plt\n",
    "%matplotlib inline"
   ]
  },
  {
   "cell_type": "code",
   "execution_count": 101,
   "metadata": {},
   "outputs": [],
   "source": [
    "class socialMan():\n",
    "    def __init__(self, ID, W, X, y):\n",
    "        self.ID, self.W, self.X, self.y = ID, W, X, y\n",
    "    def immitate(self, other): # immitate betters\n",
    "        if other.performance() > self.performance():\n",
    "            row = np.random.randint(other.W.shape[0])\n",
    "            self.W[row,:] = other.W[row,:]\n",
    "        if np.random.rand() < 0.2: # mutation\n",
    "            row = np.random.randint(other.W.shape[0])\n",
    "            self.W[row,:] = np.random.randint(20, size = me.W.shape[1])\n",
    "    def performance(self):\n",
    "        return 1/(1+np.sum(np.power(self.y - self.W.T.dot(self.X),2)))\n",
    "    \n",
    "class socialWorld():\n",
    "    def __init__(self, N = 100, time = 1200):\n",
    "        self.N, self.time = N, time\n",
    "        self.socialMen = [socialMan(i) for i in range(self.N)]\n",
    "        self.socialMen[0].take(1) # Initially, only one adopter\n",
    "   "
   ]
  },
  {
   "cell_type": "code",
   "execution_count": 102,
   "metadata": {},
   "outputs": [
    {
     "data": {
      "text/plain": [
       "array([[15, 20, 25, 30, 35]])"
      ]
     },
     "execution_count": 102,
     "metadata": {},
     "output_type": "execute_result"
    }
   ],
   "source": [
    "correctW = np.array([[10],[5]])\n",
    "X = np.array([[1,1,1,1,1],[1,2,3,4,5]])\n",
    "y = correctW.T.dot(X)\n",
    "y"
   ]
  },
  {
   "cell_type": "code",
   "execution_count": 103,
   "metadata": {},
   "outputs": [],
   "source": [
    "me = socialMan(ID = 0, W = np.array([[0],[5]]), X=X, y=y)\n",
    "you = socialMan(ID = 1, W = np.array([[10],[5]]), X=X, y=y)"
   ]
  },
  {
   "cell_type": "code",
   "execution_count": 104,
   "metadata": {},
   "outputs": [
    {
     "data": {
      "text/plain": [
       "(0.001996007984031936, 1.0)"
      ]
     },
     "execution_count": 104,
     "metadata": {},
     "output_type": "execute_result"
    }
   ],
   "source": [
    "me.performance(), you.performance()"
   ]
  },
  {
   "cell_type": "code",
   "execution_count": 105,
   "metadata": {
    "collapsed": true
   },
   "outputs": [],
   "source": [
    "me.immitate(you)"
   ]
  },
  {
   "cell_type": "code",
   "execution_count": null,
   "metadata": {},
   "outputs": [],
   "source": [
    "\n"
   ]
  },
  {
   "cell_type": "code",
   "execution_count": 109,
   "metadata": {},
   "outputs": [],
   "source": [
    "N, time = 10, 10000\n",
    "socialMen = [socialMan(i, W = np.random.randint(20, size = (2,1)), X=X, y=y) for i in range(N)]"
   ]
  },
  {
   "cell_type": "code",
   "execution_count": 112,
   "metadata": {},
   "outputs": [],
   "source": [
    "for i in range(time):\n",
    "    pair = np.random.randint(N, size = 2)\n",
    "    A, B = pair[0], pair[1]\n",
    "    socialMen[A].immitate(socialMen[B])"
   ]
  },
  {
   "cell_type": "code",
   "execution_count": 113,
   "metadata": {},
   "outputs": [
    {
     "name": "stdout",
     "output_type": "stream",
     "text": [
      "[[9]\n",
      " [5]]\n",
      "[[10]\n",
      " [ 5]]\n",
      "[[10]\n",
      " [ 2]]\n",
      "[[10]\n",
      " [ 2]]\n",
      "[[19]\n",
      " [ 2]]\n",
      "[[14]\n",
      " [ 5]]\n",
      "[[10]\n",
      " [ 5]]\n",
      "[[10]\n",
      " [ 1]]\n",
      "[[10]\n",
      " [ 5]]\n",
      "[[10]\n",
      " [ 5]]\n"
     ]
    }
   ],
   "source": [
    "for i in range(N):\n",
    "    print(socialMen[i].W)"
   ]
  },
  {
   "cell_type": "code",
   "execution_count": 34,
   "metadata": {},
   "outputs": [
    {
     "data": {
      "text/plain": [
       "(3, 8)"
      ]
     },
     "execution_count": 34,
     "metadata": {},
     "output_type": "execute_result"
    }
   ],
   "source": [
    "A, B"
   ]
  },
  {
   "cell_type": "code",
   "execution_count": 50,
   "metadata": {},
   "outputs": [
    {
     "data": {
      "text/plain": [
       "0.1574131692003926"
      ]
     },
     "execution_count": 50,
     "metadata": {},
     "output_type": "execute_result"
    }
   ],
   "source": []
  },
  {
   "cell_type": "code",
   "execution_count": 58,
   "metadata": {},
   "outputs": [
    {
     "data": {
      "text/plain": [
       "array([17,  7,  0, 16])"
      ]
     },
     "execution_count": 58,
     "metadata": {},
     "output_type": "execute_result"
    }
   ],
   "source": [
    "np.random.randint(20, size = 4)"
   ]
  },
  {
   "cell_type": "code",
   "execution_count": null,
   "metadata": {
    "collapsed": true
   },
   "outputs": [],
   "source": []
  }
 ],
 "metadata": {
  "kernelspec": {
   "display_name": "Python 3",
   "language": "python",
   "name": "python3"
  },
  "language_info": {
   "codemirror_mode": {
    "name": "ipython",
    "version": 3
   },
   "file_extension": ".py",
   "mimetype": "text/x-python",
   "name": "python",
   "nbconvert_exporter": "python",
   "pygments_lexer": "ipython3",
   "version": "3.6.1"
  }
 },
 "nbformat": 4,
 "nbformat_minor": 2
}
