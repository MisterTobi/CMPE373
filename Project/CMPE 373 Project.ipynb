{
 "cells": [
  {
   "cell_type": "markdown",
   "metadata": {},
   "source": [
    "# CMPE 373 Project\n",
    "\n",
    "Project consists of 4 steps\n",
    "\n",
    " - __[20P]__ Find a real world data (like \n",
    " [facial expression recognition](https://www.kaggle.com/c/challenges-in-representation-learning-facial-expression-recognition-challenge) data)\n",
    " - __[20P]__ Run your gradient-descent based implementation ([Course Code](http://nbviewer.jupyter.org/github/uzay00/KaVe/blob/master/Ders4/Yapay%20Sinir%20Ağları.ipynb)) of Artificial Neural Networks  on data\n",
    " - __[20P]__ Run built-in Artificial Neural Networks using Keras library ([Course Example](http://nbviewer.jupyter.org/github/uzay00/KaVe/blob/master/Proje6-7-8/Churn%20Analizi.ipynb))\n",
    " - __[40P]__ Write and implement agent-based implementation of Artificial Neural Networks.To accomplish this,\n",
    "  -  look how we implement [logistic regression with agent-based optimisation](https://github.com/uzay00/CMPE373/blob/master/Lecture5/Logistic%20Regression%20with%20Social%20Optimization.ipynb)"
   ]
  },
  {
   "cell_type": "code",
   "execution_count": null,
   "metadata": {},
   "outputs": [],
   "source": []
  }
 ],
 "metadata": {
  "kernelspec": {
   "display_name": "Python 3",
   "language": "python",
   "name": "python3"
  },
  "language_info": {
   "codemirror_mode": {
    "name": "ipython",
    "version": 3
   },
   "file_extension": ".py",
   "mimetype": "text/x-python",
   "name": "python",
   "nbconvert_exporter": "python",
   "pygments_lexer": "ipython3",
   "version": "3.6.4"
  }
 },
 "nbformat": 4,
 "nbformat_minor": 2
}
