{
 "cells": [
  {
   "cell_type": "markdown",
   "metadata": {},
   "source": [
    "# An Artificial world to simulate infection propogation."
   ]
  },
  {
   "cell_type": "code",
   "execution_count": 58,
   "metadata": {},
   "outputs": [],
   "source": [
    "import numpy as np\n",
    "import matplotlib.pyplot as plt\n",
    "%matplotlib inline"
   ]
  },
  {
   "cell_type": "code",
   "execution_count": 142,
   "metadata": {},
   "outputs": [],
   "source": [
    "class socialMan():\n",
    "    \"\"\"A Simple agent who can be infected or not\"\"\"\n",
    "    def __init__(self, ID = 0, infected = False):\n",
    "        self.ID, self.infected = ID, infected\n",
    "    def learn(self, other):\n",
    "        \"\"\"IF not infected agent A meets with infected agent B, A gets infected.\"\"\"\n",
    "        if not self.infected and other.infected:\n",
    "            self.infected = True\n",
    "            return True\n",
    "        return False\n",
    "            \n",
    "class socialWorld():\n",
    "    \"\"\"An Artificial world to simulate infection propogation.\"\"\"\n",
    "    def __init__(self, N = 200, time = 2000):\n",
    "        self.N, self.time = N, time\n",
    "        self.population = [socialMan(ID = i) for i in range(N)]\n",
    "        # Initially there is onle one agent who is infected\n",
    "        self.population[0].infected = True \n",
    "        self.count = 1 # number of infected people\n",
    "        \n",
    "    def exchange(self):\n",
    "        \"\"\"Select two agents at random and let them interact.\"\"\"\n",
    "        pair = np.random.randint(self.N, size=2)\n",
    "        A, B = self.population[pair[0]], self.population[pair[1]]\n",
    "        if A.learn(B): self.count += 1\n",
    "        if B.learn(A): self.count += 1\n",
    "                \n",
    "    def runTheWorld(self):\n",
    "        adopters = [0] * self.time\n",
    "        for t in range(self.time):\n",
    "            self.exchange()\n",
    "            adopters[t] = self.count\n",
    "        return adopters      "
   ]
  },
  {
   "cell_type": "code",
   "execution_count": 143,
   "metadata": {},
   "outputs": [
    {
     "data": {
      "text/plain": [
       "[<matplotlib.lines.Line2D at 0x11f069668>]"
      ]
     },
     "execution_count": 143,
     "metadata": {},
     "output_type": "execute_result"
    },
    {
     "data": {
      "image/png": "[encoded data removed]",
      "text/plain": [
       "<matplotlib.figure.Figure at 0x11ef25710>"
      ]
     },
     "metadata": {},
     "output_type": "display_data"
    }
   ],
   "source": [
    "world = socialWorld()\n",
    "I = world.runTheWorld()\n",
    "plt.plot(I)"
   ]
  }
 ],
 "metadata": {
  "kernelspec": {
   "display_name": "Python 3",
   "language": "python",
   "name": "python3"
  },
  "language_info": {
   "codemirror_mode": {
    "name": "ipython",
    "version": 3
   },
   "file_extension": ".py",
   "mimetype": "text/x-python",
   "name": "python",
   "nbconvert_exporter": "python",
   "pygments_lexer": "ipython3",
   "version": "3.6.7"
  }
 },
 "nbformat": 4,
 "nbformat_minor": 2
}
