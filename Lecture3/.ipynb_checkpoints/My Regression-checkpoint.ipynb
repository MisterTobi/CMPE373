{
 "cells": [
  {
   "cell_type": "code",
   "execution_count": 15,
   "metadata": {},
   "outputs": [
    {
     "data": {
      "image/png": "[encoded data removed]",
      "text/plain": [
       "<matplotlib.figure.Figure at 0x117b3c828>"
      ]
     },
     "metadata": {},
     "output_type": "display_data"
    }
   ],
   "source": [
    "# Importing the libraries\n",
    "import numpy as np\n",
    "import matplotlib.pyplot as plt\n",
    "%matplotlib inline  \n",
    "import pandas as pd\n",
    "from sklearn.cross_validation import train_test_split\n",
    "from sklearn.linear_model import LinearRegression\n",
    "\n",
    "# Importing the dataset from the url\n",
    "url = 'https://raw.githubusercontent.com/uzay00/KaVe/master/Ders2/data/Salary_Data.csv'\n",
    "data = pd.read_csv(url)\n",
    "X = data.iloc[:, :-1].values\n",
    "y = data.iloc[:, -1].values\n",
    "\n",
    "# Split dataset into train ab=nd test sets\n",
    "X_train, X_test, y_train, t_test = train_test_split(X,y,test_size = 1/3, random_state = 0)\n",
    "\n",
    "# fit simple linear regression model to the data\n",
    "lr = LinearRegression()\n",
    "lr.fit(X_train, y_train)\n",
    "# make predicitions\n",
    "y_pred = lr.predict(X_test)\n",
    "\n",
    "# Plot\n",
    "plt.scatter(X_train, y_train, color = 'red')\n",
    "plt.plot(X_train, lr.predict(X_train))\n",
    "plt.title('Experience vs Salary'); plt.xlabel('Years of Experience');plt.ylabel('Salary');\n",
    "#plt.xlabel('Population of City in 10,000s');plt.ylabel('Profit in $10,000s');\n",
    "plt.grid()"
   ]
  },
  {
   "cell_type": "code",
   "execution_count": 16,
   "metadata": {},
   "outputs": [
    {
     "data": {
      "text/html": [
       "<div>\n",
       "<style scoped>\n",
       "    .dataframe tbody tr th:only-of-type {\n",
       "        vertical-align: middle;\n",
       "    }\n",
       "\n",
       "    .dataframe tbody tr th {\n",
       "        vertical-align: top;\n",
       "    }\n",
       "\n",
       "    .dataframe thead th {\n",
       "        text-align: right;\n",
       "    }\n",
       "</style>\n",
       "<table border=\"1\" class=\"dataframe\">\n",
       "  <thead>\n",
       "    <tr style=\"text-align: right;\">\n",
       "      <th></th>\n",
       "      <th>YearsExperience</th>\n",
       "      <th>Salary</th>\n",
       "    </tr>\n",
       "  </thead>\n",
       "  <tbody>\n",
       "    <tr>\n",
       "      <th>0</th>\n",
       "      <td>1.1</td>\n",
       "      <td>39343.0</td>\n",
       "    </tr>\n",
       "    <tr>\n",
       "      <th>1</th>\n",
       "      <td>1.3</td>\n",
       "      <td>46205.0</td>\n",
       "    </tr>\n",
       "    <tr>\n",
       "      <th>2</th>\n",
       "      <td>1.5</td>\n",
       "      <td>37731.0</td>\n",
       "    </tr>\n",
       "    <tr>\n",
       "      <th>3</th>\n",
       "      <td>2.0</td>\n",
       "      <td>43525.0</td>\n",
       "    </tr>\n",
       "    <tr>\n",
       "      <th>4</th>\n",
       "      <td>2.2</td>\n",
       "      <td>39891.0</td>\n",
       "    </tr>\n",
       "  </tbody>\n",
       "</table>\n",
       "</div>"
      ],
      "text/plain": [
       "   YearsExperience   Salary\n",
       "0              1.1  39343.0\n",
       "1              1.3  46205.0\n",
       "2              1.5  37731.0\n",
       "3              2.0  43525.0\n",
       "4              2.2  39891.0"
      ]
     },
     "execution_count": 16,
     "metadata": {},
     "output_type": "execute_result"
    }
   ],
   "source": [
    "data.head()"
   ]
  },
  {
   "cell_type": "code",
   "execution_count": 18,
   "metadata": {},
   "outputs": [
    {
     "data": {
      "text/plain": [
       "array([[ 1.1],\n",
       "       [ 1.3],\n",
       "       [ 1.5],\n",
       "       [ 2. ],\n",
       "       [ 2.2],\n",
       "       [ 2.9],\n",
       "       [ 3. ],\n",
       "       [ 3.2],\n",
       "       [ 3.2],\n",
       "       [ 3.7],\n",
       "       [ 3.9],\n",
       "       [ 4. ],\n",
       "       [ 4. ],\n",
       "       [ 4.1],\n",
       "       [ 4.5],\n",
       "       [ 4.9],\n",
       "       [ 5.1],\n",
       "       [ 5.3],\n",
       "       [ 5.9],\n",
       "       [ 6. ],\n",
       "       [ 6.8],\n",
       "       [ 7.1],\n",
       "       [ 7.9],\n",
       "       [ 8.2],\n",
       "       [ 8.7],\n",
       "       [ 9. ],\n",
       "       [ 9.5],\n",
       "       [ 9.6],\n",
       "       [10.3],\n",
       "       [10.5]])"
      ]
     },
     "execution_count": 18,
     "metadata": {},
     "output_type": "execute_result"
    }
   ],
   "source": [
    "X"
   ]
  },
  {
   "cell_type": "markdown",
   "metadata": {},
   "source": [
    "## Gradient Descent\n",
    "\n",
    "$$\n",
    "J(w) = (w-3)^2 + 5\n",
    "$$"
   ]
  },
  {
   "cell_type": "code",
   "execution_count": 35,
   "metadata": {},
   "outputs": [],
   "source": [
    "def cost(w):\n",
    "    return ((w-3)**2)+5\n",
    "\n",
    "def derivative(w):\n",
    "    return 2*(w-3)\n",
    "\n",
    "def gradient_descent(w = 0, alpha = 0.05, number_steps = 10):\n",
    "    \"\"\"\n",
    "    w : initial value of parameter w\n",
    "    alpha : step size\n",
    "    \"\"\"\n",
    "    W = np.zeros(number_steps)\n",
    "    for i in range(number_steps):\n",
    "        W[i] = w\n",
    "        w = w - alpha * derivative(w)\n",
    "\n",
    "    return W"
   ]
  },
  {
   "cell_type": "code",
   "execution_count": 38,
   "metadata": {},
   "outputs": [
    {
     "data": {
      "image/png": "[encoded data removed]",
      "text/plain": [
       "<matplotlib.figure.Figure at 0x1a22f32668>"
      ]
     },
     "metadata": {},
     "output_type": "display_data"
    }
   ],
   "source": [
    "a = 0.05\n",
    "W = gradient_descent(w = 40, alpha = a, number_steps = 20)\n",
    "t = np.arange(-50,50,0.5)\n",
    "\n",
    "plt.plot(W,cost(W),'k')\n",
    "plt.scatter(W,cost(W), color = 'red')\n",
    "plt.plot(t,cost(t))\n",
    "plt.xlabel('w'); plt.ylabel('Hata(w)'); plt.title(\"alpha = \" + str(a))\n",
    "plt.grid()"
   ]
  },
  {
   "cell_type": "markdown",
   "metadata": {},
   "source": [
    "# Use Gradient Descent for Salary Data\n",
    "\n",
    "Parameters\n",
    "$$\n",
    "W = \n",
    "\\begin{bmatrix} \n",
    "w_0 \\\\\n",
    "w_1\n",
    "\\end{bmatrix}\n",
    "$$\n",
    "Hypothesis\n",
    "$$\n",
    "h = \n",
    "XW =\n",
    "\\begin{bmatrix} \n",
    "x_{00} & x_{01} \\\\\n",
    "x_{10} & x_{11} \\\\\n",
    "x_{20} & x_{21} \\\\\n",
    "x_{30} & x_{31}\n",
    "\\end{bmatrix}\n",
    "\\begin{bmatrix} \n",
    "w_0 \\\\\n",
    "w_1 \n",
    "\\end{bmatrix}\n",
    "=\n",
    "\\begin{bmatrix} \n",
    "1 & x_{01} \\\\\n",
    "1 & x_{11} \\\\\n",
    "1 & x_{21} \\\\\n",
    "1 & x_{31}\n",
    "\\end{bmatrix}\n",
    "\\begin{bmatrix} \n",
    "w_0 \\\\\n",
    "w_1 \n",
    "\\end{bmatrix}\n",
    "=\n",
    "\\begin{bmatrix} \n",
    "w_0 + w_1 x_{01} \\\\\n",
    "w_0 + w_1 x_{11} \\\\\n",
    "w_0 + w_1 x_{21} \\\\\n",
    "w_0 + w_1 x_{31}\n",
    "\\end{bmatrix}\n",
    "=\n",
    "\\begin{bmatrix} \n",
    "h_{0} \\\\\n",
    "h_{1} \\\\\n",
    "h_{2} \\\\\n",
    "h_{3}\n",
    "\\end{bmatrix}\n",
    "$$\n",
    "\n",
    "\n",
    "Cost Function\n",
    "$$\n",
    "J(W) = \\frac{1}{2m} \\sum_{i=1}^{m} (y_i - h_i)^2\n",
    "$$\n",
    "\n",
    "Derivative of Cost Funnction\n",
    "$$\n",
    "\\frac{dJ(W)}{dw} = \\frac{1}{m} \\sum_{i=1}^{m} (y_i - h_i)x_i\n",
    "$$"
   ]
  },
  {
   "cell_type": "code",
   "execution_count": 80,
   "metadata": {},
   "outputs": [],
   "source": [
    "# Importing the libraries\n",
    "import numpy as np\n",
    "import matplotlib.pyplot as plt\n",
    "%matplotlib inline  \n",
    "import pandas as pd\n",
    "from sklearn.cross_validation import train_test_split\n",
    "from sklearn.linear_model import LinearRegression\n",
    "\n",
    "# Importing the dataset from the url\n",
    "url = 'https://raw.githubusercontent.com/uzay00/KaVe/master/Ders2/data/Salary_Data.csv'\n",
    "data = pd.read_csv(url)\n",
    "X = data.iloc[:, :-1].values\n",
    "y = data.iloc[:, -1].values\n",
    "\n",
    "# Split dataset into train ab=nd test sets\n",
    "X_train, X_test, y_train, t_test = train_test_split(X,y,test_size = 1/3, random_state = 0)"
   ]
  },
  {
   "cell_type": "code",
   "execution_count": 82,
   "metadata": {},
   "outputs": [
    {
     "data": {
      "text/plain": [
       "(20, 1)"
      ]
     },
     "execution_count": 82,
     "metadata": {},
     "output_type": "execute_result"
    }
   ],
   "source": [
    "X_train.shape"
   ]
  },
  {
   "cell_type": "code",
   "execution_count": 58,
   "metadata": {},
   "outputs": [
    {
     "data": {
      "text/plain": [
       "array([[ 1. ,  2.9],\n",
       "       [ 1. ,  5.1],\n",
       "       [ 1. ,  3.2],\n",
       "       [ 1. ,  4.5],\n",
       "       [ 1. ,  8.2],\n",
       "       [ 1. ,  6.8],\n",
       "       [ 1. ,  1.3],\n",
       "       [ 1. , 10.5],\n",
       "       [ 1. ,  3. ],\n",
       "       [ 1. ,  2.2],\n",
       "       [ 1. ,  5.9],\n",
       "       [ 1. ,  6. ],\n",
       "       [ 1. ,  3.7],\n",
       "       [ 1. ,  3.2],\n",
       "       [ 1. ,  9. ],\n",
       "       [ 1. ,  2. ],\n",
       "       [ 1. ,  1.1],\n",
       "       [ 1. ,  7.1],\n",
       "       [ 1. ,  4.9],\n",
       "       [ 1. ,  4. ]])"
      ]
     },
     "execution_count": 58,
     "metadata": {},
     "output_type": "execute_result"
    }
   ],
   "source": [
    "X_train = np.hstack((np.ones((len(X_train),1)), X_train))\n",
    "X_train"
   ]
  },
  {
   "cell_type": "code",
   "execution_count": 78,
   "metadata": {},
   "outputs": [
    {
     "data": {
      "text/plain": [
       "2"
      ]
     },
     "execution_count": 78,
     "metadata": {},
     "output_type": "execute_result"
    }
   ],
   "source": [
    "X_train.shape[1]"
   ]
  },
  {
   "cell_type": "code",
   "execution_count": 64,
   "metadata": {},
   "outputs": [
    {
     "data": {
      "text/plain": [
       "array([[1],\n",
       "       [1]])"
      ]
     },
     "execution_count": 64,
     "metadata": {},
     "output_type": "execute_result"
    }
   ],
   "source": [
    "W = np.array([[1],[1]])\n",
    "W"
   ]
  },
  {
   "cell_type": "code",
   "execution_count": 68,
   "metadata": {},
   "outputs": [
    {
     "data": {
      "text/plain": [
       "array([[ 3.9],\n",
       "       [ 6.1],\n",
       "       [ 4.2],\n",
       "       [ 5.5],\n",
       "       [ 9.2],\n",
       "       [ 7.8],\n",
       "       [ 2.3],\n",
       "       [11.5],\n",
       "       [ 4. ],\n",
       "       [ 3.2],\n",
       "       [ 6.9],\n",
       "       [ 7. ],\n",
       "       [ 4.7],\n",
       "       [ 4.2],\n",
       "       [10. ],\n",
       "       [ 3. ],\n",
       "       [ 2.1],\n",
       "       [ 8.1],\n",
       "       [ 5.9],\n",
       "       [ 5. ]])"
      ]
     },
     "execution_count": 68,
     "metadata": {},
     "output_type": "execute_result"
    }
   ],
   "source": [
    "h = X_train.dot(W)\n",
    "h"
   ]
  },
  {
   "cell_type": "code",
   "execution_count": 71,
   "metadata": {},
   "outputs": [
    {
     "data": {
      "text/plain": [
       "(20,)"
      ]
     },
     "execution_count": 71,
     "metadata": {},
     "output_type": "execute_result"
    }
   ],
   "source": [
    "# Shape of y can be problematic\n",
    "y_train.shape"
   ]
  },
  {
   "cell_type": "code",
   "execution_count": 72,
   "metadata": {},
   "outputs": [
    {
     "data": {
      "text/plain": [
       "(20, 1)"
      ]
     },
     "execution_count": 72,
     "metadata": {},
     "output_type": "execute_result"
    }
   ],
   "source": [
    "h.shape"
   ]
  },
  {
   "cell_type": "code",
   "execution_count": 75,
   "metadata": {},
   "outputs": [
    {
     "data": {
      "text/plain": [
       "array([[ 56642.],\n",
       "       [ 66029.],\n",
       "       [ 64445.],\n",
       "       [ 61111.],\n",
       "       [113812.],\n",
       "       [ 91738.],\n",
       "       [ 46205.],\n",
       "       [121872.],\n",
       "       [ 60150.],\n",
       "       [ 39891.],\n",
       "       [ 81363.],\n",
       "       [ 93940.],\n",
       "       [ 57189.],\n",
       "       [ 54445.],\n",
       "       [105582.],\n",
       "       [ 43525.],\n",
       "       [ 39343.],\n",
       "       [ 98273.],\n",
       "       [ 67938.],\n",
       "       [ 56957.]])"
      ]
     },
     "execution_count": 75,
     "metadata": {},
     "output_type": "execute_result"
    }
   ],
   "source": [
    "# Reshape it with correct dimensions\n",
    "y_train = y_train.reshape(h.shape)\n",
    "y_train"
   ]
  },
  {
   "cell_type": "code",
   "execution_count": 90,
   "metadata": {},
   "outputs": [
    {
     "data": {
      "text/plain": [
       "array([[0.31129596],\n",
       "       [1.5452153 ]])"
      ]
     },
     "execution_count": 90,
     "metadata": {},
     "output_type": "execute_result"
    }
   ],
   "source": [
    "np.random.randn(2,1)"
   ]
  },
  {
   "cell_type": "markdown",
   "metadata": {},
   "source": [
    "# Use Gradient Descent for Salary Data\n",
    "\n",
    "Parameters\n",
    "$$\n",
    "W = \n",
    "\\begin{bmatrix} \n",
    "w_0 \\\\\n",
    "w_1\n",
    "\\end{bmatrix}\n",
    "$$\n",
    "Hypothesis\n",
    "$$\n",
    "h = \n",
    "XW =\n",
    "\\begin{bmatrix} \n",
    "x_{00} & x_{01} \\\\\n",
    "x_{10} & x_{11} \\\\\n",
    "x_{20} & x_{21} \\\\\n",
    "x_{30} & x_{31}\n",
    "\\end{bmatrix}\n",
    "\\begin{bmatrix} \n",
    "w_0 \\\\\n",
    "w_1 \n",
    "\\end{bmatrix}\n",
    "=\n",
    "\\begin{bmatrix} \n",
    "1 & x_{01} \\\\\n",
    "1 & x_{11} \\\\\n",
    "1 & x_{21} \\\\\n",
    "1 & x_{31}\n",
    "\\end{bmatrix}\n",
    "\\begin{bmatrix} \n",
    "w_0 \\\\\n",
    "w_1 \n",
    "\\end{bmatrix}\n",
    "=\n",
    "\\begin{bmatrix} \n",
    "w_0 + w_1 x_{01} \\\\\n",
    "w_0 + w_1 x_{11} \\\\\n",
    "w_0 + w_1 x_{21} \\\\\n",
    "w_0 + w_1 x_{31}\n",
    "\\end{bmatrix}\n",
    "=\n",
    "\\begin{bmatrix} \n",
    "h_{0} \\\\\n",
    "h_{1} \\\\\n",
    "h_{2} \\\\\n",
    "h_{3}\n",
    "\\end{bmatrix}\n",
    "$$\n",
    "\n",
    "\n",
    "Cost Function\n",
    "$$\n",
    "J(W) = \\frac{1}{2m} \\sum_{i=1}^{m} (y_i - h_i)^2\n",
    "$$\n",
    "\n",
    "Derivative of Cost Funnction\n",
    "$$\n",
    "\\frac{dJ(W)}{dw} = \\frac{1}{m} \\sum_{i=1}^{m} (y_i - h_i)x_i\n",
    "$$"
   ]
  },
  {
   "cell_type": "code",
   "execution_count": 76,
   "metadata": {},
   "outputs": [
    {
     "ename": "SyntaxError",
     "evalue": "invalid syntax (<ipython-input-76-26d13c88f63b>, line 5)",
     "output_type": "error",
     "traceback": [
      "\u001b[0;36m  File \u001b[0;32m\"<ipython-input-76-26d13c88f63b>\"\u001b[0;36m, line \u001b[0;32m5\u001b[0m\n\u001b[0;31m    def cost()\u001b[0m\n\u001b[0m              ^\u001b[0m\n\u001b[0;31mSyntaxError\u001b[0m\u001b[0;31m:\u001b[0m invalid syntax\n"
     ]
    }
   ],
   "source": [
    "class myRegression():\n",
    "    def __init__(self,X_train, y_train):\n",
    "        self.m, self.n = X_train.shape\n",
    "        self.n += 1 # Add one for x_0 column \n",
    "        \n",
    "        self.X_train = np.hstack((np.ones((self.m,1)), X_train))\n",
    "        self.y_train = y_train.reshape((self.m,1))\n",
    "        self.W = np.random.randn(self.n,1)\n",
    "        \n",
    "    def predict(self):\n",
    "        h = self.X_train.dot(self.W)\n",
    "        return h\n",
    "    \n",
    "    def cost(self):\n",
    "        h = self.predict()\n",
    "        return np.power(y-h,2)/ (2*self.m)\n",
    "\n",
    "    def derivative(w):\n",
    "        return np.power(y-h,2)/ (2*self.m)\n",
    "\n",
    "    def gradient_descent(w = 0, alpha = 0.05, number_steps = 10):\n",
    "        \"\"\"\n",
    "        w : initial value of parameter w\n",
    "        alpha : step size\n",
    "        \"\"\"\n",
    "        W = np.zeros(number_steps)\n",
    "        for i in range(number_steps):\n",
    "            W[i] = w\n",
    "            w = w - alpha * derivative(w)\n",
    "\n",
    "        return W"
   ]
  },
  {
   "cell_type": "code",
   "execution_count": 91,
   "metadata": {},
   "outputs": [
    {
     "data": {
      "text/plain": [
       "array([1, 4, 9])"
      ]
     },
     "execution_count": 91,
     "metadata": {},
     "output_type": "execute_result"
    }
   ],
   "source": [
    "np.array([1,2,3])**2"
   ]
  },
  {
   "cell_type": "code",
   "execution_count": 92,
   "metadata": {},
   "outputs": [
    {
     "data": {
      "text/plain": [
       "array([1, 4, 9])"
      ]
     },
     "execution_count": 92,
     "metadata": {},
     "output_type": "execute_result"
    }
   ],
   "source": [
    "np.power(np.array([1,2,3]),2)"
   ]
  },
  {
   "cell_type": "code",
   "execution_count": null,
   "metadata": {},
   "outputs": [],
   "source": []
  }
 ],
 "metadata": {
  "kernelspec": {
   "display_name": "Python 3",
   "language": "python",
   "name": "python3"
  },
  "language_info": {
   "codemirror_mode": {
    "name": "ipython",
    "version": 3
   },
   "file_extension": ".py",
   "mimetype": "text/x-python",
   "name": "python",
   "nbconvert_exporter": "python",
   "pygments_lexer": "ipython3",
   "version": "3.6.4"
  }
 },
 "nbformat": 4,
 "nbformat_minor": 2
}
