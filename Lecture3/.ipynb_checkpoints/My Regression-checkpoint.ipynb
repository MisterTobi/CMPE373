{
 "cells": [
  {
   "cell_type": "code",
   "execution_count": 23,
   "metadata": {},
   "outputs": [
    {
     "data": {
      "image/png": "[encoded data removed]",
      "text/plain": [
       "<matplotlib.figure.Figure at 0x112964908>"
      ]
     },
     "metadata": {},
     "output_type": "display_data"
    }
   ],
   "source": [
    "# Importing the libraries\n",
    "import numpy as np\n",
    "import matplotlib.pyplot as plt\n",
    "%matplotlib inline  \n",
    "import pandas as pd\n",
    "from sklearn.cross_validation import train_test_split\n",
    "from sklearn.linear_model import LinearRegression\n",
    "\n",
    "# Importing the dataset from the url\n",
    "url = 'https://raw.githubusercontent.com/uzay00/KaVe/master/Ders2/data/Salary_Data.csv'\n",
    "data = pd.read_csv(url)\n",
    "X = data.iloc[:, :-1].values\n",
    "y = data.iloc[:, -1].values\n",
    "\n",
    "# Split dataset into train ab=nd test sets\n",
    "X_train, X_test, y_train, t_test = train_test_split(X,y,test_size = 1/3, random_state = 0)\n",
    "\n",
    "# fit simple linear regression model to the data\n",
    "lr = LinearRegression()\n",
    "lr.fit(X_train, y_train)\n",
    "# make predicitions\n",
    "y_pred = lr.predict(X_test)\n",
    "\n",
    "# Plot\n",
    "plt.scatter(X_train, y_train, color = 'red')\n",
    "plt.plot(X_train, lr.predict(X_train))\n",
    "plt.title('Experience vs Salary'); plt.xlabel('Years of Experience');plt.ylabel('Salary');\n",
    "#plt.xlabel('Population of City in 10,000s');plt.ylabel('Profit in $10,000s');\n",
    "plt.grid()"
   ]
  },
  {
   "cell_type": "code",
   "execution_count": 2,
   "metadata": {},
   "outputs": [
    {
     "data": {
      "text/html": [
       "<div>\n",
       "<style scoped>\n",
       "    .dataframe tbody tr th:only-of-type {\n",
       "        vertical-align: middle;\n",
       "    }\n",
       "\n",
       "    .dataframe tbody tr th {\n",
       "        vertical-align: top;\n",
       "    }\n",
       "\n",
       "    .dataframe thead th {\n",
       "        text-align: right;\n",
       "    }\n",
       "</style>\n",
       "<table border=\"1\" class=\"dataframe\">\n",
       "  <thead>\n",
       "    <tr style=\"text-align: right;\">\n",
       "      <th></th>\n",
       "      <th>YearsExperience</th>\n",
       "      <th>Salary</th>\n",
       "    </tr>\n",
       "  </thead>\n",
       "  <tbody>\n",
       "    <tr>\n",
       "      <th>0</th>\n",
       "      <td>1.1</td>\n",
       "      <td>39343.0</td>\n",
       "    </tr>\n",
       "    <tr>\n",
       "      <th>1</th>\n",
       "      <td>1.3</td>\n",
       "      <td>46205.0</td>\n",
       "    </tr>\n",
       "    <tr>\n",
       "      <th>2</th>\n",
       "      <td>1.5</td>\n",
       "      <td>37731.0</td>\n",
       "    </tr>\n",
       "    <tr>\n",
       "      <th>3</th>\n",
       "      <td>2.0</td>\n",
       "      <td>43525.0</td>\n",
       "    </tr>\n",
       "    <tr>\n",
       "      <th>4</th>\n",
       "      <td>2.2</td>\n",
       "      <td>39891.0</td>\n",
       "    </tr>\n",
       "  </tbody>\n",
       "</table>\n",
       "</div>"
      ],
      "text/plain": [
       "   YearsExperience   Salary\n",
       "0              1.1  39343.0\n",
       "1              1.3  46205.0\n",
       "2              1.5  37731.0\n",
       "3              2.0  43525.0\n",
       "4              2.2  39891.0"
      ]
     },
     "execution_count": 2,
     "metadata": {},
     "output_type": "execute_result"
    }
   ],
   "source": [
    "data.head()"
   ]
  },
  {
   "cell_type": "code",
   "execution_count": 3,
   "metadata": {},
   "outputs": [
    {
     "data": {
      "text/plain": [
       "array([[ 1.1],\n",
       "       [ 1.3],\n",
       "       [ 1.5],\n",
       "       [ 2. ],\n",
       "       [ 2.2],\n",
       "       [ 2.9],\n",
       "       [ 3. ],\n",
       "       [ 3.2],\n",
       "       [ 3.2],\n",
       "       [ 3.7],\n",
       "       [ 3.9],\n",
       "       [ 4. ],\n",
       "       [ 4. ],\n",
       "       [ 4.1],\n",
       "       [ 4.5],\n",
       "       [ 4.9],\n",
       "       [ 5.1],\n",
       "       [ 5.3],\n",
       "       [ 5.9],\n",
       "       [ 6. ],\n",
       "       [ 6.8],\n",
       "       [ 7.1],\n",
       "       [ 7.9],\n",
       "       [ 8.2],\n",
       "       [ 8.7],\n",
       "       [ 9. ],\n",
       "       [ 9.5],\n",
       "       [ 9.6],\n",
       "       [10.3],\n",
       "       [10.5]])"
      ]
     },
     "execution_count": 3,
     "metadata": {},
     "output_type": "execute_result"
    }
   ],
   "source": [
    "X"
   ]
  },
  {
   "cell_type": "markdown",
   "metadata": {},
   "source": [
    "## Gradient Descent\n",
    "\n",
    "$$\n",
    "J(w) = (w-3)^2 + 5\n",
    "$$"
   ]
  },
  {
   "cell_type": "code",
   "execution_count": 4,
   "metadata": {},
   "outputs": [],
   "source": [
    "def cost(w):\n",
    "    return ((w-3)**2)+5\n",
    "\n",
    "def derivative(w):\n",
    "    return 2*(w-3)\n",
    "\n",
    "def gradient_descent(w = 0, alpha = 0.05, number_steps = 10):\n",
    "    \"\"\"\n",
    "    w : initial value of parameter w\n",
    "    alpha : step size\n",
    "    \"\"\"\n",
    "    W = np.zeros(number_steps)\n",
    "    for i in range(number_steps):\n",
    "        W[i] = w\n",
    "        w = w - alpha * derivative(w)\n",
    "\n",
    "    return W"
   ]
  },
  {
   "cell_type": "code",
   "execution_count": 5,
   "metadata": {},
   "outputs": [
    {
     "data": {
      "image/png": "[encoded data removed]",
      "text/plain": [
       "<matplotlib.figure.Figure at 0x10c591128>"
      ]
     },
     "metadata": {},
     "output_type": "display_data"
    }
   ],
   "source": [
    "a = 0.05\n",
    "W = gradient_descent(w = 40, alpha = a, number_steps = 20)\n",
    "t = np.arange(-50,50,0.5)\n",
    "\n",
    "plt.plot(W,cost(W),'k')\n",
    "plt.scatter(W,cost(W), color = 'red')\n",
    "plt.plot(t,cost(t))\n",
    "plt.xlabel('w'); plt.ylabel('Hata(w)'); plt.title(\"alpha = \" + str(a))\n",
    "plt.grid()"
   ]
  },
  {
   "cell_type": "markdown",
   "metadata": {},
   "source": [
    "# Use Gradient Descent for Salary Data\n",
    "\n",
    "Parameters\n",
    "$$\n",
    "W = \n",
    "\\begin{bmatrix} \n",
    "w_0 \\\\\n",
    "w_1\n",
    "\\end{bmatrix}\n",
    "$$\n",
    "Hypothesis\n",
    "$$\n",
    "h = \n",
    "XW =\n",
    "\\begin{bmatrix} \n",
    "x_{00} & x_{01} \\\\\n",
    "x_{10} & x_{11} \\\\\n",
    "x_{20} & x_{21} \\\\\n",
    "x_{30} & x_{31}\n",
    "\\end{bmatrix}\n",
    "\\begin{bmatrix} \n",
    "w_0 \\\\\n",
    "w_1 \n",
    "\\end{bmatrix}\n",
    "=\n",
    "\\begin{bmatrix} \n",
    "1 & x_{01} \\\\\n",
    "1 & x_{11} \\\\\n",
    "1 & x_{21} \\\\\n",
    "1 & x_{31}\n",
    "\\end{bmatrix}\n",
    "\\begin{bmatrix} \n",
    "w_0 \\\\\n",
    "w_1 \n",
    "\\end{bmatrix}\n",
    "=\n",
    "\\begin{bmatrix} \n",
    "w_0 + w_1 x_{01} \\\\\n",
    "w_0 + w_1 x_{11} \\\\\n",
    "w_0 + w_1 x_{21} \\\\\n",
    "w_0 + w_1 x_{31}\n",
    "\\end{bmatrix}\n",
    "=\n",
    "\\begin{bmatrix} \n",
    "h_{0} \\\\\n",
    "h_{1} \\\\\n",
    "h_{2} \\\\\n",
    "h_{3}\n",
    "\\end{bmatrix}\n",
    "$$\n",
    "\n",
    "\n",
    "Cost Function\n",
    "$$\n",
    "J(W) = \\frac{1}{2m} \\sum_{i=1}^{m} (y_i - h_i)^2\n",
    "$$\n",
    "\n",
    "Derivative of Cost Funnction\n",
    "$$\n",
    "\\frac{dJ(W)}{dw} = \\frac{1}{m} \\sum_{i=1}^{m} (y_i - h_i)x_i\n",
    "$$"
   ]
  },
  {
   "cell_type": "code",
   "execution_count": 6,
   "metadata": {},
   "outputs": [],
   "source": [
    "# Importing the libraries\n",
    "import numpy as np\n",
    "import matplotlib.pyplot as plt\n",
    "%matplotlib inline  \n",
    "import pandas as pd\n",
    "from sklearn.cross_validation import train_test_split\n",
    "from sklearn.linear_model import LinearRegression\n",
    "\n",
    "# Importing the dataset from the url\n",
    "url = 'https://raw.githubusercontent.com/uzay00/KaVe/master/Ders2/data/Salary_Data.csv'\n",
    "data = pd.read_csv(url)\n",
    "X = data.iloc[:, :-1].values\n",
    "y = data.iloc[:, -1].values\n",
    "\n",
    "# Split dataset into train ab=nd test sets\n",
    "X_train, X_test, y_train, t_test = train_test_split(X,y,test_size = 1/3, random_state = 0)"
   ]
  },
  {
   "cell_type": "code",
   "execution_count": 7,
   "metadata": {},
   "outputs": [
    {
     "data": {
      "text/plain": [
       "(20, 1)"
      ]
     },
     "execution_count": 7,
     "metadata": {},
     "output_type": "execute_result"
    }
   ],
   "source": [
    "X_train.shape"
   ]
  },
  {
   "cell_type": "code",
   "execution_count": 8,
   "metadata": {},
   "outputs": [
    {
     "data": {
      "text/plain": [
       "array([[ 1. ,  2.9],\n",
       "       [ 1. ,  5.1],\n",
       "       [ 1. ,  3.2],\n",
       "       [ 1. ,  4.5],\n",
       "       [ 1. ,  8.2],\n",
       "       [ 1. ,  6.8],\n",
       "       [ 1. ,  1.3],\n",
       "       [ 1. , 10.5],\n",
       "       [ 1. ,  3. ],\n",
       "       [ 1. ,  2.2],\n",
       "       [ 1. ,  5.9],\n",
       "       [ 1. ,  6. ],\n",
       "       [ 1. ,  3.7],\n",
       "       [ 1. ,  3.2],\n",
       "       [ 1. ,  9. ],\n",
       "       [ 1. ,  2. ],\n",
       "       [ 1. ,  1.1],\n",
       "       [ 1. ,  7.1],\n",
       "       [ 1. ,  4.9],\n",
       "       [ 1. ,  4. ]])"
      ]
     },
     "execution_count": 8,
     "metadata": {},
     "output_type": "execute_result"
    }
   ],
   "source": [
    "X_train = np.hstack((np.ones((len(X_train),1)), X_train))\n",
    "X_train"
   ]
  },
  {
   "cell_type": "code",
   "execution_count": 9,
   "metadata": {},
   "outputs": [
    {
     "data": {
      "text/plain": [
       "2"
      ]
     },
     "execution_count": 9,
     "metadata": {},
     "output_type": "execute_result"
    }
   ],
   "source": [
    "X_train.shape[1]"
   ]
  },
  {
   "cell_type": "code",
   "execution_count": 10,
   "metadata": {},
   "outputs": [
    {
     "data": {
      "text/plain": [
       "array([[1],\n",
       "       [1]])"
      ]
     },
     "execution_count": 10,
     "metadata": {},
     "output_type": "execute_result"
    }
   ],
   "source": [
    "W = np.array([[1],[1]])\n",
    "W"
   ]
  },
  {
   "cell_type": "code",
   "execution_count": 11,
   "metadata": {},
   "outputs": [
    {
     "data": {
      "text/plain": [
       "array([[ 3.9],\n",
       "       [ 6.1],\n",
       "       [ 4.2],\n",
       "       [ 5.5],\n",
       "       [ 9.2],\n",
       "       [ 7.8],\n",
       "       [ 2.3],\n",
       "       [11.5],\n",
       "       [ 4. ],\n",
       "       [ 3.2],\n",
       "       [ 6.9],\n",
       "       [ 7. ],\n",
       "       [ 4.7],\n",
       "       [ 4.2],\n",
       "       [10. ],\n",
       "       [ 3. ],\n",
       "       [ 2.1],\n",
       "       [ 8.1],\n",
       "       [ 5.9],\n",
       "       [ 5. ]])"
      ]
     },
     "execution_count": 11,
     "metadata": {},
     "output_type": "execute_result"
    }
   ],
   "source": [
    "h = X_train.dot(W)\n",
    "h"
   ]
  },
  {
   "cell_type": "code",
   "execution_count": 12,
   "metadata": {},
   "outputs": [
    {
     "data": {
      "text/plain": [
       "(20,)"
      ]
     },
     "execution_count": 12,
     "metadata": {},
     "output_type": "execute_result"
    }
   ],
   "source": [
    "# Shape of y can be problematic\n",
    "y_train.shape"
   ]
  },
  {
   "cell_type": "code",
   "execution_count": 13,
   "metadata": {},
   "outputs": [
    {
     "data": {
      "text/plain": [
       "(20, 1)"
      ]
     },
     "execution_count": 13,
     "metadata": {},
     "output_type": "execute_result"
    }
   ],
   "source": [
    "h.shape"
   ]
  },
  {
   "cell_type": "code",
   "execution_count": 14,
   "metadata": {},
   "outputs": [
    {
     "data": {
      "text/plain": [
       "array([[ 56642.],\n",
       "       [ 66029.],\n",
       "       [ 64445.],\n",
       "       [ 61111.],\n",
       "       [113812.],\n",
       "       [ 91738.],\n",
       "       [ 46205.],\n",
       "       [121872.],\n",
       "       [ 60150.],\n",
       "       [ 39891.],\n",
       "       [ 81363.],\n",
       "       [ 93940.],\n",
       "       [ 57189.],\n",
       "       [ 54445.],\n",
       "       [105582.],\n",
       "       [ 43525.],\n",
       "       [ 39343.],\n",
       "       [ 98273.],\n",
       "       [ 67938.],\n",
       "       [ 56957.]])"
      ]
     },
     "execution_count": 14,
     "metadata": {},
     "output_type": "execute_result"
    }
   ],
   "source": [
    "# Reshape it with correct dimensions\n",
    "y_train = y_train.reshape(h.shape)\n",
    "y_train"
   ]
  },
  {
   "cell_type": "code",
   "execution_count": 15,
   "metadata": {},
   "outputs": [
    {
     "data": {
      "text/plain": [
       "array([[-2.06199845],\n",
       "       [ 0.61956526]])"
      ]
     },
     "execution_count": 15,
     "metadata": {},
     "output_type": "execute_result"
    }
   ],
   "source": [
    "np.random.randn(2,1)"
   ]
  },
  {
   "cell_type": "markdown",
   "metadata": {},
   "source": [
    "# Use Gradient Descent for Salary Data\n",
    "\n",
    "Parameters\n",
    "$$\n",
    "W = \n",
    "\\begin{bmatrix} \n",
    "w_0 \\\\\n",
    "w_1 \\\\\n",
    "w_2 \n",
    "\\end{bmatrix}\n",
    "$$\n",
    "Hypothesis\n",
    "$$\n",
    "h = \n",
    "XW =\n",
    "\\begin{bmatrix} \n",
    "x_{00} & x_{01} & x_{02}\\\\\n",
    "x_{10} & x_{11} & x_{12}\\\\\n",
    "x_{20} & x_{21} & x_{22}\\\\\n",
    "x_{30} & x_{31} & x_{32}\\\\\n",
    "x_{40} & x_{41} & x_{42}\n",
    "\\end{bmatrix}\n",
    "\\begin{bmatrix} \n",
    "w_0 \\\\\n",
    "w_1 \\\\\n",
    "w_2 \n",
    "\\end{bmatrix}\n",
    "=\n",
    "\\begin{bmatrix} \n",
    "1 & x_{01} & x_{02}\\\\\n",
    "1 & x_{11} & x_{12}\\\\\n",
    "1 & x_{21} & x_{22}\\\\\n",
    "1 & x_{31} & x_{32}\\\\\n",
    "1 & x_{41} & x_{42}\n",
    "\\end{bmatrix}\n",
    "\\begin{bmatrix} \n",
    "w_0 \\\\\n",
    "w_1 \\\\\n",
    "w_2 \n",
    "\\end{bmatrix}\n",
    "=\n",
    "\\begin{bmatrix} \n",
    "w_0 + w_1 x_{01} + w_2 x_{02}\\\\\n",
    "w_0 + w_1 x_{11} + w_2 x_{12}\\\\\n",
    "w_0 + w_1 x_{21} + w_2 x_{22}\\\\\n",
    "w_0 + w_1 x_{31} + w_2 x_{32}\\\\\n",
    "w_0 + w_1 x_{41} + w_2 x_{42}\\\\\n",
    "\\end{bmatrix}\n",
    "=\n",
    "\\begin{bmatrix} \n",
    "h_{0} \\\\\n",
    "h_{1} \\\\\n",
    "h_{2} \\\\\n",
    "h_{3} \\\\\n",
    "h_{4}\n",
    "\\end{bmatrix}\n",
    "$$\n",
    "\n",
    "\n",
    "Cost Function\n",
    "$$\n",
    "J(W) = \\frac{1}{2m} \\sum_{i=1}^{m} (h_i - y_i)^2\n",
    "= \\frac{1}{2m} \\sum_{i=1}^{m} ((w_0 + w_1 x_{i1} + w_2 x_{i2}) - y_i)^2\n",
    "$$\n",
    "\n",
    "Derivative of Cost Funnction\n",
    "$$\n",
    "\\frac{dJ(W)}{dw_j} = \n",
    "\\sum_{i=1}^{m}\n",
    "\\frac{dJ(W)}{dh_i} \\frac{dh_i}{dw_j} \n",
    "=  \n",
    "\\sum_{i=1}^{m}\n",
    "\\frac{1}{m} (h_i - y_i)\n",
    "\\frac{dh_i}{dw_j}\n",
    "=\n",
    "\\frac{1}{m}\n",
    "\\sum_{i=1}^{m}\n",
    "(h_i - y_i)\n",
    "\\frac{dh_i}{dw_j}\n",
    "=\n",
    "\\frac{1}{m} \\sum_{i=1}^{m} (h_i - y_i) x_{ij}\n",
    "$$\n",
    "\n",
    "Derivative of Cost Funnction\n",
    "$$\n",
    "\\frac{dJ(W)}{dw} = \n",
    "\\begin{bmatrix} \n",
    "\\frac{dJ(W)}{dw_0} \\\\\n",
    "\\frac{dJ(W)}{dw_1} \\\\\n",
    "\\frac{dJ(W)}{dw_2}\n",
    "\\end{bmatrix}\n",
    "=\n",
    "\\frac{1}{m}\n",
    "\\begin{bmatrix} \n",
    "\\sum_{i=1}^{m} (h_i - y_i) x_{i0} \\\\\n",
    "\\sum_{i=1}^{m} (h_i - y_i) x_{i1} \\\\\n",
    "\\sum_{i=1}^{m} (h_i - y_i) x_{i2}\n",
    "\\end{bmatrix}\n",
    "$$"
   ]
  },
  {
   "cell_type": "code",
   "execution_count": 16,
   "metadata": {},
   "outputs": [
    {
     "name": "stdout",
     "output_type": "stream",
     "text": [
      "W:\n",
      " [[1]\n",
      " [1]\n",
      " [1]]\n",
      "X:\n",
      " [[1 0 0]\n",
      " [1 1 1]\n",
      " [1 2 2]\n",
      " [1 3 3]\n",
      " [1 4 4]\n",
      " [1 5 5]]\n",
      "y:\n",
      " [[0]\n",
      " [0]\n",
      " [0]\n",
      " [0]\n",
      " [1]\n",
      " [1]]\n",
      "h:\n",
      " [[ 1]\n",
      " [ 3]\n",
      " [ 5]\n",
      " [ 7]\n",
      " [ 9]\n",
      " [11]]\n",
      "cost:\n",
      " 20.666666666666668\n",
      "derivative for every w_j:\n",
      " [ 5.66666667 19.33333333 19.33333333]\n"
     ]
    },
    {
     "data": {
      "text/plain": [
       "(3,)"
      ]
     },
     "execution_count": 16,
     "metadata": {},
     "output_type": "execute_result"
    }
   ],
   "source": [
    "W = np.array([[1],[1],[1]]) \n",
    "X = np.array([[1,0,0],[1,1,1],[1,2,2],[1,3,3],[1,4,4],[1,5,5]])\n",
    "y = np.array([[0],[0],[0],[0],[1],[1]]) \n",
    "h = X.dot(W)\n",
    "m, n = X.shape\n",
    "cost = np.sum(np.power(h-y,2))/ (2*m)\n",
    "derivative = np.sum(X * (h-y), axis=0)/ m\n",
    "print(\"W:\\n\", W)\n",
    "print(\"X:\\n\", X)\n",
    "print(\"y:\\n\", y)\n",
    "print(\"h:\\n\", h)\n",
    "print(\"cost:\\n\", cost)\n",
    "print(\"derivative for every w_j:\\n\", derivative)\n",
    "derivative.shape"
   ]
  },
  {
   "cell_type": "code",
   "execution_count": 17,
   "metadata": {},
   "outputs": [
    {
     "data": {
      "text/plain": [
       "array([[ 1],\n",
       "       [ 3],\n",
       "       [ 5],\n",
       "       [ 7],\n",
       "       [ 8],\n",
       "       [10]])"
      ]
     },
     "execution_count": 17,
     "metadata": {},
     "output_type": "execute_result"
    }
   ],
   "source": [
    "(h-y)"
   ]
  },
  {
   "cell_type": "code",
   "execution_count": 18,
   "metadata": {},
   "outputs": [
    {
     "data": {
      "text/plain": [
       "array([[ 1,  0,  0],\n",
       "       [ 3,  3,  3],\n",
       "       [ 5, 10, 10],\n",
       "       [ 7, 21, 21],\n",
       "       [ 8, 32, 32],\n",
       "       [10, 50, 50]])"
      ]
     },
     "execution_count": 18,
     "metadata": {},
     "output_type": "execute_result"
    }
   ],
   "source": [
    "(h-y) * X"
   ]
  },
  {
   "cell_type": "code",
   "execution_count": 19,
   "metadata": {},
   "outputs": [
    {
     "data": {
      "text/plain": [
       "array([ 34, 116, 116])"
      ]
     },
     "execution_count": 19,
     "metadata": {},
     "output_type": "execute_result"
    }
   ],
   "source": [
    "np.sum(X * (h-y), axis=0)"
   ]
  },
  {
   "cell_type": "code",
   "execution_count": 20,
   "metadata": {},
   "outputs": [
    {
     "data": {
      "text/plain": [
       "array([ True,  True,  True,  True,  True,  True])"
      ]
     },
     "execution_count": 20,
     "metadata": {},
     "output_type": "execute_result"
    }
   ],
   "source": [
    "X[:,0] == np.ones(6)"
   ]
  },
  {
   "cell_type": "code",
   "execution_count": 24,
   "metadata": {},
   "outputs": [],
   "source": [
    "class myRegression():\n",
    "    def __init__(self,X_train, y_train):\n",
    "        self.m, self.n = X_train.shape\n",
    "        self.n += 1 # Add one for x_0 column \n",
    "        \n",
    "        self.X_train = np.hstack((np.ones((self.m,1)), X_train))\n",
    "        self.y_train = y_train.reshape((self.m,1))\n",
    "        self.W = np.random.randn(self.n,1)\n",
    "        print(self.W)\n",
    "            \n",
    "    def cost(self):\n",
    "        h = self.X_train.dot(self.W)\n",
    "        return np.sum(np.power(h-self.y_train,2))/ (2*self.m)\n",
    "\n",
    "    def derivative(self):\n",
    "        h = self.X_train.dot(self.W)  \n",
    "        derivative = np.sum(self.X_train * (h-self.y_train), axis=0)/ self.m\n",
    "        return derivative.reshape(self.W.shape)\n",
    "\n",
    "    def gradient_descent(self, alpha = 0.05, number_steps = 100):\n",
    "        for i in range(number_steps):\n",
    "            self.W = self.W - alpha * self.derivative()\n",
    "        return self.W\n",
    "    \n",
    "    def predict(self, X_test):\n",
    "        m, n = X_test.shape\n",
    "        X_test = np.hstack((np.ones((m,1)), X_test))\n",
    "        return X_test.dot(self.W)\n",
    "    \n",
    "    def fit(self):\n",
    "        self.W = self.gradient_descent()"
   ]
  },
  {
   "cell_type": "code",
   "execution_count": 25,
   "metadata": {},
   "outputs": [
    {
     "name": "stdout",
     "output_type": "stream",
     "text": [
      "[[1.67890978]\n",
      " [0.51569457]]\n"
     ]
    },
    {
     "data": {
      "text/plain": [
       "array([[ 34615.426418  ],\n",
       "       [128920.45396281],\n",
       "       [ 62478.27546533],\n",
       "       [ 60334.97938477],\n",
       "       [120347.26964055],\n",
       "       [111774.0853183 ],\n",
       "       [121418.91768084],\n",
       "       [ 61406.62742505],\n",
       "       [ 75338.05194871],\n",
       "       [103200.90099604]])"
      ]
     },
     "execution_count": 25,
     "metadata": {},
     "output_type": "execute_result"
    }
   ],
   "source": [
    "me = myRegression(X_train, y_train)\n",
    "me.fit()\n",
    "me.predict(X_test)"
   ]
  },
  {
   "cell_type": "code",
   "execution_count": 26,
   "metadata": {},
   "outputs": [
    {
     "name": "stdout",
     "output_type": "stream",
     "text": [
      "[[-0.6142278 ]\n",
      " [ 0.07306758]]\n"
     ]
    },
    {
     "data": {
      "image/png": "[encoded data removed]",
      "text/plain": [
       "<matplotlib.figure.Figure at 0x1a1c53c320>"
      ]
     },
     "metadata": {},
     "output_type": "display_data"
    }
   ],
   "source": [
    "# Importing the libraries\n",
    "import numpy as np\n",
    "import matplotlib.pyplot as plt\n",
    "%matplotlib inline  \n",
    "import pandas as pd\n",
    "from sklearn.cross_validation import train_test_split\n",
    "from sklearn.linear_model import LinearRegression\n",
    "\n",
    "# Importing the dataset from the url\n",
    "url = 'https://raw.githubusercontent.com/uzay00/KaVe/master/Ders2/data/Salary_Data.csv'\n",
    "data = pd.read_csv(url)\n",
    "X = data.iloc[:, :-1].values\n",
    "y = data.iloc[:, -1].values\n",
    "\n",
    "# Split dataset into train ab=nd test sets\n",
    "X_train, X_test, y_train, t_test = train_test_split(X,y,test_size = 1/3, random_state = 0)\n",
    "\n",
    "\n",
    "############################################################\n",
    "# fit simple linear regression model to the data\n",
    "lr = LinearRegression()\n",
    "lr.fit(X_train, y_train)\n",
    "# make predicitions\n",
    "y_pred = lr.predict(X_test)\n",
    "############################################################\n",
    "# fit simple linear regression model to the data\n",
    "mr = myRegression(X_train, y_train)\n",
    "mr.fit()\n",
    "# make predicitions\n",
    "y_mr_pred = mr.predict(X_test)\n",
    "############################################################\n",
    "\n",
    "# Plot\n",
    "plt.scatter(X_train, y_train, color = 'red')\n",
    "plt.plot(X_train, lr.predict(X_train), color = 'blue')\n",
    "plt.plot(X_train, mr.predict(X_train), color = 'green')\n",
    "plt.title('Experience vs Salary'); plt.xlabel('Years of Experience');plt.ylabel('Salary');\n",
    "plt.legend((\"Sklearn-LR\", \"My Regression\"))\n",
    "plt.grid()"
   ]
  }
 ],
 "metadata": {
  "kernelspec": {
   "display_name": "Python 3",
   "language": "python",
   "name": "python3"
  },
  "language_info": {
   "codemirror_mode": {
    "name": "ipython",
    "version": 3
   },
   "file_extension": ".py",
   "mimetype": "text/x-python",
   "name": "python",
   "nbconvert_exporter": "python",
   "pygments_lexer": "ipython3",
   "version": "3.6.4"
  }
 },
 "nbformat": 4,
 "nbformat_minor": 2
}
