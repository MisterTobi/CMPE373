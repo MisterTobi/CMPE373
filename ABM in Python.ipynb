{
 "cells": [
  {
   "cell_type": "markdown",
   "metadata": {},
   "source": [
    "Source: [link](https://multithreaded.stitchfix.com/blog/2016/04/19/agent-based-modeling/)\n",
    "\n",
    ">  The concept of agent based modeling maps very well to object-oriented programming: types of agents are classes, individual agents are objects which can have states (object variables) and response methods (object methods)."
   ]
  },
  {
   "cell_type": "code",
   "execution_count": 3,
   "metadata": {},
   "outputs": [],
   "source": [
    "# agent definitions\n",
    "class PingPongAgent():\n",
    "    def __init__(self, sound):\n",
    "        self.sound = sound\n",
    "\n",
    "    def respond(self,msg):\n",
    "        if msg == 'hit_it':\n",
    "            return self.sound\n",
    "        return None\n",
    "\n",
    "\n",
    "# model definition\n",
    "class PingPongModel():\n",
    "    def __init__(self):\n",
    "        self.current_turn = 0\n",
    "        self.agents = []\n",
    "        for agent_sound in ['ping','pong']:\n",
    "            self.agents.append(PingPongAgent(agent_sound))\n",
    "\n",
    "    def simulate_timestep(self):\n",
    "        output = self.agents[self.current_turn].respond('hit_it')\n",
    "        self.current_turn += 1\n",
    "        if self.current_turn >= len(self.agents):\n",
    "            self.current_turn = 0\n",
    "        return output"
   ]
  },
  {
   "cell_type": "code",
   "execution_count": 6,
   "metadata": {},
   "outputs": [
    {
     "name": "stdout",
     "output_type": "stream",
     "text": [
      "ping\n",
      "pong\n",
      "ping\n",
      "pong\n",
      "ping\n"
     ]
    }
   ],
   "source": [
    "model1 = PingPongModel()\n",
    "\n",
    "for i in range(5):\n",
    "    print(model1.simulate_timestep())"
   ]
  },
  {
   "cell_type": "markdown",
   "metadata": {},
   "source": [
    "## Multiprocessing \n",
    "> This is an essential step in moving toward distributed computing for models with hundreds, thousands or even millions of agents."
   ]
  },
  {
   "cell_type": "code",
   "execution_count": 7,
   "metadata": {},
   "outputs": [],
   "source": [
    "import multiprocessing\n",
    "import random\n",
    "random.seed(0)\n",
    "\n",
    "class PingPongAgent(multiprocessing.Process):\n",
    "    def __init__(self, msg_pipe, sound):\n",
    "        super(PingPongAgent, self).__init__()\n",
    "        self.msg_pipe = msg_pipe\n",
    "        self.sound = sound\n",
    "\n",
    "    def run(self):\n",
    "        running = True\n",
    "        while running:\n",
    "            msg = self.msg_pipe.recv()\n",
    "            if msg == 'stop':\n",
    "                running = False\n",
    "            if msg == 'hit_it':\n",
    "                self.msg_pipe.send(self.sound)\n",
    "\n",
    "\n",
    "# model definition\n",
    "class PingPongModel():\n",
    "    def __init__(self):\n",
    "        self.current_turn = 0\n",
    "        self.agents = []\n",
    "        self.msg_pipes_to_agents = []\n",
    "        for agent_sound in ['ping','pong','punt','pass','play']:\n",
    "            parent_conn, child_conn = multiprocessing.Pipe()\n",
    "            self.msg_pipes_to_agents.append(parent_conn)\n",
    "            p = PingPongAgent(child_conn, agent_sound)\n",
    "            self.agents.append(p)\n",
    "            p.start()\n",
    "\n",
    "    def simulate_timestep(self):\n",
    "        this_turn = random.sample(range(len(self.agents)), \n",
    "                                  int(random.uniform(0,len(self.agents))))\n",
    "        for i in this_turn:\n",
    "            self.msg_pipes_to_agents[i].send('hit_it')\n",
    "        output = []\n",
    "        for i in this_turn:\n",
    "            output.append( self.msg_pipes_to_agents[i].recv() )\n",
    "        return output\n",
    "\n",
    "    def terminate_simulation(self):\n",
    "        for i,a in enumerate(self.agents):\n",
    "            self.msg_pipes_to_agents[i].send('stop')\n",
    "            self.msg_pipes_to_agents[i].close()\n",
    "            a.join()\n"
   ]
  },
  {
   "cell_type": "code",
   "execution_count": 8,
   "metadata": {},
   "outputs": [
    {
     "name": "stdout",
     "output_type": "stream",
     "text": [
      "['pass', 'ping', 'pong', 'punt']\n",
      "['punt', 'pass']\n",
      "['pong']\n",
      "['punt', 'pong']\n",
      "['play', 'punt', 'pass']\n"
     ]
    }
   ],
   "source": [
    "model1 = PingPongModel()\n",
    "\n",
    "for i in range(5):\n",
    "    print(model1.simulate_timestep())"
   ]
  },
  {
   "cell_type": "code",
   "execution_count": null,
   "metadata": {},
   "outputs": [],
   "source": []
  },
  {
   "cell_type": "code",
   "execution_count": null,
   "metadata": {},
   "outputs": [],
   "source": []
  },
  {
   "cell_type": "code",
   "execution_count": null,
   "metadata": {},
   "outputs": [],
   "source": []
  },
  {
   "cell_type": "markdown",
   "metadata": {},
   "source": [
    "Source: [link](http://ysar.net/python/threading-vs-multiprocessing.html)"
   ]
  },
  {
   "cell_type": "code",
   "execution_count": 10,
   "metadata": {},
   "outputs": [
    {
     "name": "stdout",
     "output_type": "stream",
     "text": [
      "4 başvurusu kabul edildi.\n",
      "3 başvurusu kabul edildi.\n",
      "1 başvurusu reddedildi.\n",
      "0 başvurusu kabul edildi.\n",
      "2 başvurusu kabul edildi.\n",
      "0 başvurusu kabul edildi.\n",
      "1 başvurusu reddedildi.\n",
      "2 başvurusu kabul edildi.\n",
      "3 başvurusu kabul edildi.\n",
      "4 başvurusu kabul edildi.\n"
     ]
    }
   ],
   "source": [
    "from threading import Thread\n",
    "from random import randint\n",
    "from time import sleep\n",
    "\n",
    "def basvuru(basvuru_id):\n",
    "    sleep(randint(0,60))\n",
    "    if randint(0,1):\n",
    "        print(\"%i başvurusu kabul edildi.\" % basvuru_id)\n",
    "    else:\n",
    "        print(\"%i başvurusu reddedildi.\" % basvuru_id)\n",
    "\n",
    "\n",
    "for i in range(5):\n",
    "    Thread(target=basvuru, args=(i,)).start()"
   ]
  },
  {
   "cell_type": "code",
   "execution_count": 11,
   "metadata": {},
   "outputs": [
    {
     "name": "stdout",
     "output_type": "stream",
     "text": [
      "hell-o\n"
     ]
    }
   ],
   "source": [
    "print('hell-o')"
   ]
  },
  {
   "cell_type": "code",
   "execution_count": 14,
   "metadata": {},
   "outputs": [
    {
     "name": "stdout",
     "output_type": "stream",
     "text": [
      "<map object at 0x1097446a0>\n",
      "27670539145\n"
     ]
    }
   ],
   "source": [
    "from multiprocessing import Pool\n",
    "from math import sqrt, floor\n",
    "\n",
    "\n",
    "def asal_mi(sayi):\n",
    "    \"sayı asal mı?\"\n",
    "    if sayi < 2:\n",
    "        raise ValueError(\"Sayi ikiden buyuk olmalidir.\")\n",
    "\n",
    "    if sayi == 2:\n",
    "        return True\n",
    "\n",
    "    if sayi % 2 == 0:\n",
    "        return False\n",
    "\n",
    "    bolunecekler = range(3, int(sqrt(sayi)),2)\n",
    "\n",
    "    for b in bolunecekler:\n",
    "        if sayi % b == 0:\n",
    "            return False\n",
    "\n",
    "    return True\n",
    "\n",
    "\n",
    "def sayilar_asal_mi(sayilar):\n",
    "    \"Bir liste içindeki asalları döndür\"\n",
    "    return [x for x in sayilar if asal_mi(x)]\n",
    "\n",
    "\n",
    "if __name__ == \"__main__\": # Bunu yapmanız şart, şimdilik niye diye sormayın.\n",
    "    p = Pool(processes=4) # 4 işlemden oluşan işlemci havuzu oluştur\n",
    "\n",
    "    # İşleri işlemler arasında dağıt\n",
    "    sonuclar = p.map(sayilar_asal_mi, [ range(500000, 625000),\n",
    "                                   range(625000, 750000),\n",
    "                                   range(750000, 875000),\n",
    "                                   range(875000, 1000000) ] )\n",
    "\n",
    "    alt_toplamlar = map(sum, sonuclar) # Her listenin kendi toplamını al\n",
    "    print(alt_toplamlar)\n",
    "    print(sum(alt_toplamlar)) # tümünü topla"
   ]
  },
  {
   "cell_type": "code",
   "execution_count": null,
   "metadata": {},
   "outputs": [],
   "source": []
  }
 ],
 "metadata": {
  "kernelspec": {
   "display_name": "Python 3",
   "language": "python",
   "name": "python3"
  },
  "language_info": {
   "codemirror_mode": {
    "name": "ipython",
    "version": 3
   },
   "file_extension": ".py",
   "mimetype": "text/x-python",
   "name": "python",
   "nbconvert_exporter": "python",
   "pygments_lexer": "ipython3",
   "version": "3.6.7"
  }
 },
 "nbformat": 4,
 "nbformat_minor": 2
}
